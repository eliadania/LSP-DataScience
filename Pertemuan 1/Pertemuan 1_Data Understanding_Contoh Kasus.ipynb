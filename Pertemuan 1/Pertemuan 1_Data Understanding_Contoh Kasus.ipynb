{
 "cells": [
  {
   "cell_type": "markdown",
   "id": "30fce050",
   "metadata": {
    "id": "30fce050"
   },
   "source": [
    "<center>\n",
    "    <img src=\"https://drive.google.com/uc?export=view&id=1hDKusF04c0lNZA_qOShvWQrpImayVKz8\"  width=\"1000\" />\n",
    "</center>"
   ]
  },
  {
   "cell_type": "markdown",
   "id": "78957aef",
   "metadata": {
    "id": "78957aef"
   },
   "source": [
    "# Hands-On\n",
    "---\n",
    "Hands-On ini digunakan pada kegiatan Kursus Data Science yang merupakan pembekalan bagi mahasiswa Universitas Gunadarma untuk Skema Associate Data Scientist"
   ]
  },
  {
   "cell_type": "markdown",
   "id": "e1d3e6a4",
   "metadata": {
    "id": "e1d3e6a4"
   },
   "source": [
    "### Pertemuan 1 - Semester 7"
   ]
  },
  {
   "cell_type": "markdown",
   "id": "d4269619",
   "metadata": {
    "id": "d4269619"
   },
   "source": [
    "### Daftar Isi :\n",
    "1. Definisi Menelaah Data (Data Understanding)\n",
    "2. Sumber Data\n",
    "3. Tipe Data berdasarkan Susunan Data: Structured and Unstructured Data\n",
    "4. Tipe Data berdasarkan Sifat, Cara Pengumpulan, Waktu\n",
    "5. Metode Pengambilan Data\n",
    "6. Pencilan (Tukey's fences)"
   ]
  },
  {
   "cell_type": "markdown",
   "id": "caec2707",
   "metadata": {
    "id": "caec2707"
   },
   "source": [
    "<center>\n",
    "    <img src=\"https://www.researchgate.net/profile/David-Corrales-2/publication/283430974/figure/fig1/AS:614004070309903@1523401386613/phases-and-generic-tasks-of-CRISP-DM.png\"  width=\"500\" />\n",
    "</center>"
   ]
  },
  {
   "cell_type": "markdown",
   "id": "e8049275",
   "metadata": {
    "id": "e8049275"
   },
   "source": [
    "### 1. Definisi Menelaah Data (*Data Understanding*)\n",
    "----"
   ]
  },
  {
   "cell_type": "markdown",
   "id": "4310f023",
   "metadata": {
    "id": "4310f023"
   },
   "source": [
    "Secara garis besar, *data understanding* adalah tahapan setelah  setelah problem bisnis telah didefinisikan sebagai hasil tahapan *business understanding.\n",
    "\n",
    "Tahapan *data understanding* dilakukab untuk memeriksa data sehingga masalah pada data yang didapatkan dapat terindentifikasi.\n",
    "\n",
    "- Tujuan: mendapatkan gambaran utuh atas data.\n",
    "- Dilanjutkan ke persiapan data (data preparation), jika pemahaman awal data cukup atau kembali ke business understanding jika definisi permasalahan bisnis harus direvisi.\n"
   ]
  },
  {
   "cell_type": "markdown",
   "id": "53f77fca",
   "metadata": {
    "id": "53f77fca"
   },
   "source": [
    "#### 1.1 Mengapa Perlu Data Understanding?"
   ]
  },
  {
   "cell_type": "markdown",
   "id": "d6bc56a8",
   "metadata": {
    "id": "d6bc56a8"
   },
   "source": [
    "- Data merupakan bahan mentah solusi AI.\n",
    "- Data dari masing-masing sumber belum tentu dapat langsung dipakai karena:\n",
    "- Maksud dan tujuan data berbeda-beda\n",
    "- Keadaan asal terpisah-pisah atau justru terintegrasi secara ketat.\n",
    "- Tingkat kekayaan (richness) berbeda-beda\n",
    "- Tingkat keandalan (reliability) berbeda-beda\n",
    "- Data understanding memberikan gambaran awal tentang:\n",
    "    - Kekuatan data\n",
    "    - Kekurangan dan batasan penggunaan data\n",
    "    - Tingkat kesesuaian data dengan masalah bisnis yang akan dipecahkan\n",
    "    - Ketersediaan data (terbuka/tertutup, biaya akses, dsb.)\n",
    "\n"
   ]
  },
  {
   "cell_type": "markdown",
   "id": "7edd9a43",
   "metadata": {
    "id": "7edd9a43"
   },
   "source": [
    "### 2. Sumber Data\n",
    "----"
   ]
  },
  {
   "cell_type": "markdown",
   "id": "ad83f72d",
   "metadata": {
    "id": "ad83f72d"
   },
   "source": [
    "Sumber data terbagi menjadi dua yaitu sumber data *internal* dan *external* :\n",
    "1. Sumber Data *Internal*\n",
    "    - Spreadsheets (Excel, CSV, JSON, etc)\n",
    "    - Databases : Can be queried via SQL, etc\n",
    "    - Text documents\n",
    "    - Multimedia documents (audio & video)\n",
    "2. Sumber Data *External*\n",
    "    - Open data repositories\n",
    "    - Public domain web pages"
   ]
  },
  {
   "cell_type": "markdown",
   "id": "303f6330",
   "metadata": {
    "id": "303f6330"
   },
   "source": [
    "### 3. Tipe Data berdasarkan Susunan Data: Structured and Unstructured Data\n",
    "----"
   ]
  },
  {
   "cell_type": "markdown",
   "id": "9f70a607",
   "metadata": {
    "id": "9f70a607"
   },
   "source": [
    "<center>\n",
    "    <img src=\"https://drive.google.com/uc?export=view&id=1hsSAywFiHx_0nLIPx7s_8PFH5Uz46J9d\"\n",
    "    width=\"500\" />\n",
    "</center>"
   ]
  },
  {
   "cell_type": "markdown",
   "id": "36e8fe18",
   "metadata": {
    "id": "36e8fe18"
   },
   "source": [
    "Data semi-terstruktur (semi-structured data): Data terstruktur yang tidak mengikuti model struktur tabular yang seperti pada basis data relasional, namun tetap mengandung tags atau penanda lainnya yang dapat memisahkan elemen-elemen semantik pada data serta mengatur hierarki antara butir-butir datanya.\n"
   ]
  },
  {
   "cell_type": "markdown",
   "id": "7b96add8",
   "metadata": {
    "id": "7b96add8"
   },
   "source": [
    "### 4. Tipe Data berdasarkan Sifat, Cara Pengumpulan, Waktu\n",
    "------"
   ]
  },
  {
   "cell_type": "markdown",
   "id": "9547b8d0",
   "metadata": {
    "id": "9547b8d0"
   },
   "source": [
    "#### 4.1 Tipe Data Berdasarkan Sifatnya\n",
    "- Data dikotomi, merupakan data yang bersifat pilah satu sama lain, misalnya suku, agama, jenis kelamin, pendidikan, dan lain sebagainya.\n",
    "- Data diskrit, merupakan data yang proses pengumpulan datanya dijalankan dengan cara menghitung atau membilang. Seperti, jumlah anak, jumlah penduduk, jumlah kematian dan sebagainya.\n",
    "- Data kontinum, merupakan data pengumpulan datanya didapatkan dengan cara mengukur dengan alat ukur yang memakai skala tertentu. Seperti misalnya, Suhu, berat, bakat, kecerdasan, dan lainnya.\n"
   ]
  },
  {
   "cell_type": "markdown",
   "id": "8a5b8a73",
   "metadata": {
    "id": "8a5b8a73"
   },
   "source": [
    "#### 4.2 Tipe Data Tipe Data Berdasarkan Cara Pengumpulan\n",
    "- Data Primer, merupakan data yang didapatkan dari sumber pertama, atau dapat dikatakan pengumpulannya dilakukan sendiri oleh si peneliti secara langsung, seperti hasil wawancara dan hasil pengisian kuesioner (angket).\n",
    "- Data Sekunder, merupakan data yang didapatkan dari sumber kedua. Menurut Purwanto (2007), data sekunder yaitu data yang dikumpulkan oleh orang atau lembaga lain. Data sekunder adalah data yang digunakan atau diterbitkan oleh organisasi yang bukan pengolahnya (Soeratno dan Arsyad (2003;76).\n",
    "\n"
   ]
  },
  {
   "cell_type": "markdown",
   "id": "e3466701",
   "metadata": {
    "id": "e3466701"
   },
   "source": [
    "#### 4.3 Tipe Data Tipe Data Berdasarkan Waktu\n",
    "- Data Cross Section, merupakan data yang menunjukkan titik waktu tertentu. Contohnya laporan keuangan per 31 Desember 2020, data pelanggan PT. Data Indah bulan mei 2004, dan lain sebagainya.\n",
    "- Data Sekunder, merupakan data yang datanya menggambarkan sesuatu dari waktu ke waktu atau periode secara historis. Contoh data time series adalah data perkembangan nilai tukar dollar amerika terhadap rupiah tahun 2016 – 2020.\n",
    "\n"
   ]
  },
  {
   "cell_type": "markdown",
   "id": "6cc56866",
   "metadata": {
    "id": "6cc56866"
   },
   "source": [
    "### 5. Metode Pengambilan Data\n",
    "------"
   ]
  },
  {
   "cell_type": "markdown",
   "id": "69bbd574",
   "metadata": {
    "id": "69bbd574"
   },
   "source": [
    "Pengambilan data terbagi ke dalam beberapa jenis yaitu :\n",
    "- Pengambilan data secara manual.\n",
    "- Pengambilan data melalui API\n",
    "- Pengambilan data melalui web scraping\n",
    "- Pengambilan data melalui akses langsung ke basis data relasional yang ada.\n"
   ]
  },
  {
   "cell_type": "markdown",
   "id": "1ac38cf6",
   "metadata": {
    "id": "1ac38cf6"
   },
   "source": [
    "#### Contoh Scraping Data"
   ]
  },
  {
   "cell_type": "code",
   "execution_count": 1,
   "id": "0d4d24ca",
   "metadata": {
    "id": "0d4d24ca"
   },
   "outputs": [],
   "source": [
    "# Command untuk install\n",
    "# !pip install beautifulsoup4\n",
    "# !pip install requests\n",
    "# !pip install pandas"
   ]
  },
  {
   "cell_type": "code",
   "execution_count": 2,
   "id": "90bcc88c",
   "metadata": {
    "id": "90bcc88c"
   },
   "outputs": [],
   "source": [
    "# Library yang perlu diimport\n",
    "import requests\n",
    "from bs4 import BeautifulSoup\n",
    "import pandas as pd\n",
    "import csv"
   ]
  },
  {
   "cell_type": "code",
   "execution_count": 3,
   "id": "3f9a92e8",
   "metadata": {
    "id": "3f9a92e8",
    "outputId": "9369ae98-cea3-4bba-d5c1-df02e9b70ca0"
   },
   "outputs": [
    {
     "name": "stdout",
     "output_type": "stream",
     "text": [
      "Data saved to Contoh Kasus/news_data.csv\n"
     ]
    }
   ],
   "source": [
    "root = \"https://www.google.com\"\n",
    "link = \"https://www.google.com/search?sxsrf=APwXEdfNz7baeYYtxbpVLoqxqVjHOWxQfA:1685513097509&q=universitas+gunadarma&tbm=nws&sa=X&ved=2ahUKEwjQocPL8Z7_AhWH-jgGHcH-A1MQ0pQJegQICxAB&biw=1280&bih=648&dpr=1.5\"\n",
    "\n",
    "def news(link):\n",
    "    global root\n",
    "\n",
    "    session = requests.Session()\n",
    "    headers = {'User-Agent': 'Mozilla/5.0 (Windows NT 10.0; Win64; x64) AppleWebKit/537.36 (KHTML, like Gecko) Chrome/91.0.4472.124 Safari/537.36'}\n",
    "    response = session.get(link, headers=headers)\n",
    "    soup = BeautifulSoup(response.content, 'html.parser')\n",
    "\n",
    "    news_results = soup.find_all('div', attrs={'class': 'SoaBEf'})\n",
    "\n",
    "    # Membuat list kosong untuk menyimpan data\n",
    "    data = []\n",
    "\n",
    "    for item in news_results:\n",
    "        judul = item.find('div', attrs={'class': 'n0jPhd ynAwRc MBeuO nDgy9d'}).get_text()\n",
    "        penerbit = item.find('div', attrs={'class': 'MgUUmf NUnG9d'}).get_text()\n",
    "        deskripsi = item.find('div', attrs={'class': 'GI74Re nDgy9d'}).get_text()\n",
    "        waktu = item.find('div', attrs={'class': 'OSrXXb rbYSKb LfVVr'}).get_text()\n",
    "        link = item.find('a', class_='WlydOe')['href']\n",
    "\n",
    "        data.append({'Judul': judul, 'Penerbit': penerbit, 'Waktu': waktu, 'Link' : link})\n",
    "\n",
    "    next_page = soup.find('a', attrs={'id': 'pnnext'})\n",
    "\n",
    "    if next_page:\n",
    "        next_page_url = root + next_page['href']\n",
    "        data.extend(news(next_page_url))\n",
    "\n",
    "    return data\n",
    "\n",
    "data = news(link)\n",
    "\n",
    "# Save the data to a CSV file\n",
    "csv_file = 'Contoh Kasus/news_data.csv'\n",
    "csv_columns = ['Judul', 'Penerbit', 'Waktu', 'Link']\n",
    "with open(csv_file, 'w', newline='', encoding='utf-8') as file:\n",
    "    writer = csv.DictWriter(file, fieldnames=csv_columns)\n",
    "    writer.writeheader()\n",
    "    writer.writerows(data)\n",
    "\n",
    "print(\"Data saved to\", csv_file)\n"
   ]
  },
  {
   "cell_type": "markdown",
   "id": "1776025e",
   "metadata": {
    "id": "1776025e"
   },
   "source": [
    "Berikut ini adalah penjelasan langkah-langkah utama dalam kode tersebut:\n",
    "\n",
    "1. Mengimpor modul yang diperlukan:\n",
    "    - requests: Untuk melakukan permintaan HTTP ke halaman web.\n",
    "    - BeautifulSoup: Untuk memparsing dan mengekstraksi data dari halaman web.\n",
    "    - csv: Untuk menulis data ke dalam file CSV.\n",
    "\n",
    "<br>\n",
    "\n",
    "2. Mendefinisikan variabel root dan link:\n",
    "    - root adalah URL dasar untuk halaman Google.\n",
    "    - link adalah URL lengkap untuk halaman pencarian Google dengan kueri yang spesifik.\n",
    "    - Mendefinisikan fungsi news:\n",
    "\n",
    "<br><br>\n",
    "\n",
    "3. Fungsi ini mengambil argumen link yang merupakan URL halaman pencarian.\n",
    "    - Menggunakan requests untuk mengirim permintaan GET ke halaman tersebut.\n",
    "    - Menggunakan BeautifulSoup untuk memparsing halaman HTML dan mencari elemen-elemen berita yang diinginkan.\n",
    "    - Data berita kemudian diambil dan disimpan dalam bentuk dictionary dalam list data.\n",
    "        -Jika halaman tersebut memiliki halaman berikutnya, fungsi news akan memanggil dirinya sendiri secara rekursif untuk mengambil data dari halaman berikutnya.\n",
    "\n",
    "<br><br>\n",
    "\n",
    "4. Membuat variabel data dan menjalankan fungsi news:\n",
    "    - Variabel data awalnya didefinisikan sebagai list kosong.\n",
    "    - Fungsi news dipanggil dengan argumen link yang diberikan.\n",
    "    - Fungsi news akan mengisi data dengan data berita yang diambil dari halaman pencarian.\n",
    "    - Menyimpan data ke dalam file CSV:\n",
    "\n",
    "<br><br>\n",
    "\n",
    "5. Variabel csv_file berisi nama file untuk menyimpan data, yaitu 'news_data.csv'.\n",
    "    - Variabel csv_columns berisi daftar kolom yang akan ada di file CSV.\n",
    "    - Menggunakan pernyataan with open untuk membuka file CSV dalam mode penulisan ('w') dengan pengkodean UTF-8.\n",
    "    - Membuat objek writer dari kelas csv.DictWriter dan menulis header kolom ke file.\n",
    "    - Menggunakan metode writerows untuk menulis semua data yang ada di dalam data ke file CSV.\n",
    "    - Menampilkan pesan bahwa data telah disimpan ke dalam file CSV."
   ]
  },
  {
   "cell_type": "code",
   "execution_count": 4,
   "id": "baaef083",
   "metadata": {
    "id": "baaef083"
   },
   "outputs": [],
   "source": [
    "df = pd.read_csv(\"Contoh Kasus/news_data.csv\")"
   ]
  },
  {
   "cell_type": "code",
   "execution_count": 5,
   "id": "f69ea6c3-4cc7-4b17-b53a-63eaf8fad526",
   "metadata": {
    "id": "f69ea6c3-4cc7-4b17-b53a-63eaf8fad526",
    "outputId": "9716df65-7c61-4d42-e818-aa06c9239f39"
   },
   "outputs": [
    {
     "data": {
      "text/plain": [
       "(300, 4)"
      ]
     },
     "execution_count": 5,
     "metadata": {},
     "output_type": "execute_result"
    }
   ],
   "source": [
    "df.shape"
   ]
  },
  {
   "cell_type": "code",
   "execution_count": 6,
   "id": "2825864f-f223-46f7-951e-4e08ab130c48",
   "metadata": {
    "id": "2825864f-f223-46f7-951e-4e08ab130c48",
    "outputId": "2c1de718-1c11-457a-f1cf-73bbad5d87c3"
   },
   "outputs": [
    {
     "data": {
      "text/html": [
       "<div>\n",
       "<style scoped>\n",
       "    .dataframe tbody tr th:only-of-type {\n",
       "        vertical-align: middle;\n",
       "    }\n",
       "\n",
       "    .dataframe tbody tr th {\n",
       "        vertical-align: top;\n",
       "    }\n",
       "\n",
       "    .dataframe thead th {\n",
       "        text-align: right;\n",
       "    }\n",
       "</style>\n",
       "<table border=\"1\" class=\"dataframe\">\n",
       "  <thead>\n",
       "    <tr style=\"text-align: right;\">\n",
       "      <th></th>\n",
       "      <th>Judul</th>\n",
       "      <th>Penerbit</th>\n",
       "      <th>Waktu</th>\n",
       "      <th>Link</th>\n",
       "    </tr>\n",
       "  </thead>\n",
       "  <tbody>\n",
       "    <tr>\n",
       "      <th>0</th>\n",
       "      <td>[TRANSKRIP] Groundbreaking Gedung II Kampus Nu...</td>\n",
       "      <td>Presiden RI</td>\n",
       "      <td>5 hari yang lalu</td>\n",
       "      <td>https://www.presidenri.go.id/transkrip/groundb...</td>\n",
       "    </tr>\n",
       "    <tr>\n",
       "      <th>1</th>\n",
       "      <td>Menko PMK Dampingi Presiden Jokowi Resmikan Pe...</td>\n",
       "      <td>Liputan6.com</td>\n",
       "      <td>15 jam yang lalu</td>\n",
       "      <td>https://www.liputan6.com/news/read/5490982/men...</td>\n",
       "    </tr>\n",
       "    <tr>\n",
       "      <th>2</th>\n",
       "      <td>Groundbreaking Gedung II Kampus Nusantara Prog...</td>\n",
       "      <td>Sekretariat Kabinet</td>\n",
       "      <td>6 hari yang lalu</td>\n",
       "      <td>https://setkab.go.id/groundbreaking-gedung-ii-...</td>\n",
       "    </tr>\n",
       "    <tr>\n",
       "      <th>3</th>\n",
       "      <td>Diresmikan Jokowi, Universitas Gunadarma Mulai...</td>\n",
       "      <td>Property &amp; Bank</td>\n",
       "      <td>2 hari yang lalu</td>\n",
       "      <td>https://www.propertynbank.com/universitas-guna...</td>\n",
       "    </tr>\n",
       "    <tr>\n",
       "      <th>4</th>\n",
       "      <td>Jokowi Letakkan Batu Pertama Gedung II Kampus ...</td>\n",
       "      <td>detikcom</td>\n",
       "      <td>6 hari yang lalu</td>\n",
       "      <td>https://www.detik.com/edu/edutainment/d-710206...</td>\n",
       "    </tr>\n",
       "  </tbody>\n",
       "</table>\n",
       "</div>"
      ],
      "text/plain": [
       "                                               Judul             Penerbit  \\\n",
       "0  [TRANSKRIP] Groundbreaking Gedung II Kampus Nu...          Presiden RI   \n",
       "1  Menko PMK Dampingi Presiden Jokowi Resmikan Pe...         Liputan6.com   \n",
       "2  Groundbreaking Gedung II Kampus Nusantara Prog...  Sekretariat Kabinet   \n",
       "3  Diresmikan Jokowi, Universitas Gunadarma Mulai...      Property & Bank   \n",
       "4  Jokowi Letakkan Batu Pertama Gedung II Kampus ...             detikcom   \n",
       "\n",
       "              Waktu                                               Link  \n",
       "0  5 hari yang lalu  https://www.presidenri.go.id/transkrip/groundb...  \n",
       "1  15 jam yang lalu  https://www.liputan6.com/news/read/5490982/men...  \n",
       "2  6 hari yang lalu  https://setkab.go.id/groundbreaking-gedung-ii-...  \n",
       "3  2 hari yang lalu  https://www.propertynbank.com/universitas-guna...  \n",
       "4  6 hari yang lalu  https://www.detik.com/edu/edutainment/d-710206...  "
      ]
     },
     "execution_count": 6,
     "metadata": {},
     "output_type": "execute_result"
    }
   ],
   "source": [
    "df.head()"
   ]
  },
  {
   "cell_type": "code",
   "execution_count": 7,
   "id": "54c965cc",
   "metadata": {
    "id": "54c965cc",
    "outputId": "ea176ff4-1454-428e-e3fb-a21da2300197"
   },
   "outputs": [
    {
     "data": {
      "text/html": [
       "<div>\n",
       "<style scoped>\n",
       "    .dataframe tbody tr th:only-of-type {\n",
       "        vertical-align: middle;\n",
       "    }\n",
       "\n",
       "    .dataframe tbody tr th {\n",
       "        vertical-align: top;\n",
       "    }\n",
       "\n",
       "    .dataframe thead th {\n",
       "        text-align: right;\n",
       "    }\n",
       "</style>\n",
       "<table border=\"1\" class=\"dataframe\">\n",
       "  <thead>\n",
       "    <tr style=\"text-align: right;\">\n",
       "      <th></th>\n",
       "      <th>Judul</th>\n",
       "      <th>Penerbit</th>\n",
       "      <th>Waktu</th>\n",
       "      <th>Link</th>\n",
       "    </tr>\n",
       "  </thead>\n",
       "  <tbody>\n",
       "    <tr>\n",
       "      <th>0</th>\n",
       "      <td>[TRANSKRIP] Groundbreaking Gedung II Kampus Nu...</td>\n",
       "      <td>Presiden RI</td>\n",
       "      <td>5 hari yang lalu</td>\n",
       "      <td>https://www.presidenri.go.id/transkrip/groundb...</td>\n",
       "    </tr>\n",
       "    <tr>\n",
       "      <th>1</th>\n",
       "      <td>Menko PMK Dampingi Presiden Jokowi Resmikan Pe...</td>\n",
       "      <td>Liputan6.com</td>\n",
       "      <td>15 jam yang lalu</td>\n",
       "      <td>https://www.liputan6.com/news/read/5490982/men...</td>\n",
       "    </tr>\n",
       "    <tr>\n",
       "      <th>2</th>\n",
       "      <td>Groundbreaking Gedung II Kampus Nusantara Prog...</td>\n",
       "      <td>Sekretariat Kabinet</td>\n",
       "      <td>6 hari yang lalu</td>\n",
       "      <td>https://setkab.go.id/groundbreaking-gedung-ii-...</td>\n",
       "    </tr>\n",
       "    <tr>\n",
       "      <th>3</th>\n",
       "      <td>Diresmikan Jokowi, Universitas Gunadarma Mulai...</td>\n",
       "      <td>Property &amp; Bank</td>\n",
       "      <td>2 hari yang lalu</td>\n",
       "      <td>https://www.propertynbank.com/universitas-guna...</td>\n",
       "    </tr>\n",
       "    <tr>\n",
       "      <th>4</th>\n",
       "      <td>Jokowi Letakkan Batu Pertama Gedung II Kampus ...</td>\n",
       "      <td>detikcom</td>\n",
       "      <td>6 hari yang lalu</td>\n",
       "      <td>https://www.detik.com/edu/edutainment/d-710206...</td>\n",
       "    </tr>\n",
       "    <tr>\n",
       "      <th>...</th>\n",
       "      <td>...</td>\n",
       "      <td>...</td>\n",
       "      <td>...</td>\n",
       "      <td>...</td>\n",
       "    </tr>\n",
       "    <tr>\n",
       "      <th>295</th>\n",
       "      <td>Kemudahan Berkuliah dengan Beasiswa di Univers...</td>\n",
       "      <td>Okezone News</td>\n",
       "      <td>22 Sep 2020</td>\n",
       "      <td>https://news.okezone.com/read/2020/09/22/1/228...</td>\n",
       "    </tr>\n",
       "    <tr>\n",
       "      <th>296</th>\n",
       "      <td>Buntut Dugaan Pelecehan Berujung Persekusi di ...</td>\n",
       "      <td>Tribunnews.com</td>\n",
       "      <td>14 Des 2022</td>\n",
       "      <td>https://www.tribunnews.com/nasional/2022/12/14...</td>\n",
       "    </tr>\n",
       "    <tr>\n",
       "      <th>297</th>\n",
       "      <td>Viral Dosen Gunadarma Lakukan Pelecehan Seksua...</td>\n",
       "      <td>Viva</td>\n",
       "      <td>5 Agu 2022</td>\n",
       "      <td>https://www.viva.co.id/trending/1506246-viral-...</td>\n",
       "    </tr>\n",
       "    <tr>\n",
       "      <th>298</th>\n",
       "      <td>Pertengahan 2022, Univesitas Gunadarma Bakal B...</td>\n",
       "      <td>Industry.co.id</td>\n",
       "      <td>30 Des 2021</td>\n",
       "      <td>https://m.industry.co.id/read/100119/pertengah...</td>\n",
       "    </tr>\n",
       "    <tr>\n",
       "      <th>299</th>\n",
       "      <td>Mahasiswa Gundar Ungkap Detik-detik Dipersekus...</td>\n",
       "      <td>detikNews</td>\n",
       "      <td>22 Des 2022</td>\n",
       "      <td>https://news.detik.com/berita/d-6474537/mahasi...</td>\n",
       "    </tr>\n",
       "  </tbody>\n",
       "</table>\n",
       "<p>300 rows × 4 columns</p>\n",
       "</div>"
      ],
      "text/plain": [
       "                                                 Judul             Penerbit  \\\n",
       "0    [TRANSKRIP] Groundbreaking Gedung II Kampus Nu...          Presiden RI   \n",
       "1    Menko PMK Dampingi Presiden Jokowi Resmikan Pe...         Liputan6.com   \n",
       "2    Groundbreaking Gedung II Kampus Nusantara Prog...  Sekretariat Kabinet   \n",
       "3    Diresmikan Jokowi, Universitas Gunadarma Mulai...      Property & Bank   \n",
       "4    Jokowi Letakkan Batu Pertama Gedung II Kampus ...             detikcom   \n",
       "..                                                 ...                  ...   \n",
       "295  Kemudahan Berkuliah dengan Beasiswa di Univers...         Okezone News   \n",
       "296  Buntut Dugaan Pelecehan Berujung Persekusi di ...       Tribunnews.com   \n",
       "297  Viral Dosen Gunadarma Lakukan Pelecehan Seksua...                 Viva   \n",
       "298  Pertengahan 2022, Univesitas Gunadarma Bakal B...       Industry.co.id   \n",
       "299  Mahasiswa Gundar Ungkap Detik-detik Dipersekus...            detikNews   \n",
       "\n",
       "                Waktu                                               Link  \n",
       "0    5 hari yang lalu  https://www.presidenri.go.id/transkrip/groundb...  \n",
       "1    15 jam yang lalu  https://www.liputan6.com/news/read/5490982/men...  \n",
       "2    6 hari yang lalu  https://setkab.go.id/groundbreaking-gedung-ii-...  \n",
       "3    2 hari yang lalu  https://www.propertynbank.com/universitas-guna...  \n",
       "4    6 hari yang lalu  https://www.detik.com/edu/edutainment/d-710206...  \n",
       "..                ...                                                ...  \n",
       "295       22 Sep 2020  https://news.okezone.com/read/2020/09/22/1/228...  \n",
       "296       14 Des 2022  https://www.tribunnews.com/nasional/2022/12/14...  \n",
       "297        5 Agu 2022  https://www.viva.co.id/trending/1506246-viral-...  \n",
       "298       30 Des 2021  https://m.industry.co.id/read/100119/pertengah...  \n",
       "299       22 Des 2022  https://news.detik.com/berita/d-6474537/mahasi...  \n",
       "\n",
       "[300 rows x 4 columns]"
      ]
     },
     "execution_count": 7,
     "metadata": {},
     "output_type": "execute_result"
    }
   ],
   "source": [
    "df.iloc[:,:]"
   ]
  },
  {
   "cell_type": "code",
   "execution_count": 8,
   "id": "455c3aea-d942-48c2-87a3-27b36dbe05e4",
   "metadata": {
    "id": "455c3aea-d942-48c2-87a3-27b36dbe05e4",
    "outputId": "0047d331-6669-443d-8e0c-246b3214cae9"
   },
   "outputs": [
    {
     "data": {
      "text/plain": [
       "Judul       [TRANSKRIP] Groundbreaking Gedung II Kampus Nu...\n",
       "Penerbit                                          Presiden RI\n",
       "Waktu                                        5 hari yang lalu\n",
       "Link        https://www.presidenri.go.id/transkrip/groundb...\n",
       "Name: 0, dtype: object"
      ]
     },
     "execution_count": 8,
     "metadata": {},
     "output_type": "execute_result"
    }
   ],
   "source": [
    "df.iloc[0,:]"
   ]
  },
  {
   "cell_type": "markdown",
   "id": "ac93c972",
   "metadata": {
    "id": "ac93c972"
   },
   "source": [
    "#### Memuat Data"
   ]
  },
  {
   "cell_type": "markdown",
   "id": "d56a1100-6102-4f9a-ba0c-ab3f8bccacaf",
   "metadata": {
    "id": "d56a1100-6102-4f9a-ba0c-ab3f8bccacaf"
   },
   "source": [
    "Dataset yang digunakan pada kegiatan Kursus Data Science yang merupakan pembekalan bagi mahasiswa Universitas Gunadarma untuk Skema Associate Data Scientist merupakan kumpulan dari informasi penerbangan beberapa maskapai dengan detail penjelasan kolom sebagai berikut :"
   ]
  },
  {
   "cell_type": "markdown",
   "id": "bd186ecb-7c86-4a99-a632-24bd6ebb90a1",
   "metadata": {
    "id": "bd186ecb-7c86-4a99-a632-24bd6ebb90a1"
   },
   "source": [
    "1. Kolom Flight -> ID flight / penerbangan\n",
    "2. Kolom Time -> Waktu keberangkatan dalam format menit dalam 24 jam\n",
    "    - Contoh : 870 -> 14.30\n",
    "3. Kolom Length -> Durasi penerbangan dalam format menit\n",
    "4. Kolom Airline -> Kode dari setiap maskapai\n",
    "5. Kolom AirportFrom -> Kode dari bandara keberangkatan\n",
    "6. Kolom AirportTo -> Kode dari bandara tujuan\n",
    "7. Kolom DayOfWeek -> Hari dalam seminggu (1 = Senin, 2 = Selasa, dst)\n",
    "8. Kolom Class -> Kategori penerbangan tersebut delay (1) atau tidak delay (0)"
   ]
  },
  {
   "cell_type": "code",
   "execution_count": 9,
   "id": "3f234ba6",
   "metadata": {
    "id": "3f234ba6"
   },
   "outputs": [],
   "source": [
    "## Import Library\n",
    "import pandas as pd"
   ]
  },
  {
   "cell_type": "code",
   "execution_count": 10,
   "id": "4864dcd9",
   "metadata": {
    "id": "4864dcd9"
   },
   "outputs": [],
   "source": [
    "## Memuat data dengan format csv\n",
    "df_csv = pd.read_csv(\"Contoh Kasus/delay_maskapai.csv\")"
   ]
  },
  {
   "cell_type": "code",
   "execution_count": 11,
   "id": "bc90cc79",
   "metadata": {
    "id": "bc90cc79",
    "outputId": "fdaffdc6-5b48-40ea-9a82-8e86b9525b33"
   },
   "outputs": [
    {
     "data": {
      "text/html": [
       "<div>\n",
       "<style scoped>\n",
       "    .dataframe tbody tr th:only-of-type {\n",
       "        vertical-align: middle;\n",
       "    }\n",
       "\n",
       "    .dataframe tbody tr th {\n",
       "        vertical-align: top;\n",
       "    }\n",
       "\n",
       "    .dataframe thead th {\n",
       "        text-align: right;\n",
       "    }\n",
       "</style>\n",
       "<table border=\"1\" class=\"dataframe\">\n",
       "  <thead>\n",
       "    <tr style=\"text-align: right;\">\n",
       "      <th></th>\n",
       "      <th>Flight</th>\n",
       "      <th>Time</th>\n",
       "      <th>Length</th>\n",
       "      <th>Airline</th>\n",
       "      <th>AirportFrom</th>\n",
       "      <th>AirportTo</th>\n",
       "      <th>DayOfWeek</th>\n",
       "      <th>Class</th>\n",
       "    </tr>\n",
       "  </thead>\n",
       "  <tbody>\n",
       "    <tr>\n",
       "      <th>0</th>\n",
       "      <td>320.0</td>\n",
       "      <td>870.0</td>\n",
       "      <td>180.0</td>\n",
       "      <td>CO</td>\n",
       "      <td>IAH</td>\n",
       "      <td>PHX</td>\n",
       "      <td>5</td>\n",
       "      <td>0</td>\n",
       "    </tr>\n",
       "    <tr>\n",
       "      <th>1</th>\n",
       "      <td>3045.0</td>\n",
       "      <td>365.0</td>\n",
       "      <td>66.0</td>\n",
       "      <td>OO</td>\n",
       "      <td>DSM</td>\n",
       "      <td>MKE</td>\n",
       "      <td>2</td>\n",
       "      <td>0</td>\n",
       "    </tr>\n",
       "    <tr>\n",
       "      <th>2</th>\n",
       "      <td>1560.0</td>\n",
       "      <td>740.0</td>\n",
       "      <td>257.0</td>\n",
       "      <td>DL</td>\n",
       "      <td>SEA</td>\n",
       "      <td>CVG</td>\n",
       "      <td>7</td>\n",
       "      <td>0</td>\n",
       "    </tr>\n",
       "    <tr>\n",
       "      <th>3</th>\n",
       "      <td>1156.0</td>\n",
       "      <td>595.0</td>\n",
       "      <td>235.0</td>\n",
       "      <td>WN</td>\n",
       "      <td>SNA</td>\n",
       "      <td>MDW</td>\n",
       "      <td>7</td>\n",
       "      <td>1</td>\n",
       "    </tr>\n",
       "    <tr>\n",
       "      <th>4</th>\n",
       "      <td>1873.0</td>\n",
       "      <td>530.0</td>\n",
       "      <td>133.0</td>\n",
       "      <td>CO</td>\n",
       "      <td>IAH</td>\n",
       "      <td>MCO</td>\n",
       "      <td>6</td>\n",
       "      <td>1</td>\n",
       "    </tr>\n",
       "  </tbody>\n",
       "</table>\n",
       "</div>"
      ],
      "text/plain": [
       "   Flight   Time  Length Airline AirportFrom AirportTo  DayOfWeek  Class\n",
       "0   320.0  870.0   180.0      CO         IAH       PHX          5      0\n",
       "1  3045.0  365.0    66.0      OO         DSM       MKE          2      0\n",
       "2  1560.0  740.0   257.0      DL         SEA       CVG          7      0\n",
       "3  1156.0  595.0   235.0      WN         SNA       MDW          7      1\n",
       "4  1873.0  530.0   133.0      CO         IAH       MCO          6      1"
      ]
     },
     "execution_count": 11,
     "metadata": {},
     "output_type": "execute_result"
    }
   ],
   "source": [
    "# Menampilkan 5 baris pertama dataset\n",
    "df_csv.head()"
   ]
  },
  {
   "cell_type": "code",
   "execution_count": 12,
   "id": "a7f9644e-8377-4ba7-9e7f-5d117af32054",
   "metadata": {
    "id": "a7f9644e-8377-4ba7-9e7f-5d117af32054",
    "outputId": "8abdc75f-501a-467b-ee6f-92c532e51f59"
   },
   "outputs": [],
   "source": [
    "# Install library openpyxl\n",
    "# !pip install openpyx"
   ]
  },
  {
   "cell_type": "code",
   "execution_count": 13,
   "id": "9411aa8b",
   "metadata": {
    "id": "9411aa8b"
   },
   "outputs": [],
   "source": [
    "# Memuat data dengan format excel\n",
    "df_excel = pd.read_excel(\"Contoh Kasus/delay_maskapai.xlsx\")"
   ]
  },
  {
   "cell_type": "code",
   "execution_count": 14,
   "id": "600df3ba",
   "metadata": {
    "id": "600df3ba",
    "outputId": "0da5e3d8-a672-490d-c224-233c0f6378fd"
   },
   "outputs": [
    {
     "data": {
      "text/html": [
       "<div>\n",
       "<style scoped>\n",
       "    .dataframe tbody tr th:only-of-type {\n",
       "        vertical-align: middle;\n",
       "    }\n",
       "\n",
       "    .dataframe tbody tr th {\n",
       "        vertical-align: top;\n",
       "    }\n",
       "\n",
       "    .dataframe thead th {\n",
       "        text-align: right;\n",
       "    }\n",
       "</style>\n",
       "<table border=\"1\" class=\"dataframe\">\n",
       "  <thead>\n",
       "    <tr style=\"text-align: right;\">\n",
       "      <th></th>\n",
       "      <th>Flight</th>\n",
       "      <th>Time</th>\n",
       "      <th>Length</th>\n",
       "      <th>Airline</th>\n",
       "      <th>AirportFrom</th>\n",
       "      <th>AirportTo</th>\n",
       "      <th>DayOfWeek</th>\n",
       "      <th>Class</th>\n",
       "    </tr>\n",
       "  </thead>\n",
       "  <tbody>\n",
       "    <tr>\n",
       "      <th>0</th>\n",
       "      <td>320</td>\n",
       "      <td>870</td>\n",
       "      <td>180</td>\n",
       "      <td>CO</td>\n",
       "      <td>IAH</td>\n",
       "      <td>PHX</td>\n",
       "      <td>5</td>\n",
       "      <td>0</td>\n",
       "    </tr>\n",
       "    <tr>\n",
       "      <th>1</th>\n",
       "      <td>3045</td>\n",
       "      <td>365</td>\n",
       "      <td>66</td>\n",
       "      <td>OO</td>\n",
       "      <td>DSM</td>\n",
       "      <td>MKE</td>\n",
       "      <td>2</td>\n",
       "      <td>0</td>\n",
       "    </tr>\n",
       "    <tr>\n",
       "      <th>2</th>\n",
       "      <td>1560</td>\n",
       "      <td>740</td>\n",
       "      <td>257</td>\n",
       "      <td>DL</td>\n",
       "      <td>SEA</td>\n",
       "      <td>CVG</td>\n",
       "      <td>7</td>\n",
       "      <td>0</td>\n",
       "    </tr>\n",
       "    <tr>\n",
       "      <th>3</th>\n",
       "      <td>1156</td>\n",
       "      <td>595</td>\n",
       "      <td>235</td>\n",
       "      <td>WN</td>\n",
       "      <td>SNA</td>\n",
       "      <td>MDW</td>\n",
       "      <td>7</td>\n",
       "      <td>1</td>\n",
       "    </tr>\n",
       "    <tr>\n",
       "      <th>4</th>\n",
       "      <td>1873</td>\n",
       "      <td>530</td>\n",
       "      <td>133</td>\n",
       "      <td>CO</td>\n",
       "      <td>IAH</td>\n",
       "      <td>MCO</td>\n",
       "      <td>6</td>\n",
       "      <td>1</td>\n",
       "    </tr>\n",
       "  </tbody>\n",
       "</table>\n",
       "</div>"
      ],
      "text/plain": [
       "   Flight  Time  Length Airline AirportFrom AirportTo  DayOfWeek  Class\n",
       "0     320   870     180      CO         IAH       PHX          5      0\n",
       "1    3045   365      66      OO         DSM       MKE          2      0\n",
       "2    1560   740     257      DL         SEA       CVG          7      0\n",
       "3    1156   595     235      WN         SNA       MDW          7      1\n",
       "4    1873   530     133      CO         IAH       MCO          6      1"
      ]
     },
     "execution_count": 14,
     "metadata": {},
     "output_type": "execute_result"
    }
   ],
   "source": [
    "# Menampilkan 5 baris pertama dataset\n",
    "df_excel.head()"
   ]
  },
  {
   "cell_type": "markdown",
   "id": "40369b8f",
   "metadata": {
    "id": "40369b8f"
   },
   "source": [
    "### 6. Pencilan (Tukey's fences)\n",
    "---"
   ]
  },
  {
   "cell_type": "markdown",
   "id": "6865a2ff",
   "metadata": {
    "id": "6865a2ff"
   },
   "source": [
    "<center>\n",
    "    <img src=\"https://pbs.twimg.com/media/E1g1k9oVoAEU9qa?format=jpg&name=900x900\"\n",
    "    width=\"500\" />\n",
    "</center>"
   ]
  },
  {
   "cell_type": "markdown",
   "id": "9cb9e194",
   "metadata": {
    "id": "9cb9e194"
   },
   "source": [
    "Tukey's fences memakai rentang antarkuartil (interquartile range) -> IQR = Q3-Q1\n",
    "- Xi adalah pencilan jika Xi < Q1 - 1.5(IQR) atau Xi > Q3 + 1.5(IQR)\n",
    "- Xi adalah pencilan ekstrim jika Xi < Q1 - 3(IQR) atau Xi > Q3 + 3(IQR)"
   ]
  },
  {
   "cell_type": "code",
   "execution_count": 15,
   "id": "30a95fd7",
   "metadata": {
    "id": "30a95fd7"
   },
   "outputs": [],
   "source": [
    "# Import Library\n",
    "import pandas as pd\n",
    "import warnings\n",
    "warnings.filterwarnings(\"ignore\")"
   ]
  },
  {
   "cell_type": "code",
   "execution_count": 16,
   "id": "fa06c3b2",
   "metadata": {
    "id": "fa06c3b2"
   },
   "outputs": [],
   "source": [
    "## Memuat data\n",
    "df = pd.read_csv(\"Contoh Kasus/delay_maskapai.csv\")"
   ]
  },
  {
   "cell_type": "code",
   "execution_count": 17,
   "id": "596db170",
   "metadata": {
    "id": "596db170",
    "outputId": "c313b40a-ae5d-4dbe-f5a9-4e1db0dd462f"
   },
   "outputs": [
    {
     "data": {
      "text/plain": [
       "Flight       3065.5\n",
       "Time          468.0\n",
       "Length         83.0\n",
       "DayOfWeek       3.0\n",
       "Class           1.0\n",
       "dtype: float64"
      ]
     },
     "execution_count": 17,
     "metadata": {},
     "output_type": "execute_result"
    }
   ],
   "source": [
    "q1 = df.select_dtypes(exclude=['object']).quantile (0.25)\n",
    "q3 = df.select_dtypes(exclude=['object']).quantile (0.75)\n",
    "iqr = q3-q1\n",
    "iqr"
   ]
  },
  {
   "cell_type": "markdown",
   "id": "19052c0b",
   "metadata": {
    "id": "19052c0b"
   },
   "source": [
    "## Contoh Kasus Menelaah Data"
   ]
  },
  {
   "cell_type": "markdown",
   "id": "105faada",
   "metadata": {
    "id": "105faada"
   },
   "source": [
    "### Import Library & Load Dataset"
   ]
  },
  {
   "cell_type": "code",
   "execution_count": 18,
   "id": "eda21257",
   "metadata": {
    "id": "eda21257"
   },
   "outputs": [],
   "source": [
    "import pandas as pd"
   ]
  },
  {
   "cell_type": "code",
   "execution_count": 19,
   "id": "5cf8c0b9",
   "metadata": {
    "id": "5cf8c0b9"
   },
   "outputs": [],
   "source": [
    "## Memuat Data\n",
    "df = pd.read_csv('Contoh Kasus/delay_maskapai.csv')"
   ]
  },
  {
   "cell_type": "markdown",
   "id": "83058481",
   "metadata": {
    "id": "83058481"
   },
   "source": [
    "### Menelaah Data dengan Metode Statistik"
   ]
  },
  {
   "cell_type": "code",
   "execution_count": 20,
   "id": "0c5179ca",
   "metadata": {
    "id": "0c5179ca",
    "outputId": "6e3fc959-a139-45eb-ce64-e8f01078e9c2"
   },
   "outputs": [
    {
     "data": {
      "text/html": [
       "<div>\n",
       "<style scoped>\n",
       "    .dataframe tbody tr th:only-of-type {\n",
       "        vertical-align: middle;\n",
       "    }\n",
       "\n",
       "    .dataframe tbody tr th {\n",
       "        vertical-align: top;\n",
       "    }\n",
       "\n",
       "    .dataframe thead th {\n",
       "        text-align: right;\n",
       "    }\n",
       "</style>\n",
       "<table border=\"1\" class=\"dataframe\">\n",
       "  <thead>\n",
       "    <tr style=\"text-align: right;\">\n",
       "      <th></th>\n",
       "      <th>Flight</th>\n",
       "      <th>Time</th>\n",
       "      <th>Length</th>\n",
       "      <th>Airline</th>\n",
       "      <th>AirportFrom</th>\n",
       "      <th>AirportTo</th>\n",
       "      <th>DayOfWeek</th>\n",
       "      <th>Class</th>\n",
       "    </tr>\n",
       "  </thead>\n",
       "  <tbody>\n",
       "    <tr>\n",
       "      <th>0</th>\n",
       "      <td>320.0</td>\n",
       "      <td>870.0</td>\n",
       "      <td>180.0</td>\n",
       "      <td>CO</td>\n",
       "      <td>IAH</td>\n",
       "      <td>PHX</td>\n",
       "      <td>5</td>\n",
       "      <td>0</td>\n",
       "    </tr>\n",
       "    <tr>\n",
       "      <th>1</th>\n",
       "      <td>3045.0</td>\n",
       "      <td>365.0</td>\n",
       "      <td>66.0</td>\n",
       "      <td>OO</td>\n",
       "      <td>DSM</td>\n",
       "      <td>MKE</td>\n",
       "      <td>2</td>\n",
       "      <td>0</td>\n",
       "    </tr>\n",
       "    <tr>\n",
       "      <th>2</th>\n",
       "      <td>1560.0</td>\n",
       "      <td>740.0</td>\n",
       "      <td>257.0</td>\n",
       "      <td>DL</td>\n",
       "      <td>SEA</td>\n",
       "      <td>CVG</td>\n",
       "      <td>7</td>\n",
       "      <td>0</td>\n",
       "    </tr>\n",
       "    <tr>\n",
       "      <th>3</th>\n",
       "      <td>1156.0</td>\n",
       "      <td>595.0</td>\n",
       "      <td>235.0</td>\n",
       "      <td>WN</td>\n",
       "      <td>SNA</td>\n",
       "      <td>MDW</td>\n",
       "      <td>7</td>\n",
       "      <td>1</td>\n",
       "    </tr>\n",
       "    <tr>\n",
       "      <th>4</th>\n",
       "      <td>1873.0</td>\n",
       "      <td>530.0</td>\n",
       "      <td>133.0</td>\n",
       "      <td>CO</td>\n",
       "      <td>IAH</td>\n",
       "      <td>MCO</td>\n",
       "      <td>6</td>\n",
       "      <td>1</td>\n",
       "    </tr>\n",
       "  </tbody>\n",
       "</table>\n",
       "</div>"
      ],
      "text/plain": [
       "   Flight   Time  Length Airline AirportFrom AirportTo  DayOfWeek  Class\n",
       "0   320.0  870.0   180.0      CO         IAH       PHX          5      0\n",
       "1  3045.0  365.0    66.0      OO         DSM       MKE          2      0\n",
       "2  1560.0  740.0   257.0      DL         SEA       CVG          7      0\n",
       "3  1156.0  595.0   235.0      WN         SNA       MDW          7      1\n",
       "4  1873.0  530.0   133.0      CO         IAH       MCO          6      1"
      ]
     },
     "execution_count": 20,
     "metadata": {},
     "output_type": "execute_result"
    }
   ],
   "source": [
    "## Menampilkan 5 baris pertama dari dataset\n",
    "df.head()"
   ]
  },
  {
   "cell_type": "code",
   "execution_count": 21,
   "id": "079cc164",
   "metadata": {
    "id": "079cc164",
    "outputId": "c5e2de3e-29cb-48d1-d8a0-eff1c3febeab"
   },
   "outputs": [
    {
     "data": {
      "text/plain": [
       "(10787, 8)"
      ]
     },
     "execution_count": 21,
     "metadata": {},
     "output_type": "execute_result"
    }
   ],
   "source": [
    "# Menampilkan jumlah baris dan kolom memanfaatkan fungsi shape\n",
    "df.shape"
   ]
  },
  {
   "cell_type": "code",
   "execution_count": 22,
   "id": "45aa5ebd",
   "metadata": {
    "id": "45aa5ebd",
    "outputId": "dc43d294-caf6-4b27-dedd-462fc7e9a325"
   },
   "outputs": [
    {
     "data": {
      "text/plain": [
       "Flight         float64\n",
       "Time           float64\n",
       "Length         float64\n",
       "Airline         object\n",
       "AirportFrom     object\n",
       "AirportTo       object\n",
       "DayOfWeek        int64\n",
       "Class            int64\n",
       "dtype: object"
      ]
     },
     "execution_count": 22,
     "metadata": {},
     "output_type": "execute_result"
    }
   ],
   "source": [
    "# Menampilkan tipe data setiap kolom pada dataset\n",
    "df.dtypes"
   ]
  },
  {
   "cell_type": "code",
   "execution_count": 23,
   "id": "0e0f20b7",
   "metadata": {
    "id": "0e0f20b7",
    "outputId": "17d699aa-ff77-4d1b-f7ad-d44bd6cb19bc"
   },
   "outputs": [
    {
     "data": {
      "text/html": [
       "<div>\n",
       "<style scoped>\n",
       "    .dataframe tbody tr th:only-of-type {\n",
       "        vertical-align: middle;\n",
       "    }\n",
       "\n",
       "    .dataframe tbody tr th {\n",
       "        vertical-align: top;\n",
       "    }\n",
       "\n",
       "    .dataframe thead th {\n",
       "        text-align: right;\n",
       "    }\n",
       "</style>\n",
       "<table border=\"1\" class=\"dataframe\">\n",
       "  <thead>\n",
       "    <tr style=\"text-align: right;\">\n",
       "      <th></th>\n",
       "      <th>Flight</th>\n",
       "      <th>Time</th>\n",
       "      <th>Length</th>\n",
       "      <th>DayOfWeek</th>\n",
       "      <th>Class</th>\n",
       "    </tr>\n",
       "  </thead>\n",
       "  <tbody>\n",
       "    <tr>\n",
       "      <th>count</th>\n",
       "      <td>10787.000000</td>\n",
       "      <td>10787.000000</td>\n",
       "      <td>10787.000000</td>\n",
       "      <td>10787.000000</td>\n",
       "      <td>10787.000000</td>\n",
       "    </tr>\n",
       "    <tr>\n",
       "      <th>mean</th>\n",
       "      <td>2435.506999</td>\n",
       "      <td>803.193566</td>\n",
       "      <td>133.346621</td>\n",
       "      <td>3.895430</td>\n",
       "      <td>0.447576</td>\n",
       "    </tr>\n",
       "    <tr>\n",
       "      <th>std</th>\n",
       "      <td>2071.935213</td>\n",
       "      <td>276.976027</td>\n",
       "      <td>71.598884</td>\n",
       "      <td>1.923294</td>\n",
       "      <td>0.497267</td>\n",
       "    </tr>\n",
       "    <tr>\n",
       "      <th>min</th>\n",
       "      <td>1.000000</td>\n",
       "      <td>15.000000</td>\n",
       "      <td>29.000000</td>\n",
       "      <td>1.000000</td>\n",
       "      <td>0.000000</td>\n",
       "    </tr>\n",
       "    <tr>\n",
       "      <th>25%</th>\n",
       "      <td>720.000000</td>\n",
       "      <td>567.000000</td>\n",
       "      <td>81.000000</td>\n",
       "      <td>2.000000</td>\n",
       "      <td>0.000000</td>\n",
       "    </tr>\n",
       "    <tr>\n",
       "      <th>50%</th>\n",
       "      <td>1798.000000</td>\n",
       "      <td>795.000000</td>\n",
       "      <td>116.000000</td>\n",
       "      <td>4.000000</td>\n",
       "      <td>0.000000</td>\n",
       "    </tr>\n",
       "    <tr>\n",
       "      <th>75%</th>\n",
       "      <td>3785.500000</td>\n",
       "      <td>1035.000000</td>\n",
       "      <td>164.000000</td>\n",
       "      <td>5.000000</td>\n",
       "      <td>1.000000</td>\n",
       "    </tr>\n",
       "    <tr>\n",
       "      <th>max</th>\n",
       "      <td>7812.000000</td>\n",
       "      <td>1439.000000</td>\n",
       "      <td>655.000000</td>\n",
       "      <td>7.000000</td>\n",
       "      <td>1.000000</td>\n",
       "    </tr>\n",
       "  </tbody>\n",
       "</table>\n",
       "</div>"
      ],
      "text/plain": [
       "             Flight          Time        Length     DayOfWeek         Class\n",
       "count  10787.000000  10787.000000  10787.000000  10787.000000  10787.000000\n",
       "mean    2435.506999    803.193566    133.346621      3.895430      0.447576\n",
       "std     2071.935213    276.976027     71.598884      1.923294      0.497267\n",
       "min        1.000000     15.000000     29.000000      1.000000      0.000000\n",
       "25%      720.000000    567.000000     81.000000      2.000000      0.000000\n",
       "50%     1798.000000    795.000000    116.000000      4.000000      0.000000\n",
       "75%     3785.500000   1035.000000    164.000000      5.000000      1.000000\n",
       "max     7812.000000   1439.000000    655.000000      7.000000      1.000000"
      ]
     },
     "execution_count": 23,
     "metadata": {},
     "output_type": "execute_result"
    }
   ],
   "source": [
    "# Menampilkan statistik kolom\n",
    "df.describe()"
   ]
  },
  {
   "cell_type": "code",
   "execution_count": 24,
   "id": "29992d2d",
   "metadata": {
    "id": "29992d2d",
    "outputId": "dcd94f35-68d2-44aa-ba7c-2e561cc9f411"
   },
   "outputs": [
    {
     "data": {
      "text/html": [
       "<div>\n",
       "<style scoped>\n",
       "    .dataframe tbody tr th:only-of-type {\n",
       "        vertical-align: middle;\n",
       "    }\n",
       "\n",
       "    .dataframe tbody tr th {\n",
       "        vertical-align: top;\n",
       "    }\n",
       "\n",
       "    .dataframe thead th {\n",
       "        text-align: right;\n",
       "    }\n",
       "</style>\n",
       "<table border=\"1\" class=\"dataframe\">\n",
       "  <thead>\n",
       "    <tr style=\"text-align: right;\">\n",
       "      <th></th>\n",
       "      <th>Flight</th>\n",
       "      <th>Time</th>\n",
       "      <th>Length</th>\n",
       "      <th>Airline</th>\n",
       "      <th>AirportFrom</th>\n",
       "      <th>AirportTo</th>\n",
       "      <th>DayOfWeek</th>\n",
       "      <th>Class</th>\n",
       "    </tr>\n",
       "  </thead>\n",
       "  <tbody>\n",
       "    <tr>\n",
       "      <th>count</th>\n",
       "      <td>10787.000000</td>\n",
       "      <td>10787.000000</td>\n",
       "      <td>10787.000000</td>\n",
       "      <td>10787</td>\n",
       "      <td>10787</td>\n",
       "      <td>10787</td>\n",
       "      <td>10787.000000</td>\n",
       "      <td>10787.000000</td>\n",
       "    </tr>\n",
       "    <tr>\n",
       "      <th>unique</th>\n",
       "      <td>NaN</td>\n",
       "      <td>NaN</td>\n",
       "      <td>NaN</td>\n",
       "      <td>18</td>\n",
       "      <td>270</td>\n",
       "      <td>265</td>\n",
       "      <td>NaN</td>\n",
       "      <td>NaN</td>\n",
       "    </tr>\n",
       "    <tr>\n",
       "      <th>top</th>\n",
       "      <td>NaN</td>\n",
       "      <td>NaN</td>\n",
       "      <td>NaN</td>\n",
       "      <td>WN</td>\n",
       "      <td>ATL</td>\n",
       "      <td>ATL</td>\n",
       "      <td>NaN</td>\n",
       "      <td>NaN</td>\n",
       "    </tr>\n",
       "    <tr>\n",
       "      <th>freq</th>\n",
       "      <td>NaN</td>\n",
       "      <td>NaN</td>\n",
       "      <td>NaN</td>\n",
       "      <td>1887</td>\n",
       "      <td>687</td>\n",
       "      <td>708</td>\n",
       "      <td>NaN</td>\n",
       "      <td>NaN</td>\n",
       "    </tr>\n",
       "    <tr>\n",
       "      <th>mean</th>\n",
       "      <td>2435.506999</td>\n",
       "      <td>803.193566</td>\n",
       "      <td>133.346621</td>\n",
       "      <td>NaN</td>\n",
       "      <td>NaN</td>\n",
       "      <td>NaN</td>\n",
       "      <td>3.895430</td>\n",
       "      <td>0.447576</td>\n",
       "    </tr>\n",
       "    <tr>\n",
       "      <th>std</th>\n",
       "      <td>2071.935213</td>\n",
       "      <td>276.976027</td>\n",
       "      <td>71.598884</td>\n",
       "      <td>NaN</td>\n",
       "      <td>NaN</td>\n",
       "      <td>NaN</td>\n",
       "      <td>1.923294</td>\n",
       "      <td>0.497267</td>\n",
       "    </tr>\n",
       "    <tr>\n",
       "      <th>min</th>\n",
       "      <td>1.000000</td>\n",
       "      <td>15.000000</td>\n",
       "      <td>29.000000</td>\n",
       "      <td>NaN</td>\n",
       "      <td>NaN</td>\n",
       "      <td>NaN</td>\n",
       "      <td>1.000000</td>\n",
       "      <td>0.000000</td>\n",
       "    </tr>\n",
       "    <tr>\n",
       "      <th>25%</th>\n",
       "      <td>720.000000</td>\n",
       "      <td>567.000000</td>\n",
       "      <td>81.000000</td>\n",
       "      <td>NaN</td>\n",
       "      <td>NaN</td>\n",
       "      <td>NaN</td>\n",
       "      <td>2.000000</td>\n",
       "      <td>0.000000</td>\n",
       "    </tr>\n",
       "    <tr>\n",
       "      <th>50%</th>\n",
       "      <td>1798.000000</td>\n",
       "      <td>795.000000</td>\n",
       "      <td>116.000000</td>\n",
       "      <td>NaN</td>\n",
       "      <td>NaN</td>\n",
       "      <td>NaN</td>\n",
       "      <td>4.000000</td>\n",
       "      <td>0.000000</td>\n",
       "    </tr>\n",
       "    <tr>\n",
       "      <th>75%</th>\n",
       "      <td>3785.500000</td>\n",
       "      <td>1035.000000</td>\n",
       "      <td>164.000000</td>\n",
       "      <td>NaN</td>\n",
       "      <td>NaN</td>\n",
       "      <td>NaN</td>\n",
       "      <td>5.000000</td>\n",
       "      <td>1.000000</td>\n",
       "    </tr>\n",
       "    <tr>\n",
       "      <th>max</th>\n",
       "      <td>7812.000000</td>\n",
       "      <td>1439.000000</td>\n",
       "      <td>655.000000</td>\n",
       "      <td>NaN</td>\n",
       "      <td>NaN</td>\n",
       "      <td>NaN</td>\n",
       "      <td>7.000000</td>\n",
       "      <td>1.000000</td>\n",
       "    </tr>\n",
       "  </tbody>\n",
       "</table>\n",
       "</div>"
      ],
      "text/plain": [
       "              Flight          Time        Length Airline AirportFrom  \\\n",
       "count   10787.000000  10787.000000  10787.000000   10787       10787   \n",
       "unique           NaN           NaN           NaN      18         270   \n",
       "top              NaN           NaN           NaN      WN         ATL   \n",
       "freq             NaN           NaN           NaN    1887         687   \n",
       "mean     2435.506999    803.193566    133.346621     NaN         NaN   \n",
       "std      2071.935213    276.976027     71.598884     NaN         NaN   \n",
       "min         1.000000     15.000000     29.000000     NaN         NaN   \n",
       "25%       720.000000    567.000000     81.000000     NaN         NaN   \n",
       "50%      1798.000000    795.000000    116.000000     NaN         NaN   \n",
       "75%      3785.500000   1035.000000    164.000000     NaN         NaN   \n",
       "max      7812.000000   1439.000000    655.000000     NaN         NaN   \n",
       "\n",
       "       AirportTo     DayOfWeek         Class  \n",
       "count      10787  10787.000000  10787.000000  \n",
       "unique       265           NaN           NaN  \n",
       "top          ATL           NaN           NaN  \n",
       "freq         708           NaN           NaN  \n",
       "mean         NaN      3.895430      0.447576  \n",
       "std          NaN      1.923294      0.497267  \n",
       "min          NaN      1.000000      0.000000  \n",
       "25%          NaN      2.000000      0.000000  \n",
       "50%          NaN      4.000000      0.000000  \n",
       "75%          NaN      5.000000      1.000000  \n",
       "max          NaN      7.000000      1.000000  "
      ]
     },
     "execution_count": 24,
     "metadata": {},
     "output_type": "execute_result"
    }
   ],
   "source": [
    "# Menampilkan statistik kolom baik yang bertipe numerik dan non numerik menggunakan fungsi describe\n",
    "df.describe(include='all')"
   ]
  },
  {
   "cell_type": "markdown",
   "id": "3cba221e",
   "metadata": {
    "id": "3cba221e"
   },
   "source": [
    "### Mendeteksi Outliers"
   ]
  },
  {
   "cell_type": "code",
   "execution_count": 25,
   "id": "e21744b5",
   "metadata": {
    "id": "e21744b5",
    "outputId": "df237625-e7eb-442e-9aca-8dd40b879948"
   },
   "outputs": [
    {
     "data": {
      "text/html": [
       "<div>\n",
       "<style scoped>\n",
       "    .dataframe tbody tr th:only-of-type {\n",
       "        vertical-align: middle;\n",
       "    }\n",
       "\n",
       "    .dataframe tbody tr th {\n",
       "        vertical-align: top;\n",
       "    }\n",
       "\n",
       "    .dataframe thead th {\n",
       "        text-align: right;\n",
       "    }\n",
       "</style>\n",
       "<table border=\"1\" class=\"dataframe\">\n",
       "  <thead>\n",
       "    <tr style=\"text-align: right;\">\n",
       "      <th></th>\n",
       "      <th>Flight</th>\n",
       "      <th>Time</th>\n",
       "      <th>Length</th>\n",
       "      <th>DayOfWeek</th>\n",
       "      <th>Class</th>\n",
       "    </tr>\n",
       "  </thead>\n",
       "  <tbody>\n",
       "    <tr>\n",
       "      <th>0</th>\n",
       "      <td>False</td>\n",
       "      <td>False</td>\n",
       "      <td>False</td>\n",
       "      <td>False</td>\n",
       "      <td>False</td>\n",
       "    </tr>\n",
       "    <tr>\n",
       "      <th>1</th>\n",
       "      <td>False</td>\n",
       "      <td>False</td>\n",
       "      <td>False</td>\n",
       "      <td>False</td>\n",
       "      <td>False</td>\n",
       "    </tr>\n",
       "    <tr>\n",
       "      <th>2</th>\n",
       "      <td>False</td>\n",
       "      <td>False</td>\n",
       "      <td>False</td>\n",
       "      <td>False</td>\n",
       "      <td>False</td>\n",
       "    </tr>\n",
       "    <tr>\n",
       "      <th>3</th>\n",
       "      <td>False</td>\n",
       "      <td>False</td>\n",
       "      <td>False</td>\n",
       "      <td>False</td>\n",
       "      <td>False</td>\n",
       "    </tr>\n",
       "    <tr>\n",
       "      <th>4</th>\n",
       "      <td>False</td>\n",
       "      <td>False</td>\n",
       "      <td>False</td>\n",
       "      <td>False</td>\n",
       "      <td>False</td>\n",
       "    </tr>\n",
       "    <tr>\n",
       "      <th>...</th>\n",
       "      <td>...</td>\n",
       "      <td>...</td>\n",
       "      <td>...</td>\n",
       "      <td>...</td>\n",
       "      <td>...</td>\n",
       "    </tr>\n",
       "    <tr>\n",
       "      <th>10782</th>\n",
       "      <td>False</td>\n",
       "      <td>False</td>\n",
       "      <td>False</td>\n",
       "      <td>False</td>\n",
       "      <td>False</td>\n",
       "    </tr>\n",
       "    <tr>\n",
       "      <th>10783</th>\n",
       "      <td>False</td>\n",
       "      <td>False</td>\n",
       "      <td>False</td>\n",
       "      <td>False</td>\n",
       "      <td>False</td>\n",
       "    </tr>\n",
       "    <tr>\n",
       "      <th>10784</th>\n",
       "      <td>False</td>\n",
       "      <td>False</td>\n",
       "      <td>False</td>\n",
       "      <td>False</td>\n",
       "      <td>False</td>\n",
       "    </tr>\n",
       "    <tr>\n",
       "      <th>10785</th>\n",
       "      <td>False</td>\n",
       "      <td>False</td>\n",
       "      <td>False</td>\n",
       "      <td>False</td>\n",
       "      <td>False</td>\n",
       "    </tr>\n",
       "    <tr>\n",
       "      <th>10786</th>\n",
       "      <td>False</td>\n",
       "      <td>False</td>\n",
       "      <td>False</td>\n",
       "      <td>False</td>\n",
       "      <td>False</td>\n",
       "    </tr>\n",
       "  </tbody>\n",
       "</table>\n",
       "<p>10787 rows × 5 columns</p>\n",
       "</div>"
      ],
      "text/plain": [
       "       Flight   Time  Length  DayOfWeek  Class\n",
       "0       False  False   False      False  False\n",
       "1       False  False   False      False  False\n",
       "2       False  False   False      False  False\n",
       "3       False  False   False      False  False\n",
       "4       False  False   False      False  False\n",
       "...       ...    ...     ...        ...    ...\n",
       "10782   False  False   False      False  False\n",
       "10783   False  False   False      False  False\n",
       "10784   False  False   False      False  False\n",
       "10785   False  False   False      False  False\n",
       "10786   False  False   False      False  False\n",
       "\n",
       "[10787 rows x 5 columns]"
      ]
     },
     "execution_count": 25,
     "metadata": {},
     "output_type": "execute_result"
    }
   ],
   "source": [
    "# Filter outlier pada dataset\n",
    "outlier_filter = (df.select_dtypes(exclude=['object']) < q1 - 1.5 * iqr) | (df.select_dtypes(exclude=['object']) > q3 + 1.5 * iqr)\n",
    "outlier_filter"
   ]
  },
  {
   "cell_type": "code",
   "execution_count": 26,
   "id": "885a5959",
   "metadata": {
    "id": "885a5959",
    "outputId": "8825e7b7-3b23-46eb-b1df-4d141a96d986"
   },
   "outputs": [
    {
     "name": "stdout",
     "output_type": "stream",
     "text": [
      "Nama Kolom: Flight\n",
      "Flight\n",
      "False    10787\n",
      "Name: count, dtype: int64\n",
      "-------------------\n",
      "Nama Kolom: Time\n",
      "Time\n",
      "False    10787\n",
      "Name: count, dtype: int64\n",
      "-------------------\n",
      "Nama Kolom: Length\n",
      "Length\n",
      "False    10249\n",
      "True       538\n",
      "Name: count, dtype: int64\n",
      "-------------------\n",
      "Nama Kolom: DayOfWeek\n",
      "DayOfWeek\n",
      "False    10787\n",
      "Name: count, dtype: int64\n",
      "-------------------\n",
      "Nama Kolom: Class\n",
      "Class\n",
      "False    10787\n",
      "Name: count, dtype: int64\n",
      "-------------------\n"
     ]
    }
   ],
   "source": [
    "# Menghitung Jumlah Outlier Pada Data\n",
    "for col in outlier_filter.columns :\n",
    "    if df[col].dtype != object :\n",
    "        print('Nama Kolom:',col)\n",
    "        print(outlier_filter[col].value_counts())\n",
    "        print('-------------------')"
   ]
  },
  {
   "cell_type": "markdown",
   "id": "837327e5",
   "metadata": {
    "id": "837327e5"
   },
   "source": [
    "Dapat dilihat bahwa kolom yang memiliki outliers ialah kolom Length dengan outliers sebanyak 538"
   ]
  },
  {
   "cell_type": "code",
   "execution_count": 27,
   "id": "c7799935",
   "metadata": {
    "id": "c7799935",
    "outputId": "6bb50459-f430-43a0-c0f1-1e3c3ce70634"
   },
   "outputs": [
    {
     "data": {
      "text/plain": [
       "4.987484935570595"
      ]
     },
     "execution_count": 27,
     "metadata": {},
     "output_type": "execute_result"
    }
   ],
   "source": [
    "# Persentase Outliers\n",
    "length_outliers_percentage = len(outlier_filter[outlier_filter.Length==True]) / len(df['Length']) * 100\n",
    "length_outliers_percentage"
   ]
  },
  {
   "cell_type": "markdown",
   "id": "6be0f4f4",
   "metadata": {
    "id": "6be0f4f4"
   },
   "source": [
    "Dapat dilihat bahwa kolom yang memiliki outliers ialah kolom Length dengan outliers sebanyak 4.9% dari keseluruhan jumlah data"
   ]
  },
  {
   "cell_type": "code",
   "execution_count": 28,
   "id": "7777f496",
   "metadata": {
    "id": "7777f496",
    "outputId": "eb5096fd-990a-4fdb-a988-b34155bd6197"
   },
   "outputs": [
    {
     "data": {
      "text/plain": [
       "Airline\n",
       "9E     95.192037\n",
       "AA    178.268008\n",
       "AS    180.504425\n",
       "B6    178.336391\n",
       "CO    194.167431\n",
       "DL    159.896639\n",
       "EV     91.988506\n",
       "F9    152.698413\n",
       "FL    131.644028\n",
       "HA     82.211864\n",
       "MQ    102.943583\n",
       "OH    108.905882\n",
       "OO     96.270492\n",
       "UA    192.762745\n",
       "US    145.995714\n",
       "WN    118.078961\n",
       "XE    110.744113\n",
       "YV     90.731449\n",
       "Name: Length, dtype: float64"
      ]
     },
     "execution_count": 28,
     "metadata": {},
     "output_type": "execute_result"
    }
   ],
   "source": [
    "# Analisa dengan Groupby\n",
    "df.groupby('Airline')['Length'].mean()"
   ]
  },
  {
   "cell_type": "markdown",
   "id": "b0a5ce85",
   "metadata": {
    "id": "b0a5ce85"
   },
   "source": [
    "### Menelaah Data dengan Metode Visualisasi"
   ]
  },
  {
   "cell_type": "code",
   "execution_count": 29,
   "id": "d7ebf5fd-106f-4812-9ea5-955a87265172",
   "metadata": {
    "id": "d7ebf5fd-106f-4812-9ea5-955a87265172",
    "outputId": "a9e92534-2f28-4817-ee4f-4e8f1a265b8f"
   },
   "outputs": [],
   "source": [
    "# Install library matplotlib & Seaborn\n",
    "# !pip install matplotlib\n",
    "# !pip install seaborn"
   ]
  },
  {
   "cell_type": "code",
   "execution_count": 30,
   "id": "cceb2705",
   "metadata": {
    "id": "cceb2705"
   },
   "outputs": [],
   "source": [
    "# Import Library\n",
    "import numpy as np\n",
    "import matplotlib.pyplot as plt\n",
    "import seaborn as sns"
   ]
  },
  {
   "cell_type": "code",
   "execution_count": 31,
   "id": "29fb09cd",
   "metadata": {
    "id": "29fb09cd",
    "outputId": "09f3bdf9-dd9a-4fa2-c171-370a882cd939"
   },
   "outputs": [
    {
     "data": {
      "image/png": "[encoded data removed]",
      "text/plain": [
       "<Figure size 1440x144 with 1 Axes>"
      ]
     },
     "metadata": {
      "needs_background": "light"
     },
     "output_type": "display_data"
    },
    {
     "data": {
      "image/png": "[encoded data removed]",
      "text/plain": [
       "<Figure size 1440x144 with 1 Axes>"
      ]
     },
     "metadata": {
      "needs_background": "light"
     },
     "output_type": "display_data"
    },
    {
     "data": {
      "image/png": "[encoded data removed]",
      "text/plain": [
       "<Figure size 1440x144 with 1 Axes>"
      ]
     },
     "metadata": {
      "needs_background": "light"
     },
     "output_type": "display_data"
    },
    {
     "data": {
      "image/png": "[encoded data removed]",
      "text/plain": [
       "<Figure size 1440x144 with 1 Axes>"
      ]
     },
     "metadata": {
      "needs_background": "light"
     },
     "output_type": "display_data"
    },
    {
     "data": {
      "image/png": "[encoded data removed]",
      "text/plain": [
       "<Figure size 1440x144 with 1 Axes>"
      ]
     },
     "metadata": {
      "needs_background": "light"
     },
     "output_type": "display_data"
    }
   ],
   "source": [
    "# Mencari Outliers - Boxplot\n",
    "df_outlier = df.select_dtypes(exclude=['object'])\n",
    "for column in df_outlier:\n",
    "        plt.figure(figsize=(20,2))\n",
    "        sns.boxplot(data=df_outlier, x=column)"
   ]
  },
  {
   "cell_type": "markdown",
   "id": "2b99a5d2",
   "metadata": {
    "id": "2b99a5d2"
   },
   "source": [
    "Dari analisa boxplot di atas dapat dilihat bahwa kolom length memiliki pencilan / *outliers* yang melewati batas atas tukey's fences (Q3 x (1.5 x IQR))"
   ]
  },
  {
   "cell_type": "code",
   "execution_count": 32,
   "id": "5d7d7ef1",
   "metadata": {
    "id": "5d7d7ef1",
    "outputId": "390f5044-8e88-4d5c-c75b-c4e0a2952fc2"
   },
   "outputs": [
    {
     "data": {
      "image/png": "[encoded data removed]",
      "text/plain": [
       "<Figure size 432x288 with 1 Axes>"
      ]
     },
     "metadata": {
      "needs_background": "light"
     },
     "output_type": "display_data"
    },
    {
     "data": {
      "image/png": "[encoded data removed]",
      "text/plain": [
       "<Figure size 432x288 with 1 Axes>"
      ]
     },
     "metadata": {
      "needs_background": "light"
     },
     "output_type": "display_data"
    },
    {
     "data": {
      "image/png": "[encoded data removed]",
      "text/plain": [
       "<Figure size 432x288 with 1 Axes>"
      ]
     },
     "metadata": {
      "needs_background": "light"
     },
     "output_type": "display_data"
    },
    {
     "data": {
      "image/png": "[encoded data removed]",
      "text/plain": [
       "<Figure size 432x288 with 1 Axes>"
      ]
     },
     "metadata": {
      "needs_background": "light"
     },
     "output_type": "display_data"
    },
    {
     "data": {
      "image/png": "[encoded data removed]",
      "text/plain": [
       "<Figure size 432x288 with 1 Axes>"
      ]
     },
     "metadata": {
      "needs_background": "light"
     },
     "output_type": "display_data"
    }
   ],
   "source": [
    "# Melihat Persebaran Data - Histogram\n",
    "df_outlier = df.select_dtypes(exclude=['object'])\n",
    "for column in df_outlier:\n",
    "        plt.hist(df[column])\n",
    "        plt.title(column)\n",
    "        plt.show()"
   ]
  },
  {
   "cell_type": "code",
   "execution_count": 33,
   "id": "4d0865bd",
   "metadata": {
    "id": "4d0865bd",
    "outputId": "7787f96d-cd8f-4749-c16a-34116771e748"
   },
   "outputs": [
    {
     "data": {
      "text/plain": [
       "[1, 2, 3, 4, 5, 6, 7]"
      ]
     },
     "execution_count": 33,
     "metadata": {},
     "output_type": "execute_result"
    }
   ],
   "source": [
    "# Melihat Jumlah Penerbangan dalam 1 Minggu - Bar Chart\n",
    "\n",
    "# Menyiapkan list jumlah hari dalam 1 minggu\n",
    "DayOfWeekOrder = list(range(1,8))\n",
    "DayOfWeekOrder"
   ]
  },
  {
   "cell_type": "code",
   "execution_count": 34,
   "id": "72147a47",
   "metadata": {
    "id": "72147a47",
    "outputId": "3f4de4fb-1a34-4bb0-9572-efa3dafe02a7"
   },
   "outputs": [
    {
     "data": {
      "image/png": "[encoded data removed]",
      "text/plain": [
       "<Figure size 432x288 with 1 Axes>"
      ]
     },
     "metadata": {
      "needs_background": "light"
     },
     "output_type": "display_data"
    }
   ],
   "source": [
    "sns.countplot(x='DayOfWeek',data=df,order=DayOfWeekOrder).set(title='Jumlah Penerbangan dalam 1 Minggu');"
   ]
  },
  {
   "cell_type": "code",
   "execution_count": 35,
   "id": "ec603256",
   "metadata": {
    "id": "ec603256",
    "outputId": "a86e0200-a60c-4aaa-957d-944eae944429"
   },
   "outputs": [
    {
     "data": {
      "text/plain": [
       "Text(0.5, 1.0, 'Jumlah Penerbangan dalam 1 Minggu')"
      ]
     },
     "execution_count": 35,
     "metadata": {},
     "output_type": "execute_result"
    },
    {
     "data": {
      "image/png": "[encoded data removed]",
      "text/plain": [
       "<Figure size 432x288 with 1 Axes>"
      ]
     },
     "metadata": {
      "needs_background": "light"
     },
     "output_type": "display_data"
    }
   ],
   "source": [
    "# Melihat Jumlah Penerbangan dalam 1 Minggu - Line Chart\n",
    "DayOfWeek_Flight_Count = df.groupby('DayOfWeek').count()['Time'].sort_index()\n",
    "DayOfWeek_Flight_Count.plot()\n",
    "plt.xlabel('Hari')\n",
    "plt.ylabel('Jumlah')\n",
    "plt.title('Jumlah Penerbangan dalam 1 Minggu')"
   ]
  },
  {
   "cell_type": "markdown",
   "id": "7ebb9f41",
   "metadata": {
    "id": "7ebb9f41"
   },
   "source": [
    "Dari visualisasi data dengan bar chart dan line chart dapat diketahui bahwa hari ke-3,ke-4, dan ke-5 merupakan hari di mana terjadi jumlah penerbangan dengan jumlah yang banyak dibanding hari-hari lainnya"
   ]
  },
  {
   "cell_type": "code",
   "execution_count": 36,
   "id": "28671720",
   "metadata": {
    "id": "28671720",
    "outputId": "7479eeff-a098-4889-c85f-2363549a1c46"
   },
   "outputs": [
    {
     "data": {
      "image/png": "[encoded data removed]",
      "text/plain": [
       "<Figure size 720x360 with 1 Axes>"
      ]
     },
     "metadata": {
      "needs_background": "light"
     },
     "output_type": "display_data"
    }
   ],
   "source": [
    "# Melihat jumlah penerbangan masing-masing airline\n",
    "Airline_Flight_Count = df.groupby('Airline').count()['Time'].sort_values(ascending=False)\n",
    "plt.figure(figsize=(10,5))\n",
    "myColors = sns.color_palette('pastel')[0:5]\n",
    "Airline_Flight_Count.plot(kind='bar',color=myColors)\n",
    "plt.ylabel('Jumlah')\n",
    "plt.title('Jumlah Penerbangan Masing-Masing Airline')\n",
    "plt.show()"
   ]
  },
  {
   "cell_type": "code",
   "execution_count": 37,
   "id": "2683fd26",
   "metadata": {
    "id": "2683fd26",
    "outputId": "ad6b1e7d-2567-4921-88b8-d80eb40375c5"
   },
   "outputs": [
    {
     "data": {
      "text/html": [
       "<div>\n",
       "<style scoped>\n",
       "    .dataframe tbody tr th:only-of-type {\n",
       "        vertical-align: middle;\n",
       "    }\n",
       "\n",
       "    .dataframe tbody tr th {\n",
       "        vertical-align: top;\n",
       "    }\n",
       "\n",
       "    .dataframe thead th {\n",
       "        text-align: right;\n",
       "    }\n",
       "</style>\n",
       "<table border=\"1\" class=\"dataframe\">\n",
       "  <thead>\n",
       "    <tr style=\"text-align: right;\">\n",
       "      <th>Class</th>\n",
       "      <th>0</th>\n",
       "      <th>1</th>\n",
       "    </tr>\n",
       "    <tr>\n",
       "      <th>Airline</th>\n",
       "      <th></th>\n",
       "      <th></th>\n",
       "    </tr>\n",
       "  </thead>\n",
       "  <tbody>\n",
       "    <tr>\n",
       "      <th>9E</th>\n",
       "      <td>264</td>\n",
       "      <td>163</td>\n",
       "    </tr>\n",
       "    <tr>\n",
       "      <th>AA</th>\n",
       "      <td>569</td>\n",
       "      <td>375</td>\n",
       "    </tr>\n",
       "    <tr>\n",
       "      <th>AS</th>\n",
       "      <td>149</td>\n",
       "      <td>77</td>\n",
       "    </tr>\n",
       "    <tr>\n",
       "      <th>B6</th>\n",
       "      <td>176</td>\n",
       "      <td>151</td>\n",
       "    </tr>\n",
       "    <tr>\n",
       "      <th>CO</th>\n",
       "      <td>183</td>\n",
       "      <td>253</td>\n",
       "    </tr>\n",
       "    <tr>\n",
       "      <th>DL</th>\n",
       "      <td>659</td>\n",
       "      <td>531</td>\n",
       "    </tr>\n",
       "    <tr>\n",
       "      <th>EV</th>\n",
       "      <td>370</td>\n",
       "      <td>239</td>\n",
       "    </tr>\n",
       "    <tr>\n",
       "      <th>F9</th>\n",
       "      <td>76</td>\n",
       "      <td>50</td>\n",
       "    </tr>\n",
       "    <tr>\n",
       "      <th>FL</th>\n",
       "      <td>293</td>\n",
       "      <td>134</td>\n",
       "    </tr>\n",
       "    <tr>\n",
       "      <th>HA</th>\n",
       "      <td>82</td>\n",
       "      <td>36</td>\n",
       "    </tr>\n",
       "    <tr>\n",
       "      <th>MQ</th>\n",
       "      <td>461</td>\n",
       "      <td>248</td>\n",
       "    </tr>\n",
       "    <tr>\n",
       "      <th>OH</th>\n",
       "      <td>181</td>\n",
       "      <td>74</td>\n",
       "    </tr>\n",
       "    <tr>\n",
       "      <th>OO</th>\n",
       "      <td>531</td>\n",
       "      <td>445</td>\n",
       "    </tr>\n",
       "    <tr>\n",
       "      <th>UA</th>\n",
       "      <td>356</td>\n",
       "      <td>154</td>\n",
       "    </tr>\n",
       "    <tr>\n",
       "      <th>US</th>\n",
       "      <td>450</td>\n",
       "      <td>250</td>\n",
       "    </tr>\n",
       "    <tr>\n",
       "      <th>WN</th>\n",
       "      <td>547</td>\n",
       "      <td>1340</td>\n",
       "    </tr>\n",
       "    <tr>\n",
       "      <th>XE</th>\n",
       "      <td>408</td>\n",
       "      <td>229</td>\n",
       "    </tr>\n",
       "    <tr>\n",
       "      <th>YV</th>\n",
       "      <td>204</td>\n",
       "      <td>79</td>\n",
       "    </tr>\n",
       "  </tbody>\n",
       "</table>\n",
       "</div>"
      ],
      "text/plain": [
       "Class      0     1\n",
       "Airline           \n",
       "9E       264   163\n",
       "AA       569   375\n",
       "AS       149    77\n",
       "B6       176   151\n",
       "CO       183   253\n",
       "DL       659   531\n",
       "EV       370   239\n",
       "F9        76    50\n",
       "FL       293   134\n",
       "HA        82    36\n",
       "MQ       461   248\n",
       "OH       181    74\n",
       "OO       531   445\n",
       "UA       356   154\n",
       "US       450   250\n",
       "WN       547  1340\n",
       "XE       408   229\n",
       "YV       204    79"
      ]
     },
     "execution_count": 37,
     "metadata": {},
     "output_type": "execute_result"
    }
   ],
   "source": [
    "# Analisa Persentase Delay Maskapai dengan Groupby\n",
    "Airline_Delay_Percentage = df.groupby(['Airline','Class']).count().unstack('Class')['Time']\n",
    "Airline_Delay_Percentage"
   ]
  },
  {
   "cell_type": "code",
   "execution_count": 38,
   "id": "a014fc8b",
   "metadata": {
    "id": "a014fc8b"
   },
   "outputs": [],
   "source": [
    "for i in range(Airline_Delay_Percentage.shape[0]):\n",
    "    numOfFlights = Airline_Delay_Percentage.iloc[i,0]+Airline_Delay_Percentage.iloc[i,1]\n",
    "    for j in [0,1]:\n",
    "        Airline_Delay_Percentage.iloc[i,j] = Airline_Delay_Percentage.iloc[i,j]/numOfFlights"
   ]
  },
  {
   "cell_type": "code",
   "execution_count": 39,
   "id": "0a8e3e07",
   "metadata": {
    "id": "0a8e3e07",
    "outputId": "440bed3b-197d-4b62-d9c3-dddd53a09eee"
   },
   "outputs": [
    {
     "data": {
      "text/html": [
       "<div>\n",
       "<style scoped>\n",
       "    .dataframe tbody tr th:only-of-type {\n",
       "        vertical-align: middle;\n",
       "    }\n",
       "\n",
       "    .dataframe tbody tr th {\n",
       "        vertical-align: top;\n",
       "    }\n",
       "\n",
       "    .dataframe thead th {\n",
       "        text-align: right;\n",
       "    }\n",
       "</style>\n",
       "<table border=\"1\" class=\"dataframe\">\n",
       "  <thead>\n",
       "    <tr style=\"text-align: right;\">\n",
       "      <th>Class</th>\n",
       "      <th>0</th>\n",
       "      <th>1</th>\n",
       "    </tr>\n",
       "    <tr>\n",
       "      <th>Airline</th>\n",
       "      <th></th>\n",
       "      <th></th>\n",
       "    </tr>\n",
       "  </thead>\n",
       "  <tbody>\n",
       "    <tr>\n",
       "      <th>WN</th>\n",
       "      <td>0.289878</td>\n",
       "      <td>0.710122</td>\n",
       "    </tr>\n",
       "    <tr>\n",
       "      <th>CO</th>\n",
       "      <td>0.419725</td>\n",
       "      <td>0.580275</td>\n",
       "    </tr>\n",
       "    <tr>\n",
       "      <th>B6</th>\n",
       "      <td>0.538226</td>\n",
       "      <td>0.461774</td>\n",
       "    </tr>\n",
       "    <tr>\n",
       "      <th>OO</th>\n",
       "      <td>0.544057</td>\n",
       "      <td>0.455943</td>\n",
       "    </tr>\n",
       "    <tr>\n",
       "      <th>DL</th>\n",
       "      <td>0.553782</td>\n",
       "      <td>0.446218</td>\n",
       "    </tr>\n",
       "    <tr>\n",
       "      <th>AA</th>\n",
       "      <td>0.602754</td>\n",
       "      <td>0.397246</td>\n",
       "    </tr>\n",
       "    <tr>\n",
       "      <th>F9</th>\n",
       "      <td>0.603175</td>\n",
       "      <td>0.396825</td>\n",
       "    </tr>\n",
       "    <tr>\n",
       "      <th>EV</th>\n",
       "      <td>0.607553</td>\n",
       "      <td>0.392447</td>\n",
       "    </tr>\n",
       "    <tr>\n",
       "      <th>9E</th>\n",
       "      <td>0.618267</td>\n",
       "      <td>0.381733</td>\n",
       "    </tr>\n",
       "    <tr>\n",
       "      <th>XE</th>\n",
       "      <td>0.640502</td>\n",
       "      <td>0.359498</td>\n",
       "    </tr>\n",
       "    <tr>\n",
       "      <th>US</th>\n",
       "      <td>0.642857</td>\n",
       "      <td>0.357143</td>\n",
       "    </tr>\n",
       "    <tr>\n",
       "      <th>MQ</th>\n",
       "      <td>0.650212</td>\n",
       "      <td>0.349788</td>\n",
       "    </tr>\n",
       "    <tr>\n",
       "      <th>AS</th>\n",
       "      <td>0.659292</td>\n",
       "      <td>0.340708</td>\n",
       "    </tr>\n",
       "    <tr>\n",
       "      <th>FL</th>\n",
       "      <td>0.686183</td>\n",
       "      <td>0.313817</td>\n",
       "    </tr>\n",
       "    <tr>\n",
       "      <th>HA</th>\n",
       "      <td>0.694915</td>\n",
       "      <td>0.305085</td>\n",
       "    </tr>\n",
       "    <tr>\n",
       "      <th>UA</th>\n",
       "      <td>0.698039</td>\n",
       "      <td>0.301961</td>\n",
       "    </tr>\n",
       "    <tr>\n",
       "      <th>OH</th>\n",
       "      <td>0.709804</td>\n",
       "      <td>0.290196</td>\n",
       "    </tr>\n",
       "    <tr>\n",
       "      <th>YV</th>\n",
       "      <td>0.720848</td>\n",
       "      <td>0.279152</td>\n",
       "    </tr>\n",
       "  </tbody>\n",
       "</table>\n",
       "</div>"
      ],
      "text/plain": [
       "Class           0         1\n",
       "Airline                    \n",
       "WN       0.289878  0.710122\n",
       "CO       0.419725  0.580275\n",
       "B6       0.538226  0.461774\n",
       "OO       0.544057  0.455943\n",
       "DL       0.553782  0.446218\n",
       "AA       0.602754  0.397246\n",
       "F9       0.603175  0.396825\n",
       "EV       0.607553  0.392447\n",
       "9E       0.618267  0.381733\n",
       "XE       0.640502  0.359498\n",
       "US       0.642857  0.357143\n",
       "MQ       0.650212  0.349788\n",
       "AS       0.659292  0.340708\n",
       "FL       0.686183  0.313817\n",
       "HA       0.694915  0.305085\n",
       "UA       0.698039  0.301961\n",
       "OH       0.709804  0.290196\n",
       "YV       0.720848  0.279152"
      ]
     },
     "execution_count": 39,
     "metadata": {},
     "output_type": "execute_result"
    }
   ],
   "source": [
    "Airline_Delay_Percentage.sort_values(by=Airline_Delay_Percentage.columns[1],ascending=False)"
   ]
  },
  {
   "cell_type": "markdown",
   "id": "e6f0d0f2",
   "metadata": {
    "id": "e6f0d0f2"
   },
   "source": [
    "Dapat diketahui dari tabel di atas bahwa maskapai WN, CO, B6 merupakan top 3 maskapai yang memiliki jumlah persentase delay (total jumlah delay / total jumlah penerbangan) yang paling tinggi dibanding maskapai lainnya"
   ]
  },
  {
   "cell_type": "code",
   "execution_count": 40,
   "id": "91831a95",
   "metadata": {
    "id": "91831a95",
    "outputId": "373df80d-19bf-414f-c9aa-b9dc44f1311b"
   },
   "outputs": [
    {
     "data": {
      "text/html": [
       "<div>\n",
       "<style scoped>\n",
       "    .dataframe tbody tr th:only-of-type {\n",
       "        vertical-align: middle;\n",
       "    }\n",
       "\n",
       "    .dataframe tbody tr th {\n",
       "        vertical-align: top;\n",
       "    }\n",
       "\n",
       "    .dataframe thead th {\n",
       "        text-align: right;\n",
       "    }\n",
       "</style>\n",
       "<table border=\"1\" class=\"dataframe\">\n",
       "  <thead>\n",
       "    <tr style=\"text-align: right;\">\n",
       "      <th></th>\n",
       "      <th>Flight</th>\n",
       "      <th>Time</th>\n",
       "      <th>Length</th>\n",
       "      <th>DayOfWeek</th>\n",
       "      <th>Class</th>\n",
       "    </tr>\n",
       "  </thead>\n",
       "  <tbody>\n",
       "    <tr>\n",
       "      <th>Flight</th>\n",
       "      <td>1.000000</td>\n",
       "      <td>-0.003814</td>\n",
       "      <td>-0.339813</td>\n",
       "      <td>0.011387</td>\n",
       "      <td>-0.046805</td>\n",
       "    </tr>\n",
       "    <tr>\n",
       "      <th>Time</th>\n",
       "      <td>-0.003814</td>\n",
       "      <td>1.000000</td>\n",
       "      <td>-0.023854</td>\n",
       "      <td>0.001654</td>\n",
       "      <td>0.133890</td>\n",
       "    </tr>\n",
       "    <tr>\n",
       "      <th>Length</th>\n",
       "      <td>-0.339813</td>\n",
       "      <td>-0.023854</td>\n",
       "      <td>1.000000</td>\n",
       "      <td>0.002270</td>\n",
       "      <td>0.041028</td>\n",
       "    </tr>\n",
       "    <tr>\n",
       "      <th>DayOfWeek</th>\n",
       "      <td>0.011387</td>\n",
       "      <td>0.001654</td>\n",
       "      <td>0.002270</td>\n",
       "      <td>1.000000</td>\n",
       "      <td>-0.020370</td>\n",
       "    </tr>\n",
       "    <tr>\n",
       "      <th>Class</th>\n",
       "      <td>-0.046805</td>\n",
       "      <td>0.133890</td>\n",
       "      <td>0.041028</td>\n",
       "      <td>-0.020370</td>\n",
       "      <td>1.000000</td>\n",
       "    </tr>\n",
       "  </tbody>\n",
       "</table>\n",
       "</div>"
      ],
      "text/plain": [
       "             Flight      Time    Length  DayOfWeek     Class\n",
       "Flight     1.000000 -0.003814 -0.339813   0.011387 -0.046805\n",
       "Time      -0.003814  1.000000 -0.023854   0.001654  0.133890\n",
       "Length    -0.339813 -0.023854  1.000000   0.002270  0.041028\n",
       "DayOfWeek  0.011387  0.001654  0.002270   1.000000 -0.020370\n",
       "Class     -0.046805  0.133890  0.041028  -0.020370  1.000000"
      ]
     },
     "execution_count": 40,
     "metadata": {},
     "output_type": "execute_result"
    }
   ],
   "source": [
    "# Melihat korelasi antara kolom\n",
    "df.select_dtypes(exclude=['object']).corr()"
   ]
  },
  {
   "cell_type": "code",
   "execution_count": 41,
   "id": "77d67e23",
   "metadata": {
    "id": "77d67e23",
    "outputId": "d74f120f-f78b-4ccd-eaa8-7ac0b8740914"
   },
   "outputs": [
    {
     "data": {
      "text/plain": [
       "<Axes: >"
      ]
     },
     "execution_count": 41,
     "metadata": {},
     "output_type": "execute_result"
    },
    {
     "data": {
      "image/png": "[encoded data removed]",
      "text/plain": [
       "<Figure size 432x288 with 2 Axes>"
      ]
     },
     "metadata": {
      "needs_background": "light"
     },
     "output_type": "display_data"
    }
   ],
   "source": [
    "# Melihat korelasi dengan heatmap\n",
    "sns.heatmap(df.select_dtypes(exclude=['object']).corr())"
   ]
  }
 ],
 "metadata": {
  "colab": {
   "provenance": []
  },
  "kernelspec": {
   "display_name": "Python 3 (ipykernel)",
   "language": "python",
   "name": "python3"
  },
  "language_info": {
   "codemirror_mode": {
    "name": "ipython",
    "version": 3
   },
   "file_extension": ".py",
   "mimetype": "text/x-python",
   "name": "python",
   "nbconvert_exporter": "python",
   "pygments_lexer": "ipython3",
   "version": "3.10.10"
  }
 },
 "nbformat": 4,
 "nbformat_minor": 5
}
