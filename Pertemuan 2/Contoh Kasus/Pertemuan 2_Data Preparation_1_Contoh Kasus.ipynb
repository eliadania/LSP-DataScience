{
 "cells": [
  {
   "cell_type": "markdown",
   "id": "30fce050",
   "metadata": {
    "id": "30fce050"
   },
   "source": [
    "<center>\n",
    "    <img src=\"https://drive.google.com/uc?export=view&id=1hDKusF04c0lNZA_qOShvWQrpImayVKz8\"  width=\"1000\" />\n",
    "</center>"
   ]
  },
  {
   "cell_type": "markdown",
   "id": "78957aef",
   "metadata": {
    "id": "78957aef"
   },
   "source": [
    "# Hands-On\n",
    "---\n",
    "Hands-On ini digunakan pada kegiatan Kursus Data Science yang merupakan pembekalan bagi mahasiswa Universitas Gunadarma untuk Skema Associate Data Scientist"
   ]
  },
  {
   "cell_type": "markdown",
   "id": "e1d3e6a4",
   "metadata": {
    "id": "e1d3e6a4"
   },
   "source": [
    "### Pertemuan 2 - Semester 7"
   ]
  },
  {
   "cell_type": "markdown",
   "id": "d4269619",
   "metadata": {
    "id": "d4269619"
   },
   "source": [
    "### Daftar Isi :\n",
    "1. Parameter Data Cleaning\n",
    "2. Parameter Data Validation\n",
    "3. Validasi Data"
   ]
  },
  {
   "cell_type": "markdown",
   "id": "e823c4bf",
   "metadata": {
    "id": "e823c4bf"
   },
   "source": [
    "### 1. Parameter *Data Cleaning*\n",
    "---"
   ]
  },
  {
   "cell_type": "markdown",
   "id": "8828f238",
   "metadata": {
    "id": "8828f238"
   },
   "source": [
    "Laporan dokumentasi data cleaning, setidaknya memiliki parameter berikut:\n",
    "- Data Set Description\n",
    "- Data Set yang digunakan\n",
    "- Jenis noise yang terjadi pada data (diantaranya: Missing data, Data errors; Coding  inconsistencies; Missing/ bad metadata\n",
    "- Pendekatan yang dilakukan untuk menghilangkan noise tersebut\n",
    "- Teknik mana yang digunakan sehingga berhasil untuk menghilangkan noise  tersebut\n",
    "- Apakah ada kasus atau atribut yang tak dapat diselamatkan\n",
    "- Pastikan data yang dikecualikan karena kondisi noisenya\n"
   ]
  },
  {
   "cell_type": "markdown",
   "id": "119719d1",
   "metadata": {
    "id": "119719d1"
   },
   "source": [
    "### 2. Parameter *Data Validation*\n",
    "---"
   ]
  },
  {
   "cell_type": "markdown",
   "id": "f314f4a3",
   "metadata": {
    "id": "f314f4a3"
   },
   "source": [
    "Laporan dokumentasi data validasi, setidaknya memiliki parameter berikut:\n",
    "- Validasi data\n",
    "- Kebenaran, misal di Indonesia isian Gender yang diakui hanya 2 P/W; Agama hanya 6 (Islam,  Protestan, Katholik, Hindu, Budha, Konghucu)\n",
    "- Kelengkapan, misal data provinsi seluruh Indonesia (34 prov), namun hanya sebagian yg ada\n",
    "- Konsistensi, misal penulisan STM atau SMK;\n",
    "- Kecukupan data → Perlukan diulang berikan justifikasi (Resampling)\n"
   ]
  },
  {
   "cell_type": "markdown",
   "id": "be2154c8",
   "metadata": {
    "id": "be2154c8"
   },
   "source": [
    "### 3. Validasi Data\n",
    "---"
   ]
  },
  {
   "cell_type": "markdown",
   "id": "4cb786f1",
   "metadata": {
    "id": "4cb786f1"
   },
   "source": [
    "Verifikasi vs Validasi\n",
    "- Verifikasi: Benar vs Salah (sesuai prosedur)\n",
    "- Validasi: Kuat vs Lemah (sesuai kenyataan)\n",
    "\n",
    "Teknik Validasi Data dan Model\n",
    "- Akurasi  Kelengkapan  Konsistensi  Ketepatan Waktu  Kepercayaan  Nilai Tambah  Penafsiran\n",
    "- Kemudahan Akses\n",
    "\n",
    "Validasi merupakan tahapan kritikal yang sering  diabaikan DS-tist pemula, karena memeriksa,  diantaranya sbb:\n",
    "- Tipe Data (mis. integer, float, string) Range Data\n",
    "- Uniqueness (mis. Kode Pos)\n",
    "- Consistent expression (mis. Jalan, Jl., Jln.)\n",
    "- Format Data (mis. utk tgl “YYYY-MM-DD” vs “DD-MM-YYYY”) → tmt (terhitung mulai tanggal)\n",
    "- Nilai Null/Missing Values\n",
    "- Misspelling/Type\n",
    "- Invalid Data (gender: L/P: L; Laki-laki; P:  Pria/Perempuan? )\n",
    "\n"
   ]
  },
  {
   "cell_type": "markdown",
   "id": "72ec6d5d",
   "metadata": {
    "id": "72ec6d5d"
   },
   "source": [
    "## Contoh Kasus Data Preparation 1\n",
    "---"
   ]
  },
  {
   "cell_type": "code",
   "execution_count": 1,
   "id": "eda21257",
   "metadata": {
    "id": "eda21257"
   },
   "outputs": [],
   "source": [
    "# Import Library Pandas\n",
    "import pandas as pd"
   ]
  },
  {
   "cell_type": "code",
   "execution_count": 2,
   "id": "5cf8c0b9",
   "metadata": {
    "id": "5cf8c0b9"
   },
   "outputs": [],
   "source": [
    "# Memuat data berformat CSV\n",
    "df = pd.read_csv('delay_maskapai.csv')"
   ]
  },
  {
   "cell_type": "code",
   "execution_count": 3,
   "id": "b87cbba4",
   "metadata": {
    "id": "b87cbba4",
    "outputId": "12b3576b-3479-4306-9f00-16bd6e4b8c04"
   },
   "outputs": [
    {
     "data": {
      "text/html": [
       "<div>\n",
       "<style scoped>\n",
       "    .dataframe tbody tr th:only-of-type {\n",
       "        vertical-align: middle;\n",
       "    }\n",
       "\n",
       "    .dataframe tbody tr th {\n",
       "        vertical-align: top;\n",
       "    }\n",
       "\n",
       "    .dataframe thead th {\n",
       "        text-align: right;\n",
       "    }\n",
       "</style>\n",
       "<table border=\"1\" class=\"dataframe\">\n",
       "  <thead>\n",
       "    <tr style=\"text-align: right;\">\n",
       "      <th></th>\n",
       "      <th>Flight</th>\n",
       "      <th>Time</th>\n",
       "      <th>Length</th>\n",
       "      <th>Airline</th>\n",
       "      <th>AirportFrom</th>\n",
       "      <th>AirportTo</th>\n",
       "      <th>DayOfWeek</th>\n",
       "      <th>Class</th>\n",
       "    </tr>\n",
       "  </thead>\n",
       "  <tbody>\n",
       "    <tr>\n",
       "      <th>0</th>\n",
       "      <td>320.0</td>\n",
       "      <td>870.0</td>\n",
       "      <td>180.0</td>\n",
       "      <td>CO</td>\n",
       "      <td>IAH</td>\n",
       "      <td>PHX</td>\n",
       "      <td>5</td>\n",
       "      <td>0</td>\n",
       "    </tr>\n",
       "    <tr>\n",
       "      <th>1</th>\n",
       "      <td>3045.0</td>\n",
       "      <td>365.0</td>\n",
       "      <td>66.0</td>\n",
       "      <td>OO</td>\n",
       "      <td>DSM</td>\n",
       "      <td>MKE</td>\n",
       "      <td>2</td>\n",
       "      <td>0</td>\n",
       "    </tr>\n",
       "    <tr>\n",
       "      <th>2</th>\n",
       "      <td>1560.0</td>\n",
       "      <td>740.0</td>\n",
       "      <td>257.0</td>\n",
       "      <td>DL</td>\n",
       "      <td>SEA</td>\n",
       "      <td>CVG</td>\n",
       "      <td>7</td>\n",
       "      <td>0</td>\n",
       "    </tr>\n",
       "    <tr>\n",
       "      <th>3</th>\n",
       "      <td>1156.0</td>\n",
       "      <td>595.0</td>\n",
       "      <td>235.0</td>\n",
       "      <td>WN</td>\n",
       "      <td>SNA</td>\n",
       "      <td>MDW</td>\n",
       "      <td>7</td>\n",
       "      <td>1</td>\n",
       "    </tr>\n",
       "    <tr>\n",
       "      <th>4</th>\n",
       "      <td>1873.0</td>\n",
       "      <td>530.0</td>\n",
       "      <td>133.0</td>\n",
       "      <td>CO</td>\n",
       "      <td>IAH</td>\n",
       "      <td>MCO</td>\n",
       "      <td>6</td>\n",
       "      <td>1</td>\n",
       "    </tr>\n",
       "  </tbody>\n",
       "</table>\n",
       "</div>"
      ],
      "text/plain": [
       "   Flight   Time  Length Airline AirportFrom AirportTo  DayOfWeek  Class\n",
       "0   320.0  870.0   180.0      CO         IAH       PHX          5      0\n",
       "1  3045.0  365.0    66.0      OO         DSM       MKE          2      0\n",
       "2  1560.0  740.0   257.0      DL         SEA       CVG          7      0\n",
       "3  1156.0  595.0   235.0      WN         SNA       MDW          7      1\n",
       "4  1873.0  530.0   133.0      CO         IAH       MCO          6      1"
      ]
     },
     "execution_count": 3,
     "metadata": {},
     "output_type": "execute_result"
    }
   ],
   "source": [
    "# Menampilkan 5 baris teratas dari dataset\n",
    "df.head()"
   ]
  },
  {
   "cell_type": "markdown",
   "id": "1cef38e3",
   "metadata": {
    "id": "1cef38e3"
   },
   "source": [
    "#### Data cleansing - membuang kolom\n",
    "Dari dataset di atas dapat diketahui bahwa kolom Flight merupakan kolom untuk ID masing-masing penerbangan, kolom ini dapat dibuang karena tidak memiliki makna rill. Untuk membuang kolom dapat menggunakan fungsi iloc maupun drop, berikut adalah perbedaan penggunaan loc dan iloc"
   ]
  },
  {
   "cell_type": "markdown",
   "id": "b5852583",
   "metadata": {
    "id": "b5852583"
   },
   "source": [
    "<center>\n",
    "    <img src=\"https://miro.medium.com/v2/resize:fit:1400/1*dYtynwab99wnMqfgyPUd3w.png\"  width=\"500\" />\n",
    "</center>"
   ]
  },
  {
   "cell_type": "code",
   "execution_count": 4,
   "id": "65977180",
   "metadata": {
    "id": "65977180"
   },
   "outputs": [],
   "source": [
    "# Membuang kolom Flight menggunakan fungsi iloc\n",
    "df_drop1 = df.iloc[:,1:8]"
   ]
  },
  {
   "cell_type": "code",
   "execution_count": 5,
   "id": "0b62d434",
   "metadata": {
    "id": "0b62d434",
    "outputId": "05a5722b-81f3-44db-a29c-c6f9a9856b40",
    "scrolled": true
   },
   "outputs": [
    {
     "data": {
      "text/html": [
       "<div>\n",
       "<style scoped>\n",
       "    .dataframe tbody tr th:only-of-type {\n",
       "        vertical-align: middle;\n",
       "    }\n",
       "\n",
       "    .dataframe tbody tr th {\n",
       "        vertical-align: top;\n",
       "    }\n",
       "\n",
       "    .dataframe thead th {\n",
       "        text-align: right;\n",
       "    }\n",
       "</style>\n",
       "<table border=\"1\" class=\"dataframe\">\n",
       "  <thead>\n",
       "    <tr style=\"text-align: right;\">\n",
       "      <th></th>\n",
       "      <th>Time</th>\n",
       "      <th>Length</th>\n",
       "      <th>Airline</th>\n",
       "      <th>AirportFrom</th>\n",
       "      <th>AirportTo</th>\n",
       "      <th>DayOfWeek</th>\n",
       "      <th>Class</th>\n",
       "    </tr>\n",
       "  </thead>\n",
       "  <tbody>\n",
       "    <tr>\n",
       "      <th>0</th>\n",
       "      <td>870.0</td>\n",
       "      <td>180.0</td>\n",
       "      <td>CO</td>\n",
       "      <td>IAH</td>\n",
       "      <td>PHX</td>\n",
       "      <td>5</td>\n",
       "      <td>0</td>\n",
       "    </tr>\n",
       "    <tr>\n",
       "      <th>1</th>\n",
       "      <td>365.0</td>\n",
       "      <td>66.0</td>\n",
       "      <td>OO</td>\n",
       "      <td>DSM</td>\n",
       "      <td>MKE</td>\n",
       "      <td>2</td>\n",
       "      <td>0</td>\n",
       "    </tr>\n",
       "    <tr>\n",
       "      <th>2</th>\n",
       "      <td>740.0</td>\n",
       "      <td>257.0</td>\n",
       "      <td>DL</td>\n",
       "      <td>SEA</td>\n",
       "      <td>CVG</td>\n",
       "      <td>7</td>\n",
       "      <td>0</td>\n",
       "    </tr>\n",
       "    <tr>\n",
       "      <th>3</th>\n",
       "      <td>595.0</td>\n",
       "      <td>235.0</td>\n",
       "      <td>WN</td>\n",
       "      <td>SNA</td>\n",
       "      <td>MDW</td>\n",
       "      <td>7</td>\n",
       "      <td>1</td>\n",
       "    </tr>\n",
       "    <tr>\n",
       "      <th>4</th>\n",
       "      <td>530.0</td>\n",
       "      <td>133.0</td>\n",
       "      <td>CO</td>\n",
       "      <td>IAH</td>\n",
       "      <td>MCO</td>\n",
       "      <td>6</td>\n",
       "      <td>1</td>\n",
       "    </tr>\n",
       "  </tbody>\n",
       "</table>\n",
       "</div>"
      ],
      "text/plain": [
       "    Time  Length Airline AirportFrom AirportTo  DayOfWeek  Class\n",
       "0  870.0   180.0      CO         IAH       PHX          5      0\n",
       "1  365.0    66.0      OO         DSM       MKE          2      0\n",
       "2  740.0   257.0      DL         SEA       CVG          7      0\n",
       "3  595.0   235.0      WN         SNA       MDW          7      1\n",
       "4  530.0   133.0      CO         IAH       MCO          6      1"
      ]
     },
     "execution_count": 5,
     "metadata": {},
     "output_type": "execute_result"
    }
   ],
   "source": [
    "df_drop1.head()"
   ]
  },
  {
   "cell_type": "code",
   "execution_count": 6,
   "id": "d87ff210",
   "metadata": {
    "id": "d87ff210"
   },
   "outputs": [],
   "source": [
    "# Membuang kolom Flight dengan fungsi drop - memuat dataset\n",
    "df_drop2 = pd.read_csv('delay_maskapai.csv')"
   ]
  },
  {
   "cell_type": "code",
   "execution_count": 7,
   "id": "ac02d00e",
   "metadata": {
    "id": "ac02d00e"
   },
   "outputs": [],
   "source": [
    "# Membuang kolom flight dengan fungsi drop\n",
    "df_drop2.drop(['Flight'],axis=1,inplace=True)"
   ]
  },
  {
   "cell_type": "code",
   "execution_count": 8,
   "id": "f15ec84b",
   "metadata": {
    "id": "f15ec84b",
    "outputId": "78ce5ef2-3dc7-40bb-c7a0-9978db1b6c8e"
   },
   "outputs": [
    {
     "data": {
      "text/html": [
       "<div>\n",
       "<style scoped>\n",
       "    .dataframe tbody tr th:only-of-type {\n",
       "        vertical-align: middle;\n",
       "    }\n",
       "\n",
       "    .dataframe tbody tr th {\n",
       "        vertical-align: top;\n",
       "    }\n",
       "\n",
       "    .dataframe thead th {\n",
       "        text-align: right;\n",
       "    }\n",
       "</style>\n",
       "<table border=\"1\" class=\"dataframe\">\n",
       "  <thead>\n",
       "    <tr style=\"text-align: right;\">\n",
       "      <th></th>\n",
       "      <th>Time</th>\n",
       "      <th>Length</th>\n",
       "      <th>Airline</th>\n",
       "      <th>AirportFrom</th>\n",
       "      <th>AirportTo</th>\n",
       "      <th>DayOfWeek</th>\n",
       "      <th>Class</th>\n",
       "    </tr>\n",
       "  </thead>\n",
       "  <tbody>\n",
       "    <tr>\n",
       "      <th>0</th>\n",
       "      <td>870.0</td>\n",
       "      <td>180.0</td>\n",
       "      <td>CO</td>\n",
       "      <td>IAH</td>\n",
       "      <td>PHX</td>\n",
       "      <td>5</td>\n",
       "      <td>0</td>\n",
       "    </tr>\n",
       "    <tr>\n",
       "      <th>1</th>\n",
       "      <td>365.0</td>\n",
       "      <td>66.0</td>\n",
       "      <td>OO</td>\n",
       "      <td>DSM</td>\n",
       "      <td>MKE</td>\n",
       "      <td>2</td>\n",
       "      <td>0</td>\n",
       "    </tr>\n",
       "    <tr>\n",
       "      <th>2</th>\n",
       "      <td>740.0</td>\n",
       "      <td>257.0</td>\n",
       "      <td>DL</td>\n",
       "      <td>SEA</td>\n",
       "      <td>CVG</td>\n",
       "      <td>7</td>\n",
       "      <td>0</td>\n",
       "    </tr>\n",
       "    <tr>\n",
       "      <th>3</th>\n",
       "      <td>595.0</td>\n",
       "      <td>235.0</td>\n",
       "      <td>WN</td>\n",
       "      <td>SNA</td>\n",
       "      <td>MDW</td>\n",
       "      <td>7</td>\n",
       "      <td>1</td>\n",
       "    </tr>\n",
       "    <tr>\n",
       "      <th>4</th>\n",
       "      <td>530.0</td>\n",
       "      <td>133.0</td>\n",
       "      <td>CO</td>\n",
       "      <td>IAH</td>\n",
       "      <td>MCO</td>\n",
       "      <td>6</td>\n",
       "      <td>1</td>\n",
       "    </tr>\n",
       "  </tbody>\n",
       "</table>\n",
       "</div>"
      ],
      "text/plain": [
       "    Time  Length Airline AirportFrom AirportTo  DayOfWeek  Class\n",
       "0  870.0   180.0      CO         IAH       PHX          5      0\n",
       "1  365.0    66.0      OO         DSM       MKE          2      0\n",
       "2  740.0   257.0      DL         SEA       CVG          7      0\n",
       "3  595.0   235.0      WN         SNA       MDW          7      1\n",
       "4  530.0   133.0      CO         IAH       MCO          6      1"
      ]
     },
     "execution_count": 8,
     "metadata": {},
     "output_type": "execute_result"
    }
   ],
   "source": [
    "df_drop2.head()"
   ]
  },
  {
   "cell_type": "markdown",
   "id": "c31f69dc",
   "metadata": {
    "id": "c31f69dc"
   },
   "source": [
    "#### Data cleansing - Mengubah indeks di dataframe\n",
    "Karena tidak ada kolom yang bernilai unik pada dataframe, maka kita perlu membuat kolom unik terlebih dahulu dan menjadikan kolom tersebut sebagai index dengan numpy"
   ]
  },
  {
   "cell_type": "code",
   "execution_count": 9,
   "id": "2b860751",
   "metadata": {
    "id": "2b860751"
   },
   "outputs": [],
   "source": [
    "#Import Library\n",
    "import numpy as np"
   ]
  },
  {
   "cell_type": "code",
   "execution_count": 10,
   "id": "073fab4d",
   "metadata": {
    "id": "073fab4d"
   },
   "outputs": [],
   "source": [
    "df_index = pd.read_csv('delay_maskapai.csv')"
   ]
  },
  {
   "cell_type": "code",
   "execution_count": 11,
   "id": "e030f0e4",
   "metadata": {
    "id": "e030f0e4"
   },
   "outputs": [],
   "source": [
    "unique_id = np.random.choice(len(df),size=len(df),replace=False)"
   ]
  },
  {
   "cell_type": "code",
   "execution_count": 12,
   "id": "4504bcb8",
   "metadata": {
    "id": "4504bcb8"
   },
   "outputs": [],
   "source": [
    "df_index['unique_id'] = unique_id"
   ]
  },
  {
   "cell_type": "code",
   "execution_count": 13,
   "id": "241a23b4",
   "metadata": {
    "id": "241a23b4",
    "outputId": "fb2f0acc-a46b-4439-9f96-042f6f39f5af"
   },
   "outputs": [
    {
     "data": {
      "text/plain": [
       "True"
      ]
     },
     "execution_count": 13,
     "metadata": {},
     "output_type": "execute_result"
    }
   ],
   "source": [
    "df_index['unique_id'].is_unique"
   ]
  },
  {
   "cell_type": "code",
   "execution_count": 14,
   "id": "7f700004",
   "metadata": {
    "id": "7f700004"
   },
   "outputs": [],
   "source": [
    "df_index = df_index.set_index('unique_id')"
   ]
  },
  {
   "cell_type": "code",
   "execution_count": 15,
   "id": "ff85f3f5",
   "metadata": {
    "id": "ff85f3f5"
   },
   "outputs": [],
   "source": [
    "df_index.drop(['Flight'],axis=1,inplace=True)"
   ]
  },
  {
   "cell_type": "code",
   "execution_count": 16,
   "id": "62babdc1",
   "metadata": {
    "id": "62babdc1",
    "outputId": "616a8d4d-981c-4bba-d897-aeff9b31d616",
    "scrolled": true
   },
   "outputs": [
    {
     "data": {
      "text/html": [
       "<div>\n",
       "<style scoped>\n",
       "    .dataframe tbody tr th:only-of-type {\n",
       "        vertical-align: middle;\n",
       "    }\n",
       "\n",
       "    .dataframe tbody tr th {\n",
       "        vertical-align: top;\n",
       "    }\n",
       "\n",
       "    .dataframe thead th {\n",
       "        text-align: right;\n",
       "    }\n",
       "</style>\n",
       "<table border=\"1\" class=\"dataframe\">\n",
       "  <thead>\n",
       "    <tr style=\"text-align: right;\">\n",
       "      <th></th>\n",
       "      <th>Time</th>\n",
       "      <th>Length</th>\n",
       "      <th>Airline</th>\n",
       "      <th>AirportFrom</th>\n",
       "      <th>AirportTo</th>\n",
       "      <th>DayOfWeek</th>\n",
       "      <th>Class</th>\n",
       "    </tr>\n",
       "    <tr>\n",
       "      <th>unique_id</th>\n",
       "      <th></th>\n",
       "      <th></th>\n",
       "      <th></th>\n",
       "      <th></th>\n",
       "      <th></th>\n",
       "      <th></th>\n",
       "      <th></th>\n",
       "    </tr>\n",
       "  </thead>\n",
       "  <tbody>\n",
       "    <tr>\n",
       "      <th>7534</th>\n",
       "      <td>870.0</td>\n",
       "      <td>180.0</td>\n",
       "      <td>CO</td>\n",
       "      <td>IAH</td>\n",
       "      <td>PHX</td>\n",
       "      <td>5</td>\n",
       "      <td>0</td>\n",
       "    </tr>\n",
       "    <tr>\n",
       "      <th>8359</th>\n",
       "      <td>365.0</td>\n",
       "      <td>66.0</td>\n",
       "      <td>OO</td>\n",
       "      <td>DSM</td>\n",
       "      <td>MKE</td>\n",
       "      <td>2</td>\n",
       "      <td>0</td>\n",
       "    </tr>\n",
       "    <tr>\n",
       "      <th>3222</th>\n",
       "      <td>740.0</td>\n",
       "      <td>257.0</td>\n",
       "      <td>DL</td>\n",
       "      <td>SEA</td>\n",
       "      <td>CVG</td>\n",
       "      <td>7</td>\n",
       "      <td>0</td>\n",
       "    </tr>\n",
       "    <tr>\n",
       "      <th>5347</th>\n",
       "      <td>595.0</td>\n",
       "      <td>235.0</td>\n",
       "      <td>WN</td>\n",
       "      <td>SNA</td>\n",
       "      <td>MDW</td>\n",
       "      <td>7</td>\n",
       "      <td>1</td>\n",
       "    </tr>\n",
       "    <tr>\n",
       "      <th>930</th>\n",
       "      <td>530.0</td>\n",
       "      <td>133.0</td>\n",
       "      <td>CO</td>\n",
       "      <td>IAH</td>\n",
       "      <td>MCO</td>\n",
       "      <td>6</td>\n",
       "      <td>1</td>\n",
       "    </tr>\n",
       "  </tbody>\n",
       "</table>\n",
       "</div>"
      ],
      "text/plain": [
       "            Time  Length Airline AirportFrom AirportTo  DayOfWeek  Class\n",
       "unique_id                                                               \n",
       "7534       870.0   180.0      CO         IAH       PHX          5      0\n",
       "8359       365.0    66.0      OO         DSM       MKE          2      0\n",
       "3222       740.0   257.0      DL         SEA       CVG          7      0\n",
       "5347       595.0   235.0      WN         SNA       MDW          7      1\n",
       "930        530.0   133.0      CO         IAH       MCO          6      1"
      ]
     },
     "execution_count": 16,
     "metadata": {},
     "output_type": "execute_result"
    }
   ],
   "source": [
    "df_index.head()"
   ]
  },
  {
   "cell_type": "markdown",
   "id": "b4f816a3",
   "metadata": {
    "id": "b4f816a3"
   },
   "source": [
    "#### Data cleansing - Merapikan *Fields* dalam data"
   ]
  },
  {
   "cell_type": "markdown",
   "id": "101733f8",
   "metadata": {
    "id": "101733f8"
   },
   "source": [
    "Pada dataset ini, kolom \"Time\" merupakan waktu keberangkatan dari sebuah maskapai. Kondisi nilai pada kolom tersebut adalah waktu yang dikonversi ke menit, untuk melihat jumlah delay terbanyak dari semua waktu keberangkatan, kita perlu mengonversi menit tersebut ke dalam jam dan menit"
   ]
  },
  {
   "cell_type": "code",
   "execution_count": 17,
   "id": "3214101d",
   "metadata": {
    "id": "3214101d"
   },
   "outputs": [],
   "source": [
    "Time = pd.to_datetime(df.Time, unit='m').dt.strftime('%H.%M')"
   ]
  },
  {
   "cell_type": "markdown",
   "id": "4fe8e44c",
   "metadata": {
    "id": "4fe8e44c"
   },
   "source": [
    "- pd.to_datetime(df.Time, unit='m'): Memanggil fungsi to_datetime dari modul pandas dan memberikan kolom 'Time' dari DataFrame df sebagai argumen pertama. Argumen unit='m' digunakan untuk mengindikasikan bahwa nilai dalam kolom 'Time' dianggap sebagai jumlah menit.\n",
    "    \n",
    "    Fungsi to_datetime mengonversi nilai numerik menjadi objek Pandas DateTime yang dapat diolah lebih lanjut. Dalam hal ini, setiap nilai dalam kolom 'Time' dianggap sebagai jumlah menit sejak awal waktu (misalnya, 0 menit adalah awal waktu)."
   ]
  },
  {
   "cell_type": "markdown",
   "id": "cb1817be",
   "metadata": {
    "id": "cb1817be"
   },
   "source": [
    "- .dt.strftime('%H.%M'): Menggunakan metode .dt untuk mengakses properti datetime pada kolom yang diubah tipe datanya. Kemudian, metode strftime digunakan untuk memformat nilai datetime menjadi string dengan format yang ditentukan.\n",
    "    \n",
    "    Dalam hal ini, format string yang digunakan adalah '%H.%M', yang berarti mengonversi nilai datetime menjadi string dengan format \"jam.menit\". Misalnya, nilai datetime 390 akan diubah menjadi string \"06.30\"."
   ]
  },
  {
   "cell_type": "code",
   "execution_count": 18,
   "id": "1f2481bb",
   "metadata": {
    "id": "1f2481bb"
   },
   "outputs": [],
   "source": [
    "df['DepartTime'] = Time"
   ]
  },
  {
   "cell_type": "code",
   "execution_count": 19,
   "id": "9ecfb970",
   "metadata": {
    "id": "9ecfb970",
    "outputId": "ffbd80b0-a3f7-46a5-9b3d-468e528a2bca"
   },
   "outputs": [
    {
     "data": {
      "text/html": [
       "<div>\n",
       "<style scoped>\n",
       "    .dataframe tbody tr th:only-of-type {\n",
       "        vertical-align: middle;\n",
       "    }\n",
       "\n",
       "    .dataframe tbody tr th {\n",
       "        vertical-align: top;\n",
       "    }\n",
       "\n",
       "    .dataframe thead th {\n",
       "        text-align: right;\n",
       "    }\n",
       "</style>\n",
       "<table border=\"1\" class=\"dataframe\">\n",
       "  <thead>\n",
       "    <tr style=\"text-align: right;\">\n",
       "      <th></th>\n",
       "      <th>Flight</th>\n",
       "      <th>Time</th>\n",
       "      <th>Length</th>\n",
       "      <th>Airline</th>\n",
       "      <th>AirportFrom</th>\n",
       "      <th>AirportTo</th>\n",
       "      <th>DayOfWeek</th>\n",
       "      <th>Class</th>\n",
       "      <th>DepartTime</th>\n",
       "    </tr>\n",
       "  </thead>\n",
       "  <tbody>\n",
       "    <tr>\n",
       "      <th>0</th>\n",
       "      <td>320.0</td>\n",
       "      <td>870.0</td>\n",
       "      <td>180.0</td>\n",
       "      <td>CO</td>\n",
       "      <td>IAH</td>\n",
       "      <td>PHX</td>\n",
       "      <td>5</td>\n",
       "      <td>0</td>\n",
       "      <td>14.30</td>\n",
       "    </tr>\n",
       "    <tr>\n",
       "      <th>1</th>\n",
       "      <td>3045.0</td>\n",
       "      <td>365.0</td>\n",
       "      <td>66.0</td>\n",
       "      <td>OO</td>\n",
       "      <td>DSM</td>\n",
       "      <td>MKE</td>\n",
       "      <td>2</td>\n",
       "      <td>0</td>\n",
       "      <td>06.05</td>\n",
       "    </tr>\n",
       "    <tr>\n",
       "      <th>2</th>\n",
       "      <td>1560.0</td>\n",
       "      <td>740.0</td>\n",
       "      <td>257.0</td>\n",
       "      <td>DL</td>\n",
       "      <td>SEA</td>\n",
       "      <td>CVG</td>\n",
       "      <td>7</td>\n",
       "      <td>0</td>\n",
       "      <td>12.20</td>\n",
       "    </tr>\n",
       "    <tr>\n",
       "      <th>3</th>\n",
       "      <td>1156.0</td>\n",
       "      <td>595.0</td>\n",
       "      <td>235.0</td>\n",
       "      <td>WN</td>\n",
       "      <td>SNA</td>\n",
       "      <td>MDW</td>\n",
       "      <td>7</td>\n",
       "      <td>1</td>\n",
       "      <td>09.55</td>\n",
       "    </tr>\n",
       "    <tr>\n",
       "      <th>4</th>\n",
       "      <td>1873.0</td>\n",
       "      <td>530.0</td>\n",
       "      <td>133.0</td>\n",
       "      <td>CO</td>\n",
       "      <td>IAH</td>\n",
       "      <td>MCO</td>\n",
       "      <td>6</td>\n",
       "      <td>1</td>\n",
       "      <td>08.50</td>\n",
       "    </tr>\n",
       "  </tbody>\n",
       "</table>\n",
       "</div>"
      ],
      "text/plain": [
       "   Flight   Time  Length Airline AirportFrom AirportTo  DayOfWeek  Class  \\\n",
       "0   320.0  870.0   180.0      CO         IAH       PHX          5      0   \n",
       "1  3045.0  365.0    66.0      OO         DSM       MKE          2      0   \n",
       "2  1560.0  740.0   257.0      DL         SEA       CVG          7      0   \n",
       "3  1156.0  595.0   235.0      WN         SNA       MDW          7      1   \n",
       "4  1873.0  530.0   133.0      CO         IAH       MCO          6      1   \n",
       "\n",
       "  DepartTime  \n",
       "0      14.30  \n",
       "1      06.05  \n",
       "2      12.20  \n",
       "3      09.55  \n",
       "4      08.50  "
      ]
     },
     "execution_count": 19,
     "metadata": {},
     "output_type": "execute_result"
    }
   ],
   "source": [
    "df.head()"
   ]
  },
  {
   "cell_type": "code",
   "execution_count": 20,
   "id": "b4a1ea61",
   "metadata": {
    "id": "b4a1ea61",
    "outputId": "b01c37f9-3652-4b84-d5c6-b170cc3962dc"
   },
   "outputs": [
    {
     "data": {
      "text/plain": [
       "DepartTime\n",
       "00.15    1\n",
       "00.30    0\n",
       "00.35    1\n",
       "00.40    1\n",
       "00.49    0\n",
       "Name: Class, dtype: int64"
      ]
     },
     "execution_count": 20,
     "metadata": {},
     "output_type": "execute_result"
    }
   ],
   "source": [
    "Time_Class_Sum = df.groupby('DepartTime').sum(numeric_only=True)['Class'].sort_index()\n",
    "Time_Class_Sum.head()"
   ]
  },
  {
   "cell_type": "markdown",
   "id": "66f061a6",
   "metadata": {
    "id": "66f061a6"
   },
   "source": [
    "- df.groupby('DepartTime'): Menggunakan metode groupby pada DataFrame df untuk mengelompokkan data berdasarkan nilai unik dalam kolom 'DepartTime'. Ini menciptakan objek GroupBy yang membagi data menjadi kelompok-kelompok berdasarkan nilai 'DepartTime'.\n",
    "- .sum()['Class']: Setelah data dikelompokkan, digunakan metode .sum() untuk menghitung jumlah (sum) nilai dalam setiap kelompok. Kemudian, operator ['Class'] digunakan untuk memilih kolom 'Class' dari hasil pengelompokan. Ini menghasilkan Series yang berisi nilai jumlah 'Class' untuk setiap kelompok 'DepartTime'.\n",
    "\n",
    "- .sort_index(): Setelah menghitung jumlah 'Class' untuk setiap kelompok, metode .sort_index() digunakan untuk mengurutkan hasil berdasarkan indeksnya. Hal ini menghasilkan Series yang diurutkan berdasarkan nilai unik dalam kolom 'DepartTime'."
   ]
  },
  {
   "cell_type": "code",
   "execution_count": 21,
   "id": "fd311774",
   "metadata": {
    "id": "fd311774",
    "outputId": "8caf4b66-b9b2-403f-81ac-03fe39caca03"
   },
   "outputs": [
    {
     "data": {
      "text/plain": [
       "DepartTime\n",
       "06.00    50\n",
       "19.00    38\n",
       "17.00    38\n",
       "07.00    37\n",
       "16.00    36\n",
       "12.00    36\n",
       "11.40    35\n",
       "20.00    34\n",
       "19.05    33\n",
       "14.45    33\n",
       "17.30    32\n",
       "10.00    32\n",
       "12.05    32\n",
       "11.55    31\n",
       "16.30    31\n",
       "18.15    30\n",
       "15.15    30\n",
       "11.45    30\n",
       "18.20    29\n",
       "12.30    29\n",
       "Name: Class, dtype: int64"
      ]
     },
     "execution_count": 21,
     "metadata": {},
     "output_type": "execute_result"
    }
   ],
   "source": [
    "Time_Class_Sum.sort_values(ascending=False).head(20)"
   ]
  },
  {
   "cell_type": "markdown",
   "id": "77895077",
   "metadata": {
    "id": "77895077"
   },
   "source": [
    "Dari kode di atas dapat diketahui bahwa waktu 06.00 merupakan waktu dengan jumlah terbanyak. Berikut kita akan lakukan visualisasi dengan line chart"
   ]
  },
  {
   "cell_type": "code",
   "execution_count": 22,
   "id": "0f5f7c02",
   "metadata": {
    "id": "0f5f7c02"
   },
   "outputs": [],
   "source": [
    "import matplotlib.pyplot as plt"
   ]
  },
  {
   "cell_type": "code",
   "execution_count": 23,
   "id": "ba6a76ce",
   "metadata": {
    "id": "ba6a76ce",
    "outputId": "cc1c51d7-d807-483b-f00f-3c5803ce272f"
   },
   "outputs": [
    {
     "data": {
      "image/png": "[encoded data removed]",
      "text/plain": [
       "<Figure size 1500x1000 with 1 Axes>"
      ]
     },
     "metadata": {},
     "output_type": "display_data"
    }
   ],
   "source": [
    "# Mengatur ukuran gambar\n",
    "plt.figure(figsize=(15, 10))\n",
    "\n",
    "# Melakukan plot data\n",
    "Time_Class_Sum.plot()\n",
    "\n",
    "# Mengatur label sumbu x\n",
    "ticks = range(0, len(Time_Class_Sum.index), 30)  # Menentukan posisi label setiap setengah jam\n",
    "labels = Time_Class_Sum.index[ticks]  # Mengambil label berdasarkan posisi\n",
    "plt.xticks(rotation=90) # Mengatur posisi rotasi label pada sumbu x\n",
    "plt.xticks(ticks, labels)  # Mengatur posisi dan label pada sumbu x\n",
    "\n",
    "# Mengatur label sumbu y dan judul grafik\n",
    "plt.xlabel('Jam')\n",
    "plt.ylabel('Jumlah Delay')\n",
    "plt.title('Jumlah Delay Dalam 24 jam')\n",
    "\n",
    "# Menampilkan grafik\n",
    "plt.show()\n"
   ]
  },
  {
   "cell_type": "markdown",
   "id": "bdd3f88e",
   "metadata": {
    "id": "bdd3f88e"
   },
   "source": [
    "#### Data cleansing - Mengganti Nama Kolom"
   ]
  },
  {
   "cell_type": "markdown",
   "id": "1256a079",
   "metadata": {
    "id": "1256a079"
   },
   "source": [
    "Kita dapat mengganti nama kolom \"Time\" menjadi \"DepartTime\""
   ]
  },
  {
   "cell_type": "code",
   "execution_count": 24,
   "id": "91b1c797",
   "metadata": {
    "id": "91b1c797"
   },
   "outputs": [],
   "source": [
    "df_rename_col = pd.read_csv('delay_maskapai.csv')"
   ]
  },
  {
   "cell_type": "code",
   "execution_count": 25,
   "id": "d8987ee5",
   "metadata": {
    "id": "d8987ee5",
    "outputId": "ff1c8307-32e0-4598-9e48-c76dd3dde5b0"
   },
   "outputs": [
    {
     "data": {
      "text/html": [
       "<div>\n",
       "<style scoped>\n",
       "    .dataframe tbody tr th:only-of-type {\n",
       "        vertical-align: middle;\n",
       "    }\n",
       "\n",
       "    .dataframe tbody tr th {\n",
       "        vertical-align: top;\n",
       "    }\n",
       "\n",
       "    .dataframe thead th {\n",
       "        text-align: right;\n",
       "    }\n",
       "</style>\n",
       "<table border=\"1\" class=\"dataframe\">\n",
       "  <thead>\n",
       "    <tr style=\"text-align: right;\">\n",
       "      <th></th>\n",
       "      <th>Flight</th>\n",
       "      <th>Time</th>\n",
       "      <th>Length</th>\n",
       "      <th>Airline</th>\n",
       "      <th>AirportFrom</th>\n",
       "      <th>AirportTo</th>\n",
       "      <th>DayOfWeek</th>\n",
       "      <th>Class</th>\n",
       "    </tr>\n",
       "  </thead>\n",
       "  <tbody>\n",
       "    <tr>\n",
       "      <th>0</th>\n",
       "      <td>320.0</td>\n",
       "      <td>870.0</td>\n",
       "      <td>180.0</td>\n",
       "      <td>CO</td>\n",
       "      <td>IAH</td>\n",
       "      <td>PHX</td>\n",
       "      <td>5</td>\n",
       "      <td>0</td>\n",
       "    </tr>\n",
       "    <tr>\n",
       "      <th>1</th>\n",
       "      <td>3045.0</td>\n",
       "      <td>365.0</td>\n",
       "      <td>66.0</td>\n",
       "      <td>OO</td>\n",
       "      <td>DSM</td>\n",
       "      <td>MKE</td>\n",
       "      <td>2</td>\n",
       "      <td>0</td>\n",
       "    </tr>\n",
       "    <tr>\n",
       "      <th>2</th>\n",
       "      <td>1560.0</td>\n",
       "      <td>740.0</td>\n",
       "      <td>257.0</td>\n",
       "      <td>DL</td>\n",
       "      <td>SEA</td>\n",
       "      <td>CVG</td>\n",
       "      <td>7</td>\n",
       "      <td>0</td>\n",
       "    </tr>\n",
       "    <tr>\n",
       "      <th>3</th>\n",
       "      <td>1156.0</td>\n",
       "      <td>595.0</td>\n",
       "      <td>235.0</td>\n",
       "      <td>WN</td>\n",
       "      <td>SNA</td>\n",
       "      <td>MDW</td>\n",
       "      <td>7</td>\n",
       "      <td>1</td>\n",
       "    </tr>\n",
       "    <tr>\n",
       "      <th>4</th>\n",
       "      <td>1873.0</td>\n",
       "      <td>530.0</td>\n",
       "      <td>133.0</td>\n",
       "      <td>CO</td>\n",
       "      <td>IAH</td>\n",
       "      <td>MCO</td>\n",
       "      <td>6</td>\n",
       "      <td>1</td>\n",
       "    </tr>\n",
       "  </tbody>\n",
       "</table>\n",
       "</div>"
      ],
      "text/plain": [
       "   Flight   Time  Length Airline AirportFrom AirportTo  DayOfWeek  Class\n",
       "0   320.0  870.0   180.0      CO         IAH       PHX          5      0\n",
       "1  3045.0  365.0    66.0      OO         DSM       MKE          2      0\n",
       "2  1560.0  740.0   257.0      DL         SEA       CVG          7      0\n",
       "3  1156.0  595.0   235.0      WN         SNA       MDW          7      1\n",
       "4  1873.0  530.0   133.0      CO         IAH       MCO          6      1"
      ]
     },
     "execution_count": 25,
     "metadata": {},
     "output_type": "execute_result"
    }
   ],
   "source": [
    "df_rename_col.head()"
   ]
  },
  {
   "cell_type": "code",
   "execution_count": 26,
   "id": "a4473a45",
   "metadata": {
    "id": "a4473a45"
   },
   "outputs": [],
   "source": [
    "df_rename_col = df_rename_col.rename(columns={\"Time\":\"DepartTime\"})"
   ]
  },
  {
   "cell_type": "code",
   "execution_count": 27,
   "id": "050b64b7",
   "metadata": {
    "id": "050b64b7",
    "outputId": "a2d9d5a7-fcf3-4773-d11e-8f1c21eacf37",
    "scrolled": true
   },
   "outputs": [
    {
     "data": {
      "text/html": [
       "<div>\n",
       "<style scoped>\n",
       "    .dataframe tbody tr th:only-of-type {\n",
       "        vertical-align: middle;\n",
       "    }\n",
       "\n",
       "    .dataframe tbody tr th {\n",
       "        vertical-align: top;\n",
       "    }\n",
       "\n",
       "    .dataframe thead th {\n",
       "        text-align: right;\n",
       "    }\n",
       "</style>\n",
       "<table border=\"1\" class=\"dataframe\">\n",
       "  <thead>\n",
       "    <tr style=\"text-align: right;\">\n",
       "      <th></th>\n",
       "      <th>Flight</th>\n",
       "      <th>DepartTime</th>\n",
       "      <th>Length</th>\n",
       "      <th>Airline</th>\n",
       "      <th>AirportFrom</th>\n",
       "      <th>AirportTo</th>\n",
       "      <th>DayOfWeek</th>\n",
       "      <th>Class</th>\n",
       "    </tr>\n",
       "  </thead>\n",
       "  <tbody>\n",
       "    <tr>\n",
       "      <th>0</th>\n",
       "      <td>320.0</td>\n",
       "      <td>870.0</td>\n",
       "      <td>180.0</td>\n",
       "      <td>CO</td>\n",
       "      <td>IAH</td>\n",
       "      <td>PHX</td>\n",
       "      <td>5</td>\n",
       "      <td>0</td>\n",
       "    </tr>\n",
       "    <tr>\n",
       "      <th>1</th>\n",
       "      <td>3045.0</td>\n",
       "      <td>365.0</td>\n",
       "      <td>66.0</td>\n",
       "      <td>OO</td>\n",
       "      <td>DSM</td>\n",
       "      <td>MKE</td>\n",
       "      <td>2</td>\n",
       "      <td>0</td>\n",
       "    </tr>\n",
       "    <tr>\n",
       "      <th>2</th>\n",
       "      <td>1560.0</td>\n",
       "      <td>740.0</td>\n",
       "      <td>257.0</td>\n",
       "      <td>DL</td>\n",
       "      <td>SEA</td>\n",
       "      <td>CVG</td>\n",
       "      <td>7</td>\n",
       "      <td>0</td>\n",
       "    </tr>\n",
       "    <tr>\n",
       "      <th>3</th>\n",
       "      <td>1156.0</td>\n",
       "      <td>595.0</td>\n",
       "      <td>235.0</td>\n",
       "      <td>WN</td>\n",
       "      <td>SNA</td>\n",
       "      <td>MDW</td>\n",
       "      <td>7</td>\n",
       "      <td>1</td>\n",
       "    </tr>\n",
       "    <tr>\n",
       "      <th>4</th>\n",
       "      <td>1873.0</td>\n",
       "      <td>530.0</td>\n",
       "      <td>133.0</td>\n",
       "      <td>CO</td>\n",
       "      <td>IAH</td>\n",
       "      <td>MCO</td>\n",
       "      <td>6</td>\n",
       "      <td>1</td>\n",
       "    </tr>\n",
       "  </tbody>\n",
       "</table>\n",
       "</div>"
      ],
      "text/plain": [
       "   Flight  DepartTime  Length Airline AirportFrom AirportTo  DayOfWeek  Class\n",
       "0   320.0       870.0   180.0      CO         IAH       PHX          5      0\n",
       "1  3045.0       365.0    66.0      OO         DSM       MKE          2      0\n",
       "2  1560.0       740.0   257.0      DL         SEA       CVG          7      0\n",
       "3  1156.0       595.0   235.0      WN         SNA       MDW          7      1\n",
       "4  1873.0       530.0   133.0      CO         IAH       MCO          6      1"
      ]
     },
     "execution_count": 27,
     "metadata": {},
     "output_type": "execute_result"
    }
   ],
   "source": [
    "df_rename_col.head()"
   ]
  }
 ],
 "metadata": {
  "colab": {
   "provenance": []
  },
  "kernelspec": {
   "display_name": "Python 3 (ipykernel)",
   "language": "python",
   "name": "python3"
  },
  "language_info": {
   "codemirror_mode": {
    "name": "ipython",
    "version": 3
   },
   "file_extension": ".py",
   "mimetype": "text/x-python",
   "name": "python",
   "nbconvert_exporter": "python",
   "pygments_lexer": "ipython3",
   "version": "3.10.10"
  }
 },
 "nbformat": 4,
 "nbformat_minor": 5
}
