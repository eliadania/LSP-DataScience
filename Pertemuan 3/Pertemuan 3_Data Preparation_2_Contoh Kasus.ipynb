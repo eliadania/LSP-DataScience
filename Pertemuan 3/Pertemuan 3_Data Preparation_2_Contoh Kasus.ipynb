{
 "cells": [
  {
   "cell_type": "markdown",
   "id": "30fce050",
   "metadata": {
    "id": "30fce050"
   },
   "source": [
    "<center>\n",
    "    <img src=\"https://drive.google.com/uc?export=view&id=1hDKusF04c0lNZA_qOShvWQrpImayVKz8\"  width=\"1000\" />\n",
    "</center>"
   ]
  },
  {
   "cell_type": "markdown",
   "id": "78957aef",
   "metadata": {
    "id": "78957aef"
   },
   "source": [
    "# Hands-On\n",
    "---\n",
    "Hands-On ini digunakan pada kegiatan Kursus Data Science yang merupakan pembekalan bagi mahasiswa Universitas Gunadarma untuk Skema Associate Data Scientist"
   ]
  },
  {
   "cell_type": "markdown",
   "id": "e1d3e6a4",
   "metadata": {
    "id": "e1d3e6a4"
   },
   "source": [
    "### Pertemuan 3 - Semester 7"
   ]
  },
  {
   "cell_type": "markdown",
   "id": "d4269619",
   "metadata": {
    "id": "d4269619"
   },
   "source": [
    "### Daftar Isi :\n",
    "1. Transformasi Data\n",
    "2. Rekayasa Fitur\n",
    "3. Imputasi\n",
    "    - Missing Completely At Random\n",
    "    - Missing At Random\n",
    "    - Missing Not At Random\n",
    "4. Tahapan dan Teknik Imputasi\n",
    "5. Teknik Handling Outlier: Trimming vs Winsorizing\n",
    "6. Scalling\n",
    "7. Dokumentasi Data/Fitur\n",
    "8. Pelabelan Data\n",
    "    - Supervised Learning\n",
    "    - Unsupervised Learning\n",
    "    - Semi-supervised Learning\n",
    "9. Pendekatan Pelabelan Data\n",
    "10. Menganalisa Akurasi Pelabelan Data\n",
    "11. Metode QA untuk Mengukur Kualitas Data\n",
    "12. Keamanan Pelabelan Data\n"
   ]
  },
  {
   "cell_type": "markdown",
   "id": "e823c4bf",
   "metadata": {
    "id": "e823c4bf"
   },
   "source": [
    "### 1. Transformasi Data\n",
    "---"
   ]
  },
  {
   "cell_type": "markdown",
   "id": "8828f238",
   "metadata": {
    "id": "8828f238"
   },
   "source": [
    "Representasi Fitur atau Pembelajaran Fitur:\n",
    "- Teknik-Teknik yang memungkinkan sistem bekerja otomatis menemukan representasi yang diperlukan (untuk deteksi fitur atau klasifikasi dari dataset),\n",
    "- Menggantikan rekayasa fitur manual, dan\n",
    "- Memungkinkan mesin mempelajari fitur dan menggunakannya untuk melakukan tugas tertentu.\n"
   ]
  },
  {
   "cell_type": "markdown",
   "id": "119719d1",
   "metadata": {
    "id": "119719d1"
   },
   "source": [
    "### 2. Rekayasa Fitur\n",
    "---"
   ]
  },
  {
   "cell_type": "markdown",
   "id": "f314f4a3",
   "metadata": {
    "id": "f314f4a3"
   },
   "source": [
    "Rekayasa Fitur:\n",
    "- Proses mengubah data mentah menjadi fitur yang:\n",
    "    - Mewakili masalah mendasar ke model prediktif,\n",
    "    - Menghasilkan akurasi model yang lebih baik pada data yang tidak terlihat.\n",
    "\n"
   ]
  },
  {
   "cell_type": "markdown",
   "id": "e26da54c",
   "metadata": {
    "id": "e26da54c"
   },
   "source": [
    "### 3. Imputasi\n",
    "---"
   ]
  },
  {
   "cell_type": "markdown",
   "id": "27386564",
   "metadata": {
    "id": "27386564"
   },
   "source": [
    "Pengertian: Mengganti nilai/data yang hilang (missing value; NaN; blank) dengan nilai pengganti.\n",
    "\n",
    "Jenis missing value:\n",
    "1. Missing Completely At Random (MCAR).\n",
    "\n",
    "Definisi: Probabilitas sebuah instance yang hilang tidak bergantung pada nilai yang diketahui atau nilai yang hilang itu sendiri.\n",
    "\n",
    "Contoh: Tabel data dicetak tanpa nilai yang hilang dan seseorang secara tidak sengaja menjatuhkan beberapa tinta di atasnya sehingga beberapa sel tidak dapat dibaca lagi. Di sini, kita dapat mengasumsikan bahwa nilai yang hilang mengikuti distribusi yang sama dengan nilai yang diketahui.\n",
    "\n",
    "2. Missing At Random (MAR).\n",
    "\n",
    "Definisi: Probabilitas sebuah instance yang hilang mungkin bergantung pada nilai yang diketahui tetapi tidak pada nilai yang hilang itu sendiri.\n",
    "\n",
    "Contoh: Dalam kasus sensor suhu, fakta bahwa suatu nilai hilang tidak bergantung pada suhu, tetapi mungkin bergantung pada beberapa faktor lain, misalnya pada daya baterai termometer.\n",
    "\n",
    "Contoh survei: Apakah seseorang menjawab pertanyaan atau tidak - mis. tentang usia- dalam survei tidak tergantung pada jawaban itu sendiri, tetapi mungkin tergantung pada jawaban untuk pertanyaan lain, yaitu jenis kelamin perempuan.\n",
    "\n",
    "\n",
    "3. Missing Not At Random (MNAR).\n",
    "\n",
    "Definisi : Probabilitas sebuah instance yang hilang terjadi atau bergantung dengan nilai instance itu sendiri\n",
    "\n",
    "Pada kasus MNAR, mekanisme bagaimana data tersebut hilang dapat diketahui. Hanya saja, nilai-nilainya tidak dapat disimpulkan. MNAR biasanya terjadi ketika objek penelitian memilih untuk menghindari pertanyaan, misalnya ketika mereka ditanya mengenai jumlah aset. Kelompok usia tertentu mungkin akan memilih untuk tidak menjawabnya. Mekanismenya jelas terlihat, namun sulit untuk bisa mengetahui jumlah pastinya."
   ]
  },
  {
   "cell_type": "markdown",
   "id": "f022c938",
   "metadata": {
    "id": "f022c938"
   },
   "source": [
    "### 4. Tahapan dan Teknik Imputasi\n",
    "---"
   ]
  },
  {
   "cell_type": "markdown",
   "id": "de1656b6",
   "metadata": {
    "id": "de1656b6"
   },
   "source": [
    "Imputasi adalah Mengganti nilai/data yang hilang (missing value; NaN; blank) dengan nilai pengganti.\n",
    "\n",
    "Teknik imputasi berdasarkan tipe data, terdiri dari:\n",
    "1. Tipe data Variabel Numerik, dengan cara:\n",
    "   - Imputasi mean atau median.\n",
    "   - Imputasi nilai suka-suka (arbitrary).\n",
    "   - Imputasi nilai/data ujung (end of tail).\n",
    "\n",
    "\n",
    "2. Tipe data Variabel Kategorik, dengan cara:\n",
    "   - Imputasi kategori yang sering muncul.\n",
    "   - Tambah kategori yang hilang."
   ]
  },
  {
   "cell_type": "markdown",
   "id": "a8815082",
   "metadata": {
    "id": "a8815082"
   },
   "source": [
    "#### 1. Imputasi Tipe data Variabel Numerik"
   ]
  },
  {
   "cell_type": "code",
   "execution_count": 1,
   "id": "b4391820",
   "metadata": {
    "id": "b4391820"
   },
   "outputs": [],
   "source": [
    "# Import Library\n",
    "import pandas as pd"
   ]
  },
  {
   "cell_type": "code",
   "execution_count": 2,
   "id": "b3b81537",
   "metadata": {
    "id": "b3b81537"
   },
   "outputs": [],
   "source": [
    "# Memuat data dengan format csv\n",
    "df = pd.read_csv(\"delay_maskapai.csv\")"
   ]
  },
  {
   "cell_type": "code",
   "execution_count": 3,
   "id": "d41d4dc5",
   "metadata": {
    "id": "d41d4dc5",
    "outputId": "7cc73c03-a5ba-43d4-ff0f-03088abdcd50"
   },
   "outputs": [
    {
     "data": {
      "text/plain": [
       "Flight         0\n",
       "Time           0\n",
       "Length         0\n",
       "Airline        0\n",
       "AirportFrom    0\n",
       "AirportTo      0\n",
       "DayOfWeek      0\n",
       "Class          0\n",
       "dtype: int64"
      ]
     },
     "execution_count": 3,
     "metadata": {},
     "output_type": "execute_result"
    }
   ],
   "source": [
    "# Menghitung nilai data yang kosong\n",
    "df.isna().sum()"
   ]
  },
  {
   "cell_type": "markdown",
   "id": "6d308c36-7397-4381-83c7-352b0df0ffeb",
   "metadata": {
    "id": "6d308c36-7397-4381-83c7-352b0df0ffeb"
   },
   "source": [
    "#### Imputasi Rata-Rata (Mean)"
   ]
  },
  {
   "cell_type": "code",
   "execution_count": 4,
   "id": "fd308e6e",
   "metadata": {
    "id": "fd308e6e"
   },
   "outputs": [],
   "source": [
    "# Membuat variabel jumlah data yang akan dihapus secara random\n",
    "jumlah_hapus = 3012"
   ]
  },
  {
   "cell_type": "code",
   "execution_count": 5,
   "id": "ce156276",
   "metadata": {
    "id": "ce156276"
   },
   "outputs": [],
   "source": [
    "# Membuat variabel untuk menampung indeks dari data yang akan dihapus\n",
    "indeks_hapus = df.sample(n=jumlah_hapus).index"
   ]
  },
  {
   "cell_type": "markdown",
   "id": "577afbd3",
   "metadata": {
    "id": "577afbd3"
   },
   "source": [
    "- df.sample(n=jumlah_hapus) mengambil sampel acak dari DataFrame df sebanyak jumlah_hapus yang dideklarasikan sebelumnya.\n",
    "- .index mengakses indeks dari sampel yang diambil dan mengembalikan objek Pandas Index yang berisi indeks dari data tersebut.\n",
    "\n",
    "Selanjutnya, indeks dari sampel tersebut ditampung ke variabel indeks_hapus, sehingga variabel ini akan berisi indeks dari data yang akan dihapus dari DataFrame."
   ]
  },
  {
   "cell_type": "code",
   "execution_count": 6,
   "id": "d218a645",
   "metadata": {
    "id": "d218a645"
   },
   "outputs": [],
   "source": [
    "# Membuat baris menjadi nilai None atau Menghapus baris sesuai dengan indeks yang dideklarasikan di variabel indeks_hapus dan pada kolom \"Length\"\n",
    "df.loc[indeks_hapus, 'Length'] = None"
   ]
  },
  {
   "cell_type": "code",
   "execution_count": 7,
   "id": "4db826be",
   "metadata": {
    "id": "4db826be",
    "outputId": "a314b27a-8a15-4aa2-bb31-251401fd623c"
   },
   "outputs": [
    {
     "data": {
      "text/plain": [
       "Flight            0\n",
       "Time              0\n",
       "Length         3012\n",
       "Airline           0\n",
       "AirportFrom       0\n",
       "AirportTo         0\n",
       "DayOfWeek         0\n",
       "Class             0\n",
       "dtype: int64"
      ]
     },
     "execution_count": 7,
     "metadata": {},
     "output_type": "execute_result"
    }
   ],
   "source": [
    "\n",
    "df.isna().sum()"
   ]
  },
  {
   "cell_type": "code",
   "execution_count": 8,
   "id": "7af97047",
   "metadata": {
    "id": "7af97047",
    "outputId": "3e0c541b-1803-45e0-d6a2-78c9e4e374db"
   },
   "outputs": [
    {
     "data": {
      "text/plain": [
       "27.922499304718645"
      ]
     },
     "execution_count": 8,
     "metadata": {},
     "output_type": "execute_result"
    }
   ],
   "source": [
    "# Menghitung persentase data yang kosong pada kolom \"Length\"\n",
    "length_missdata_percentage = (df['Length'].isnull().sum() / df.shape[0]) * 100\n",
    "length_missdata_percentage"
   ]
  },
  {
   "cell_type": "markdown",
   "id": "6c92cf1c",
   "metadata": {
    "id": "6c92cf1c"
   },
   "source": [
    "- df['Length'].isnull().sum() berfungsi untuk menghitung jumlah data yang kosong pada kolom Length\n",
    "- df.shape[0] berfungsi untuk menghitung total jumlah baris yang mewakili total jumlah data keseluruhan\n",
    "\n",
    "Sehingga dapat diketahui persentase dari data yang kosong pada kolom Length dengan jumlah data yang kosong dengan total jumlah data keseluruhan"
   ]
  },
  {
   "cell_type": "code",
   "execution_count": 9,
   "id": "90338996",
   "metadata": {
    "id": "90338996",
    "outputId": "5d85aee9-97ce-443c-c6ee-e13da58658a3",
    "scrolled": true
   },
   "outputs": [
    {
     "data": {
      "text/plain": [
       "133.34881028938906"
      ]
     },
     "execution_count": 9,
     "metadata": {},
     "output_type": "execute_result"
    }
   ],
   "source": [
    "# Melakukan imputasi pada data yang kosong dengan menggunakan imputasi rata-rata\n",
    "meanImputation = df['Length'].mean() #Membuat variabel meanImputation untuk menampung nilai rata-rata dari kolom \"Length\"\n",
    "meanImputation"
   ]
  },
  {
   "cell_type": "code",
   "execution_count": 10,
   "id": "6f3de69e",
   "metadata": {
    "id": "6f3de69e"
   },
   "outputs": [],
   "source": [
    "# Mengisi nilai kosong menggunakan fungsi fillna dengan nilai rata-rata pada kolom Length\n",
    "df['Length'].fillna(meanImputation,\n",
    "                    inplace=True) #Inplace=True berfungsi untuk memodifikasi kolom \"Length\" secara langsung tanpa membuat copy)"
   ]
  },
  {
   "cell_type": "code",
   "execution_count": 11,
   "id": "ca8f57d3-6469-487b-9039-63f15900edcc",
   "metadata": {
    "id": "ca8f57d3-6469-487b-9039-63f15900edcc",
    "outputId": "01c79a12-790f-4d33-870b-3bca6c432467"
   },
   "outputs": [
    {
     "data": {
      "text/plain": [
       "Flight         0\n",
       "Time           0\n",
       "Length         0\n",
       "Airline        0\n",
       "AirportFrom    0\n",
       "AirportTo      0\n",
       "DayOfWeek      0\n",
       "Class          0\n",
       "dtype: int64"
      ]
     },
     "execution_count": 11,
     "metadata": {},
     "output_type": "execute_result"
    }
   ],
   "source": [
    "df.isna().sum()"
   ]
  },
  {
   "cell_type": "markdown",
   "id": "2071bc48-ee02-4cdc-a8b8-c3f4ea6b4d68",
   "metadata": {
    "id": "2071bc48-ee02-4cdc-a8b8-c3f4ea6b4d68"
   },
   "source": [
    "#### Imputasi Median"
   ]
  },
  {
   "cell_type": "code",
   "execution_count": 12,
   "id": "3a59ff6f",
   "metadata": {
    "id": "3a59ff6f"
   },
   "outputs": [],
   "source": [
    "jumlah_hapus = 632"
   ]
  },
  {
   "cell_type": "code",
   "execution_count": 13,
   "id": "a4bce8fd",
   "metadata": {
    "id": "a4bce8fd"
   },
   "outputs": [],
   "source": [
    "indeks_hapus = df.sample(n=jumlah_hapus).index"
   ]
  },
  {
   "cell_type": "code",
   "execution_count": 14,
   "id": "f78cd7e4",
   "metadata": {
    "id": "f78cd7e4"
   },
   "outputs": [],
   "source": [
    "# Membuat baris menjadi nilai None atau Menghapus baris sesuai dengan indeks yang dideklarasikan di variabel indeks_hapus dan pada kolom \"Length\"\n",
    "df.loc[indeks_hapus, 'Length'] = None"
   ]
  },
  {
   "cell_type": "code",
   "execution_count": 15,
   "id": "29877c30",
   "metadata": {
    "id": "29877c30",
    "outputId": "9cb8d2e0-cf57-495d-9b5d-b60573f8bebb",
    "scrolled": true
   },
   "outputs": [
    {
     "data": {
      "text/plain": [
       "Flight           0\n",
       "Time             0\n",
       "Length         632\n",
       "Airline          0\n",
       "AirportFrom      0\n",
       "AirportTo        0\n",
       "DayOfWeek        0\n",
       "Class            0\n",
       "dtype: int64"
      ]
     },
     "execution_count": 15,
     "metadata": {},
     "output_type": "execute_result"
    }
   ],
   "source": [
    "# Mengecek nilai data yang kosong\n",
    "df.isna().sum()"
   ]
  },
  {
   "cell_type": "code",
   "execution_count": 16,
   "id": "66f0ab0b",
   "metadata": {
    "id": "66f0ab0b",
    "outputId": "842f9367-51de-43e3-bce4-b6b624b9d868"
   },
   "outputs": [
    {
     "data": {
      "text/plain": [
       "5.858904236581069"
      ]
     },
     "execution_count": 16,
     "metadata": {},
     "output_type": "execute_result"
    }
   ],
   "source": [
    "# Menghitung persentase data yang kosong pada kolom \"Length\"\n",
    "length_missdata_percentage = (df['Length'].isnull().sum() / df.shape[0]) * 100\n",
    "length_missdata_percentage"
   ]
  },
  {
   "cell_type": "code",
   "execution_count": 17,
   "id": "9ad9eedc",
   "metadata": {
    "id": "9ad9eedc",
    "outputId": "cc480ed3-656d-4fbd-e95a-b4db18e4726f",
    "scrolled": true
   },
   "outputs": [
    {
     "data": {
      "text/plain": [
       "133.34881028938906"
      ]
     },
     "execution_count": 17,
     "metadata": {},
     "output_type": "execute_result"
    }
   ],
   "source": [
    "# Melakukan imputasi pada data yang kosong dengan menggunakan imputasi median\n",
    "medianImputation = df['Length'].median()\n",
    "medianImputation"
   ]
  },
  {
   "cell_type": "code",
   "execution_count": 18,
   "id": "ba3822f7",
   "metadata": {
    "id": "ba3822f7"
   },
   "outputs": [],
   "source": [
    "# Mengisi nilai kosong dengan median\n",
    "df['Length'].fillna(medianImputation, inplace=True)"
   ]
  },
  {
   "cell_type": "code",
   "execution_count": 19,
   "id": "f0e2b4a0",
   "metadata": {
    "id": "f0e2b4a0",
    "outputId": "4c2aa5b9-9fd3-4f7f-ac60-cb86a6ea353e"
   },
   "outputs": [
    {
     "data": {
      "text/plain": [
       "False"
      ]
     },
     "execution_count": 19,
     "metadata": {},
     "output_type": "execute_result"
    }
   ],
   "source": [
    "# Mengecek data kosong pada kolom Length\n",
    "df['Length'].isnull().any()"
   ]
  },
  {
   "cell_type": "markdown",
   "id": "f8fe6957-2b36-4b9f-9dba-802b11307419",
   "metadata": {
    "id": "f8fe6957-2b36-4b9f-9dba-802b11307419"
   },
   "source": [
    "#### Imputasi dengan KNN"
   ]
  },
  {
   "cell_type": "code",
   "execution_count": 20,
   "id": "4c6fad3e",
   "metadata": {
    "id": "4c6fad3e"
   },
   "outputs": [],
   "source": [
    "import pandas as pd\n",
    "import numpy as np"
   ]
  },
  {
   "cell_type": "code",
   "execution_count": 21,
   "id": "11cf194e",
   "metadata": {
    "id": "11cf194e"
   },
   "outputs": [],
   "source": [
    "df_sample = pd.read_csv(\"delay_maskapai.csv\")"
   ]
  },
  {
   "cell_type": "code",
   "execution_count": 22,
   "id": "67c1baf8",
   "metadata": {
    "id": "67c1baf8",
    "outputId": "d9773f93-df66-4246-9c17-12be9df6c5b5"
   },
   "outputs": [
    {
     "data": {
      "text/html": [
       "<div>\n",
       "<style scoped>\n",
       "    .dataframe tbody tr th:only-of-type {\n",
       "        vertical-align: middle;\n",
       "    }\n",
       "\n",
       "    .dataframe tbody tr th {\n",
       "        vertical-align: top;\n",
       "    }\n",
       "\n",
       "    .dataframe thead th {\n",
       "        text-align: right;\n",
       "    }\n",
       "</style>\n",
       "<table border=\"1\" class=\"dataframe\">\n",
       "  <thead>\n",
       "    <tr style=\"text-align: right;\">\n",
       "      <th></th>\n",
       "      <th>Flight</th>\n",
       "      <th>Time</th>\n",
       "      <th>Length</th>\n",
       "      <th>Airline</th>\n",
       "      <th>AirportFrom</th>\n",
       "      <th>AirportTo</th>\n",
       "      <th>DayOfWeek</th>\n",
       "      <th>Class</th>\n",
       "    </tr>\n",
       "  </thead>\n",
       "  <tbody>\n",
       "    <tr>\n",
       "      <th>0</th>\n",
       "      <td>320.0</td>\n",
       "      <td>870.0</td>\n",
       "      <td>180.0</td>\n",
       "      <td>CO</td>\n",
       "      <td>IAH</td>\n",
       "      <td>PHX</td>\n",
       "      <td>5</td>\n",
       "      <td>0</td>\n",
       "    </tr>\n",
       "    <tr>\n",
       "      <th>1</th>\n",
       "      <td>3045.0</td>\n",
       "      <td>365.0</td>\n",
       "      <td>66.0</td>\n",
       "      <td>OO</td>\n",
       "      <td>DSM</td>\n",
       "      <td>MKE</td>\n",
       "      <td>2</td>\n",
       "      <td>0</td>\n",
       "    </tr>\n",
       "    <tr>\n",
       "      <th>2</th>\n",
       "      <td>1560.0</td>\n",
       "      <td>740.0</td>\n",
       "      <td>257.0</td>\n",
       "      <td>DL</td>\n",
       "      <td>SEA</td>\n",
       "      <td>CVG</td>\n",
       "      <td>7</td>\n",
       "      <td>0</td>\n",
       "    </tr>\n",
       "    <tr>\n",
       "      <th>3</th>\n",
       "      <td>1156.0</td>\n",
       "      <td>595.0</td>\n",
       "      <td>235.0</td>\n",
       "      <td>WN</td>\n",
       "      <td>SNA</td>\n",
       "      <td>MDW</td>\n",
       "      <td>7</td>\n",
       "      <td>1</td>\n",
       "    </tr>\n",
       "    <tr>\n",
       "      <th>4</th>\n",
       "      <td>1873.0</td>\n",
       "      <td>530.0</td>\n",
       "      <td>133.0</td>\n",
       "      <td>CO</td>\n",
       "      <td>IAH</td>\n",
       "      <td>MCO</td>\n",
       "      <td>6</td>\n",
       "      <td>1</td>\n",
       "    </tr>\n",
       "  </tbody>\n",
       "</table>\n",
       "</div>"
      ],
      "text/plain": [
       "   Flight   Time  Length Airline AirportFrom AirportTo  DayOfWeek  Class\n",
       "0   320.0  870.0   180.0      CO         IAH       PHX          5      0\n",
       "1  3045.0  365.0    66.0      OO         DSM       MKE          2      0\n",
       "2  1560.0  740.0   257.0      DL         SEA       CVG          7      0\n",
       "3  1156.0  595.0   235.0      WN         SNA       MDW          7      1\n",
       "4  1873.0  530.0   133.0      CO         IAH       MCO          6      1"
      ]
     },
     "execution_count": 22,
     "metadata": {},
     "output_type": "execute_result"
    }
   ],
   "source": [
    "df_sample.head()"
   ]
  },
  {
   "cell_type": "code",
   "execution_count": 23,
   "id": "cb11ef52",
   "metadata": {
    "id": "cb11ef52"
   },
   "outputs": [],
   "source": [
    "# Menghapus secara random 1234 data dari kolom 'length'\n",
    "remove_indices = np.random.choice(df_sample.index, size=1234, replace=False)\n",
    "df_sample.loc[remove_indices, 'Length'] = np.nan"
   ]
  },
  {
   "cell_type": "code",
   "execution_count": 24,
   "id": "ba4e77af",
   "metadata": {
    "id": "ba4e77af",
    "outputId": "c88ae485-220f-4795-d814-a2135e2ed0d4"
   },
   "outputs": [
    {
     "data": {
      "text/plain": [
       "Flight            0\n",
       "Time              0\n",
       "Length         1234\n",
       "Airline           0\n",
       "AirportFrom       0\n",
       "AirportTo         0\n",
       "DayOfWeek         0\n",
       "Class             0\n",
       "dtype: int64"
      ]
     },
     "execution_count": 24,
     "metadata": {},
     "output_type": "execute_result"
    }
   ],
   "source": [
    "df_sample.isnull().sum()"
   ]
  },
  {
   "cell_type": "code",
   "execution_count": 25,
   "id": "a2225338-e4e2-4ea2-9ec8-384a35fae2f9",
   "metadata": {
    "id": "a2225338-e4e2-4ea2-9ec8-384a35fae2f9",
    "outputId": "0b3c4409-2424-4d0d-a155-6b963eb90beb"
   },
   "outputs": [],
   "source": [
    "# !pip install scikit-learn"
   ]
  },
  {
   "cell_type": "code",
   "execution_count": 26,
   "id": "17a27b78",
   "metadata": {
    "id": "17a27b78"
   },
   "outputs": [],
   "source": [
    "# Melakukan import library untuk melakukan imputasi dengan KNN\n",
    "from sklearn.impute import KNNImputer"
   ]
  },
  {
   "cell_type": "code",
   "execution_count": 27,
   "id": "10db285c",
   "metadata": {
    "id": "10db285c"
   },
   "outputs": [],
   "source": [
    "# Membuat instance KNNImputer\n",
    "imputer = KNNImputer(n_neighbors=2)\n",
    "\n",
    "# Melakukan imputasi dengan KNN pada kolom 'length' di df_sample\n",
    "imputed_data = imputer.fit_transform(df_sample[['Length']])\n",
    "\n",
    "# Mengganti nilai kosong di df_sample dengan data yang telah diimputasi\n",
    "df_sample.loc[:, 'Length'] = imputed_data"
   ]
  },
  {
   "cell_type": "code",
   "execution_count": 28,
   "id": "413beeed",
   "metadata": {
    "id": "413beeed",
    "outputId": "7178fc8e-595d-4626-a9af-c89a57daccb1"
   },
   "outputs": [
    {
     "data": {
      "text/plain": [
       "Flight         False\n",
       "Time           False\n",
       "Length         False\n",
       "Airline        False\n",
       "AirportFrom    False\n",
       "AirportTo      False\n",
       "DayOfWeek      False\n",
       "Class          False\n",
       "dtype: bool"
      ]
     },
     "execution_count": 28,
     "metadata": {},
     "output_type": "execute_result"
    }
   ],
   "source": [
    "df_sample.isnull().any()"
   ]
  },
  {
   "cell_type": "code",
   "execution_count": 29,
   "id": "82a8dd97",
   "metadata": {
    "id": "82a8dd97",
    "outputId": "10b5ca8f-871d-4c84-e682-5b8ce4d3d758"
   },
   "outputs": [
    {
     "name": "stdout",
     "output_type": "stream",
     "text": [
      "[133.24976447]\n"
     ]
    }
   ],
   "source": [
    "# Melihat hasil dari data kosong yang telah diimputasi\n",
    "unique_values = df_sample.loc[remove_indices, 'Length'].unique()\n",
    "\n",
    "print(unique_values)"
   ]
  },
  {
   "cell_type": "markdown",
   "id": "9d0e19c6",
   "metadata": {
    "id": "9d0e19c6"
   },
   "source": [
    "#### 2. Imputasi Tipe data Variabel Kategorikal"
   ]
  },
  {
   "cell_type": "code",
   "execution_count": 30,
   "id": "0354bbb0",
   "metadata": {
    "id": "0354bbb0"
   },
   "outputs": [],
   "source": [
    "import pandas as pd"
   ]
  },
  {
   "cell_type": "code",
   "execution_count": 31,
   "id": "7b72299d",
   "metadata": {
    "id": "7b72299d"
   },
   "outputs": [],
   "source": [
    "# Memuat data dengan format csv\n",
    "df = pd.read_csv(\"delay_maskapai.csv\")"
   ]
  },
  {
   "cell_type": "code",
   "execution_count": 32,
   "id": "8df53bb3",
   "metadata": {
    "id": "8df53bb3",
    "outputId": "8dcd4f32-258c-46a8-c9ab-9add1da5ea53",
    "scrolled": true
   },
   "outputs": [
    {
     "data": {
      "text/plain": [
       "Flight         float64\n",
       "Time           float64\n",
       "Length         float64\n",
       "Airline         object\n",
       "AirportFrom     object\n",
       "AirportTo       object\n",
       "DayOfWeek        int64\n",
       "Class            int64\n",
       "dtype: object"
      ]
     },
     "execution_count": 32,
     "metadata": {},
     "output_type": "execute_result"
    }
   ],
   "source": [
    "# Mengecek tipe data setiap kolom\n",
    "df.dtypes"
   ]
  },
  {
   "cell_type": "code",
   "execution_count": 33,
   "id": "821c62c4",
   "metadata": {
    "id": "821c62c4"
   },
   "outputs": [],
   "source": [
    "# Mengimport Library Numpy dan Sklearn.impute\n",
    "import numpy as np\n",
    "from sklearn.impute import SimpleImputer"
   ]
  },
  {
   "cell_type": "code",
   "execution_count": 34,
   "id": "0b1be34d",
   "metadata": {
    "id": "0b1be34d"
   },
   "outputs": [],
   "source": [
    "jumlah_hapus = 814\n",
    "indeks_hapus = np.random.choice(df.index, jumlah_hapus, replace=False)"
   ]
  },
  {
   "cell_type": "code",
   "execution_count": 35,
   "id": "109dd7b5",
   "metadata": {
    "id": "109dd7b5"
   },
   "outputs": [],
   "source": [
    "# Membuat copy dari kolom\n",
    "airline_column = df['Airline'].copy()\n",
    "\n",
    "# Menghapus baris data secara random sesuai variabel dari indeks hapus di atas\n",
    "airline_column.loc[indeks_hapus] = np.nan"
   ]
  },
  {
   "cell_type": "code",
   "execution_count": 36,
   "id": "8213b871",
   "metadata": {
    "id": "8213b871"
   },
   "outputs": [],
   "source": [
    "# Membuat algoritma SimpleImputer dengan strategi 'most_frequent'\n",
    "modeImputer = SimpleImputer(strategy='most_frequent')\n",
    "\n",
    "# Melakukan imputasi dengan SimpleImputer\n",
    "imputed_data = modeImputer.fit_transform(airline_column.values.reshape(-1, 1))\n",
    "\n",
    "# Memperbaharui data pada kolom Airline dengan data yang telah diimputasi pada imputed_data\n",
    "df['Airline'] = imputed_data.flatten()"
   ]
  },
  {
   "cell_type": "code",
   "execution_count": 37,
   "id": "afe47d73",
   "metadata": {
    "id": "afe47d73",
    "outputId": "d302382d-ca65-4f71-9063-1f4e2b561c39"
   },
   "outputs": [
    {
     "data": {
      "text/plain": [
       "array(['9E', 'AA', 'AS', 'B6', 'CO', 'DL', 'EV', 'F9', 'FL', 'HA', 'MQ',\n",
       "       'OH', 'OO', 'UA', 'US', 'WN', 'XE', 'YV'], dtype=object)"
      ]
     },
     "execution_count": 37,
     "metadata": {},
     "output_type": "execute_result"
    }
   ],
   "source": [
    "# Mengecek nilai unik dari variabel imputed_data\n",
    "np.unique(imputed_data)"
   ]
  },
  {
   "cell_type": "code",
   "execution_count": 38,
   "id": "18592367",
   "metadata": {
    "id": "18592367",
    "outputId": "2823be6e-8a91-491b-8189-68d66da965eb"
   },
   "outputs": [
    {
     "data": {
      "text/plain": [
       "False"
      ]
     },
     "execution_count": 38,
     "metadata": {},
     "output_type": "execute_result"
    }
   ],
   "source": [
    "# Mengecek apakah ada data kosong pada kolom Airline\n",
    "df['Airline'].isna().any()"
   ]
  },
  {
   "cell_type": "markdown",
   "id": "2bff4dcf",
   "metadata": {
    "id": "2bff4dcf"
   },
   "source": [
    "### 5. Teknik Handling Outlier : Trimming vs Winsorizing\n",
    "---"
   ]
  },
  {
   "cell_type": "markdown",
   "id": "6d541c7e",
   "metadata": {
    "id": "6d541c7e"
   },
   "source": [
    "- Trimming\n",
    "    - Nama lain: Truncation (Potong)\n",
    "    - Definisi: Menghapus outlier dari dataset\n",
    "    - Perlu memutuskan metrik untuk menentukan outlier\n",
    "- Winsorizing\n",
    "    - Definisi: Mengganti outlier dari dataset dengan nilai persentil setiap ujung/batas atas dan bawah.\n",
    "\n"
   ]
  },
  {
   "cell_type": "code",
   "execution_count": 39,
   "id": "d83ab29b",
   "metadata": {
    "id": "d83ab29b"
   },
   "outputs": [],
   "source": [
    "# Import Library\n",
    "import pandas as pd"
   ]
  },
  {
   "cell_type": "code",
   "execution_count": 40,
   "id": "fa1d6eed",
   "metadata": {
    "id": "fa1d6eed"
   },
   "outputs": [],
   "source": [
    "# Memuat data dengan format csv\n",
    "df = pd.read_csv(\"delay_maskapai.csv\")"
   ]
  },
  {
   "cell_type": "code",
   "execution_count": 41,
   "id": "cd4b4099",
   "metadata": {
    "id": "cd4b4099",
    "outputId": "bb5ed50a-ecb7-4261-8f77-73a8be654297"
   },
   "outputs": [
    {
     "data": {
      "text/html": [
       "<div>\n",
       "<style scoped>\n",
       "    .dataframe tbody tr th:only-of-type {\n",
       "        vertical-align: middle;\n",
       "    }\n",
       "\n",
       "    .dataframe tbody tr th {\n",
       "        vertical-align: top;\n",
       "    }\n",
       "\n",
       "    .dataframe thead th {\n",
       "        text-align: right;\n",
       "    }\n",
       "</style>\n",
       "<table border=\"1\" class=\"dataframe\">\n",
       "  <thead>\n",
       "    <tr style=\"text-align: right;\">\n",
       "      <th></th>\n",
       "      <th>Flight</th>\n",
       "      <th>Time</th>\n",
       "      <th>Length</th>\n",
       "      <th>Airline</th>\n",
       "      <th>AirportFrom</th>\n",
       "      <th>AirportTo</th>\n",
       "      <th>DayOfWeek</th>\n",
       "      <th>Class</th>\n",
       "    </tr>\n",
       "  </thead>\n",
       "  <tbody>\n",
       "    <tr>\n",
       "      <th>0</th>\n",
       "      <td>320.0</td>\n",
       "      <td>870.0</td>\n",
       "      <td>180.0</td>\n",
       "      <td>CO</td>\n",
       "      <td>IAH</td>\n",
       "      <td>PHX</td>\n",
       "      <td>5</td>\n",
       "      <td>0</td>\n",
       "    </tr>\n",
       "    <tr>\n",
       "      <th>1</th>\n",
       "      <td>3045.0</td>\n",
       "      <td>365.0</td>\n",
       "      <td>66.0</td>\n",
       "      <td>OO</td>\n",
       "      <td>DSM</td>\n",
       "      <td>MKE</td>\n",
       "      <td>2</td>\n",
       "      <td>0</td>\n",
       "    </tr>\n",
       "    <tr>\n",
       "      <th>2</th>\n",
       "      <td>1560.0</td>\n",
       "      <td>740.0</td>\n",
       "      <td>257.0</td>\n",
       "      <td>DL</td>\n",
       "      <td>SEA</td>\n",
       "      <td>CVG</td>\n",
       "      <td>7</td>\n",
       "      <td>0</td>\n",
       "    </tr>\n",
       "    <tr>\n",
       "      <th>3</th>\n",
       "      <td>1156.0</td>\n",
       "      <td>595.0</td>\n",
       "      <td>235.0</td>\n",
       "      <td>WN</td>\n",
       "      <td>SNA</td>\n",
       "      <td>MDW</td>\n",
       "      <td>7</td>\n",
       "      <td>1</td>\n",
       "    </tr>\n",
       "    <tr>\n",
       "      <th>4</th>\n",
       "      <td>1873.0</td>\n",
       "      <td>530.0</td>\n",
       "      <td>133.0</td>\n",
       "      <td>CO</td>\n",
       "      <td>IAH</td>\n",
       "      <td>MCO</td>\n",
       "      <td>6</td>\n",
       "      <td>1</td>\n",
       "    </tr>\n",
       "  </tbody>\n",
       "</table>\n",
       "</div>"
      ],
      "text/plain": [
       "   Flight   Time  Length Airline AirportFrom AirportTo  DayOfWeek  Class\n",
       "0   320.0  870.0   180.0      CO         IAH       PHX          5      0\n",
       "1  3045.0  365.0    66.0      OO         DSM       MKE          2      0\n",
       "2  1560.0  740.0   257.0      DL         SEA       CVG          7      0\n",
       "3  1156.0  595.0   235.0      WN         SNA       MDW          7      1\n",
       "4  1873.0  530.0   133.0      CO         IAH       MCO          6      1"
      ]
     },
     "execution_count": 41,
     "metadata": {},
     "output_type": "execute_result"
    }
   ],
   "source": [
    "df.head()"
   ]
  },
  {
   "cell_type": "code",
   "execution_count": 42,
   "id": "51d47369",
   "metadata": {
    "id": "51d47369"
   },
   "outputs": [],
   "source": [
    "# Import Library matplotlib.pyplot & Seaborn\n",
    "import matplotlib.pyplot as plt\n",
    "import seaborn as sns"
   ]
  },
  {
   "cell_type": "code",
   "execution_count": 43,
   "id": "ffa8701e",
   "metadata": {
    "id": "ffa8701e",
    "outputId": "2ce8bf57-d9eb-4987-821d-3072c0d5df9a"
   },
   "outputs": [
    {
     "data": {
      "image/png": "[encoded data removed]",
      "text/plain": [
       "<Figure size 2000x200 with 1 Axes>"
      ]
     },
     "metadata": {},
     "output_type": "display_data"
    },
    {
     "data": {
      "image/png": "[encoded data removed]",
      "text/plain": [
       "<Figure size 2000x200 with 1 Axes>"
      ]
     },
     "metadata": {},
     "output_type": "display_data"
    },
    {
     "data": {
      "image/png": "[encoded data removed]",
      "text/plain": [
       "<Figure size 2000x200 with 1 Axes>"
      ]
     },
     "metadata": {},
     "output_type": "display_data"
    },
    {
     "data": {
      "image/png": "[encoded data removed]",
      "text/plain": [
       "<Figure size 2000x200 with 1 Axes>"
      ]
     },
     "metadata": {},
     "output_type": "display_data"
    },
    {
     "data": {
      "image/png": "[encoded data removed]",
      "text/plain": [
       "<Figure size 2000x200 with 1 Axes>"
      ]
     },
     "metadata": {},
     "output_type": "display_data"
    }
   ],
   "source": [
    "# Mencari Outliers - Boxplot\n",
    "df_outlier = df.select_dtypes(exclude=['object'])\n",
    "for column in df_outlier:\n",
    "        plt.figure(figsize=(20,2))\n",
    "        sns.boxplot(data=df_outlier, x=column)"
   ]
  },
  {
   "cell_type": "markdown",
   "id": "2c11ee20",
   "metadata": {
    "id": "2c11ee20"
   },
   "source": [
    "Dapa dilihat dari boxplot di atas bahwa kolom Length memiliki outliers di atas batas maksimum"
   ]
  },
  {
   "cell_type": "markdown",
   "id": "b6af500c",
   "metadata": {
    "id": "b6af500c"
   },
   "source": [
    "#### Teknik Trimming (Pangkas) Outlier\n",
    "----"
   ]
  },
  {
   "cell_type": "code",
   "execution_count": 44,
   "id": "8e119c36",
   "metadata": {
    "id": "8e119c36",
    "outputId": "bb536402-8c29-4d33-d8ad-d8bed70fceb4"
   },
   "outputs": [
    {
     "data": {
      "text/plain": [
       "Flight         float64\n",
       "Time           float64\n",
       "Length         float64\n",
       "Airline         object\n",
       "AirportFrom     object\n",
       "AirportTo       object\n",
       "DayOfWeek        int64\n",
       "Class            int64\n",
       "dtype: object"
      ]
     },
     "execution_count": 44,
     "metadata": {},
     "output_type": "execute_result"
    }
   ],
   "source": [
    "# Mengecek tipe data pada setiap kolom\n",
    "df.dtypes"
   ]
  },
  {
   "cell_type": "code",
   "execution_count": 45,
   "id": "da71caf3",
   "metadata": {
    "id": "da71caf3",
    "outputId": "1a06c3b0-9633-4aa4-c177-9dfdfbec3d29"
   },
   "outputs": [
    {
     "data": {
      "text/html": [
       "<div>\n",
       "<style scoped>\n",
       "    .dataframe tbody tr th:only-of-type {\n",
       "        vertical-align: middle;\n",
       "    }\n",
       "\n",
       "    .dataframe tbody tr th {\n",
       "        vertical-align: top;\n",
       "    }\n",
       "\n",
       "    .dataframe thead th {\n",
       "        text-align: right;\n",
       "    }\n",
       "</style>\n",
       "<table border=\"1\" class=\"dataframe\">\n",
       "  <thead>\n",
       "    <tr style=\"text-align: right;\">\n",
       "      <th></th>\n",
       "      <th>Flight</th>\n",
       "      <th>Time</th>\n",
       "      <th>Length</th>\n",
       "      <th>DayOfWeek</th>\n",
       "      <th>Class</th>\n",
       "    </tr>\n",
       "  </thead>\n",
       "  <tbody>\n",
       "    <tr>\n",
       "      <th>0</th>\n",
       "      <td>320.0</td>\n",
       "      <td>870.0</td>\n",
       "      <td>180.0</td>\n",
       "      <td>5</td>\n",
       "      <td>0</td>\n",
       "    </tr>\n",
       "    <tr>\n",
       "      <th>1</th>\n",
       "      <td>3045.0</td>\n",
       "      <td>365.0</td>\n",
       "      <td>66.0</td>\n",
       "      <td>2</td>\n",
       "      <td>0</td>\n",
       "    </tr>\n",
       "    <tr>\n",
       "      <th>2</th>\n",
       "      <td>1560.0</td>\n",
       "      <td>740.0</td>\n",
       "      <td>257.0</td>\n",
       "      <td>7</td>\n",
       "      <td>0</td>\n",
       "    </tr>\n",
       "    <tr>\n",
       "      <th>3</th>\n",
       "      <td>1156.0</td>\n",
       "      <td>595.0</td>\n",
       "      <td>235.0</td>\n",
       "      <td>7</td>\n",
       "      <td>1</td>\n",
       "    </tr>\n",
       "    <tr>\n",
       "      <th>4</th>\n",
       "      <td>1873.0</td>\n",
       "      <td>530.0</td>\n",
       "      <td>133.0</td>\n",
       "      <td>6</td>\n",
       "      <td>1</td>\n",
       "    </tr>\n",
       "  </tbody>\n",
       "</table>\n",
       "</div>"
      ],
      "text/plain": [
       "   Flight   Time  Length  DayOfWeek  Class\n",
       "0   320.0  870.0   180.0          5      0\n",
       "1  3045.0  365.0    66.0          2      0\n",
       "2  1560.0  740.0   257.0          7      0\n",
       "3  1156.0  595.0   235.0          7      1\n",
       "4  1873.0  530.0   133.0          6      1"
      ]
     },
     "execution_count": 45,
     "metadata": {},
     "output_type": "execute_result"
    }
   ],
   "source": [
    "# Memilih kolom dengan tipe data selain object\n",
    "df.select_dtypes(exclude=\"object\").head()"
   ]
  },
  {
   "cell_type": "code",
   "execution_count": 46,
   "id": "8cf9be17",
   "metadata": {
    "id": "8cf9be17",
    "outputId": "da0a68cd-9d87-4c72-9313-9957567a516d"
   },
   "outputs": [
    {
     "data": {
      "text/plain": [
       "Flight       3065.5\n",
       "Time          468.0\n",
       "Length         83.0\n",
       "DayOfWeek       3.0\n",
       "Class           1.0\n",
       "dtype: float64"
      ]
     },
     "execution_count": 46,
     "metadata": {},
     "output_type": "execute_result"
    }
   ],
   "source": [
    "q1 = df.select_dtypes(exclude=\"object\").quantile(0.25)\n",
    "q3 = df.select_dtypes(exclude=\"object\").quantile(0.75)\n",
    "iqr = q3-q1\n",
    "iqr"
   ]
  },
  {
   "cell_type": "code",
   "execution_count": 47,
   "id": "1e70ef0b",
   "metadata": {
    "id": "1e70ef0b",
    "outputId": "4d436cd8-66fe-4c7b-aa5e-1c058080bf32"
   },
   "outputs": [
    {
     "data": {
      "text/plain": [
       "Flight       8383.75\n",
       "Time         1737.00\n",
       "Length        288.50\n",
       "DayOfWeek       9.50\n",
       "Class           2.50\n",
       "dtype: float64"
      ]
     },
     "execution_count": 47,
     "metadata": {},
     "output_type": "execute_result"
    }
   ],
   "source": [
    "batas_atas = q3 + 1.5 * iqr\n",
    "batas_atas"
   ]
  },
  {
   "cell_type": "code",
   "execution_count": 48,
   "id": "dda2972e",
   "metadata": {
    "id": "dda2972e"
   },
   "outputs": [],
   "source": [
    "df_noid_outlier_clean = df[~((df.select_dtypes(exclude=\"object\") < q1 - 1.5 * iqr) | (df.select_dtypes(exclude=\"object\") > q3 + 1.5 * iqr)).any(axis=1)]"
   ]
  },
  {
   "cell_type": "markdown",
   "id": "29510703",
   "metadata": {
    "id": "29510703"
   },
   "source": [
    "1. df.select_dtypes(exclude=\"object\") memilih hanya kolom-kolom dengan tipe data numerik (mengabaikan kolom-kolom dengan tipe data objek).\n",
    "<br><br>\n",
    "2. q1 dan q3 mewakili kuartil pertama (25%) dan kuartil ketiga (75%) dari data numerik yang dipilih.\n",
    "<br><br>\n",
    "3. iqr adalah rentang antarkuartil (interquartile range), yaitu selisih antara kuartil ketiga dan kuartil pertama.\n",
    "<br><br>\n",
    "4. (df.select_dtypes(exclude=\"object\") < q1 - 1.5 * iqr) menghasilkan DataFrame boolean yang menunjukkan apakah setiap elemen dalam DataFrame numerik lebih kecil dari batas bawah yang ditentukan (q1 - 1.5 * iqr). Ini menandakan nilai-nilai yang berada di bawah batas bawah ini.\n",
    "<br><br>\n",
    "5. (df.select_dtypes(exclude=\"object\") > q3 + 1.5 * iqr) menghasilkan DataFrame boolean yang menunjukkan apakah setiap elemen dalam DataFrame numerik lebih besar dari batas atas yang ditentukan (q3 + 1.5 * iqr). Ini menandakan nilai-nilai yang berada di atas batas atas ini.\n",
    "<br><br>\n",
    "6. ((df.select_dtypes(exclude=\"object\") < q1 - 1.5 * iqr) | (df.select_dtypes(exclude=\"object\") > q3 + 1.5 * iqr)) menggabungkan dua DataFrame boolean sebelumnya dengan operator OR (|). Ini menghasilkan DataFrame boolean yang menunjukkan apakah setiap elemen dalam DataFrame numerik berada di luar rentang yang ditentukan oleh batas bawah dan batas atas.\n",
    "<br><br>\n",
    "7. ~ digunakan untuk membalik nilai-nilai dalam DataFrame boolean, sehingga nilai True menjadi False dan sebaliknya. Ini berarti elemen-elemen yang berada dalam rentang yang ditentukan (tidak termasuk outlier) akan menjadi True, sementara elemen-elemen yang berada di luar rentang akan menjadi False.\n",
    "<br><br>\n",
    "8. any(axis=1) digunakan untuk menguji setiap baris DataFrame. Jika ada setidaknya satu nilai True dalam baris tersebut, maka baris tersebut akan dianggap valid dan akan dipertahankan. Jika semua nilai dalam baris tersebut adalah False, maka baris tersebut akan dianggap outlier dan akan dihapus.\n",
    "<br><br>\n",
    "9. df[~((df.select_dtypes(exclude=\"object\") < q1 - 1.5 * iqr) | (df.select_dtypes(exclude=\"object\") > q3 + 1.5 * iqr)).any(axis=1)] menghasilkan DataFrame baru, df_noid_outlier_clean, yang hanya berisi baris-baris yang tidak termasuk outlier."
   ]
  },
  {
   "cell_type": "code",
   "execution_count": 49,
   "id": "24d8af54",
   "metadata": {
    "id": "24d8af54",
    "outputId": "d4a1b46a-f8f0-4385-c7f7-799062fd1ac2"
   },
   "outputs": [
    {
     "data": {
      "text/html": [
       "<div>\n",
       "<style scoped>\n",
       "    .dataframe tbody tr th:only-of-type {\n",
       "        vertical-align: middle;\n",
       "    }\n",
       "\n",
       "    .dataframe tbody tr th {\n",
       "        vertical-align: top;\n",
       "    }\n",
       "\n",
       "    .dataframe thead th {\n",
       "        text-align: right;\n",
       "    }\n",
       "</style>\n",
       "<table border=\"1\" class=\"dataframe\">\n",
       "  <thead>\n",
       "    <tr style=\"text-align: right;\">\n",
       "      <th></th>\n",
       "      <th>Flight</th>\n",
       "      <th>Time</th>\n",
       "      <th>Length</th>\n",
       "      <th>Airline</th>\n",
       "      <th>AirportFrom</th>\n",
       "      <th>AirportTo</th>\n",
       "      <th>DayOfWeek</th>\n",
       "      <th>Class</th>\n",
       "    </tr>\n",
       "  </thead>\n",
       "  <tbody>\n",
       "    <tr>\n",
       "      <th>0</th>\n",
       "      <td>320.0</td>\n",
       "      <td>870.0</td>\n",
       "      <td>180.0</td>\n",
       "      <td>CO</td>\n",
       "      <td>IAH</td>\n",
       "      <td>PHX</td>\n",
       "      <td>5</td>\n",
       "      <td>0</td>\n",
       "    </tr>\n",
       "    <tr>\n",
       "      <th>1</th>\n",
       "      <td>3045.0</td>\n",
       "      <td>365.0</td>\n",
       "      <td>66.0</td>\n",
       "      <td>OO</td>\n",
       "      <td>DSM</td>\n",
       "      <td>MKE</td>\n",
       "      <td>2</td>\n",
       "      <td>0</td>\n",
       "    </tr>\n",
       "    <tr>\n",
       "      <th>2</th>\n",
       "      <td>1560.0</td>\n",
       "      <td>740.0</td>\n",
       "      <td>257.0</td>\n",
       "      <td>DL</td>\n",
       "      <td>SEA</td>\n",
       "      <td>CVG</td>\n",
       "      <td>7</td>\n",
       "      <td>0</td>\n",
       "    </tr>\n",
       "    <tr>\n",
       "      <th>3</th>\n",
       "      <td>1156.0</td>\n",
       "      <td>595.0</td>\n",
       "      <td>235.0</td>\n",
       "      <td>WN</td>\n",
       "      <td>SNA</td>\n",
       "      <td>MDW</td>\n",
       "      <td>7</td>\n",
       "      <td>1</td>\n",
       "    </tr>\n",
       "    <tr>\n",
       "      <th>4</th>\n",
       "      <td>1873.0</td>\n",
       "      <td>530.0</td>\n",
       "      <td>133.0</td>\n",
       "      <td>CO</td>\n",
       "      <td>IAH</td>\n",
       "      <td>MCO</td>\n",
       "      <td>6</td>\n",
       "      <td>1</td>\n",
       "    </tr>\n",
       "  </tbody>\n",
       "</table>\n",
       "</div>"
      ],
      "text/plain": [
       "   Flight   Time  Length Airline AirportFrom AirportTo  DayOfWeek  Class\n",
       "0   320.0  870.0   180.0      CO         IAH       PHX          5      0\n",
       "1  3045.0  365.0    66.0      OO         DSM       MKE          2      0\n",
       "2  1560.0  740.0   257.0      DL         SEA       CVG          7      0\n",
       "3  1156.0  595.0   235.0      WN         SNA       MDW          7      1\n",
       "4  1873.0  530.0   133.0      CO         IAH       MCO          6      1"
      ]
     },
     "execution_count": 49,
     "metadata": {},
     "output_type": "execute_result"
    }
   ],
   "source": [
    "df_noid_outlier_clean.head()"
   ]
  },
  {
   "cell_type": "code",
   "execution_count": 50,
   "id": "0dc7afff",
   "metadata": {
    "id": "0dc7afff",
    "outputId": "671f98c0-76b6-429d-b1a7-8fc735ed7a44"
   },
   "outputs": [
    {
     "data": {
      "text/plain": [
       "(10249, 8)"
      ]
     },
     "execution_count": 50,
     "metadata": {},
     "output_type": "execute_result"
    }
   ],
   "source": [
    "# Melihat ukuran baris dan kolom setelah dipangkas\n",
    "df_noid_outlier_clean.shape"
   ]
  },
  {
   "cell_type": "code",
   "execution_count": 51,
   "id": "18e409f1",
   "metadata": {
    "id": "18e409f1",
    "outputId": "2eb2503e-2301-45a1-d30b-72f9b1da7d45"
   },
   "outputs": [
    {
     "data": {
      "text/plain": [
       "<Axes: xlabel='Length'>"
      ]
     },
     "execution_count": 51,
     "metadata": {},
     "output_type": "execute_result"
    },
    {
     "data": {
      "image/png": "[encoded data removed]",
      "text/plain": [
       "<Figure size 2000x200 with 1 Axes>"
      ]
     },
     "metadata": {},
     "output_type": "display_data"
    }
   ],
   "source": [
    "# Mengecek Outliers - Boxplot\n",
    "plt.figure(figsize=(20,2))\n",
    "sns.boxplot(data=df_noid_outlier_clean, x=df_noid_outlier_clean['Length'])"
   ]
  },
  {
   "cell_type": "code",
   "execution_count": 52,
   "id": "25992f64",
   "metadata": {
    "id": "25992f64",
    "outputId": "1670f850-abc4-4d99-c780-7b938847df41"
   },
   "outputs": [
    {
     "data": {
      "text/plain": [
       "288.0"
      ]
     },
     "execution_count": 52,
     "metadata": {},
     "output_type": "execute_result"
    }
   ],
   "source": [
    "df_noid_outlier_clean['Length'].max()"
   ]
  },
  {
   "cell_type": "markdown",
   "id": "e1126682",
   "metadata": {
    "id": "e1126682"
   },
   "source": [
    "Dapat diketahui dari boxplot di atas, bahwa outliers pada dataset sudah berkurang karena data di atas batas maksimum dihapus dari dataset. Namun, dari boxplot dapat dilihat bahwa terdapat sedikit outliers karena batas atas dan IQR dari dataset pada df_noid_outlier_clean berubah. Mari kita cek ada berapa outliers yang tersisa"
   ]
  },
  {
   "cell_type": "code",
   "execution_count": 53,
   "id": "498eafe9",
   "metadata": {
    "id": "498eafe9",
    "outputId": "ffe5590a-8456-4d9e-ce4c-7206dc07a7c5"
   },
   "outputs": [
    {
     "data": {
      "text/plain": [
       "75.0"
      ]
     },
     "execution_count": 53,
     "metadata": {},
     "output_type": "execute_result"
    }
   ],
   "source": [
    "q1 = df_noid_outlier_clean['Length'].quantile(0.25)\n",
    "q3 = df_noid_outlier_clean['Length'].quantile(0.75)\n",
    "iqr = q3-q1\n",
    "iqr"
   ]
  },
  {
   "cell_type": "code",
   "execution_count": 54,
   "id": "853cbfb8",
   "metadata": {
    "id": "853cbfb8",
    "outputId": "a576f761-a755-470d-ced7-4fb19406ee37"
   },
   "outputs": [
    {
     "data": {
      "text/plain": [
       "267.5"
      ]
     },
     "execution_count": 54,
     "metadata": {},
     "output_type": "execute_result"
    }
   ],
   "source": [
    "batas_atas = q3 + 1.5 * iqr\n",
    "batas_atas"
   ]
  },
  {
   "cell_type": "code",
   "execution_count": 55,
   "id": "05e65630",
   "metadata": {
    "id": "05e65630",
    "outputId": "0e5dd74b-ec73-48c0-9007-9f1518b8190e"
   },
   "outputs": [
    {
     "name": "stdout",
     "output_type": "stream",
     "text": [
      "154\n"
     ]
    }
   ],
   "source": [
    "jml_outliers = (df_noid_outlier_clean['Length'] > batas_atas).sum()\n",
    "print(jml_outliers)"
   ]
  },
  {
   "cell_type": "code",
   "execution_count": 56,
   "id": "cb4a917b",
   "metadata": {
    "id": "cb4a917b",
    "outputId": "e02b8e35-13ca-406e-8b97-1278c79776d9"
   },
   "outputs": [
    {
     "name": "stdout",
     "output_type": "stream",
     "text": [
      "1.5025856181090838\n"
     ]
    }
   ],
   "source": [
    "persentase_outliers = jml_outliers / df_noid_outlier_clean.shape[0] * 100\n",
    "print(persentase_outliers)"
   ]
  },
  {
   "cell_type": "markdown",
   "id": "24e3a075",
   "metadata": {
    "id": "24e3a075"
   },
   "source": [
    "Dapat diketahui bahwa outliers berjumlah 154/ 1.5% dari jumlah dataset"
   ]
  },
  {
   "cell_type": "markdown",
   "id": "be4208c1",
   "metadata": {
    "id": "be4208c1"
   },
   "source": [
    "#### Teknik Winsorizing Outlier\n",
    "----"
   ]
  },
  {
   "cell_type": "code",
   "execution_count": 57,
   "id": "4b06aefa",
   "metadata": {
    "id": "4b06aefa"
   },
   "outputs": [],
   "source": [
    "# Memuat data dengan format csv\n",
    "df = pd.read_csv(\"delay_maskapai.csv\")"
   ]
  },
  {
   "cell_type": "code",
   "execution_count": 58,
   "id": "db72305e",
   "metadata": {
    "id": "db72305e"
   },
   "outputs": [],
   "source": [
    "from scipy.stats.mstats import winsorize"
   ]
  },
  {
   "cell_type": "code",
   "execution_count": 59,
   "id": "98bdf5dd",
   "metadata": {
    "id": "98bdf5dd"
   },
   "outputs": [],
   "source": [
    "df['Length'] = winsorize(df['Length'], limits=[0, 0.05])"
   ]
  },
  {
   "cell_type": "markdown",
   "id": "bdba14d1",
   "metadata": {
    "id": "bdba14d1"
   },
   "source": [
    "Kode di atas menggunakan fungsi winsorize dari library scipy.stats untuk melakukan proses winsorizing pada kolom 'Length' dalam DataFrame df.\n",
    "\n",
    "Berikut adalah penjelasan untuk setiap bagian dalam kode tersebut:\n",
    "\n",
    "- df['Length'] merujuk ke kolom 'Length' dalam DataFrame df, yang akan diubah nilainya dengan proses winsorizing.\n",
    "\n",
    "- winsorize() adalah fungsi dari library scipy.stats yang digunakan untuk melakukan winsorizing pada data. Fungsi ini menerima dua argumen utama: data yang akan diwinsorize dan batas-batas yang akan digunakan. Pada kode tersebut, kita menggunakan batas [0, 0.05], yang berarti membatasi 0% data terendah dan 5% data tertinggi dalam kolom 'Length'. Nilai-nilai di luar rentang ini akan digantikan oleh nilai batas atas dan batas bawah.\n",
    "\n",
    "Hasil winsorizing, yaitu data 'Length' yang telah dimodifikasi, ditetapkan kembali ke kolom 'Length' dalam DataFrame df."
   ]
  },
  {
   "cell_type": "code",
   "execution_count": 60,
   "id": "e2338a8f",
   "metadata": {
    "id": "e2338a8f",
    "outputId": "8b5e95df-92ee-41d1-f6e8-e6e048a69cbf",
    "scrolled": true
   },
   "outputs": [
    {
     "data": {
      "text/plain": [
       "<Axes: xlabel='Length'>"
      ]
     },
     "execution_count": 60,
     "metadata": {},
     "output_type": "execute_result"
    },
    {
     "data": {
      "image/png": "[encoded data removed]",
      "text/plain": [
       "<Figure size 2000x200 with 1 Axes>"
      ]
     },
     "metadata": {},
     "output_type": "display_data"
    }
   ],
   "source": [
    "# Mencari Outliers - Boxplot\n",
    "plt.figure(figsize=(20,2))\n",
    "sns.boxplot(data=df, x=df['Length'])"
   ]
  },
  {
   "cell_type": "code",
   "execution_count": 61,
   "id": "97f54c42",
   "metadata": {
    "id": "97f54c42",
    "outputId": "b9efe8f2-af32-4409-9bfe-b87a1b83c9e2",
    "scrolled": true
   },
   "outputs": [
    {
     "data": {
      "text/plain": [
       "288.0"
      ]
     },
     "execution_count": 61,
     "metadata": {},
     "output_type": "execute_result"
    }
   ],
   "source": [
    "# Melihat nilai maksimal dari kolom Length\n",
    "df['Length'].max()"
   ]
  },
  {
   "cell_type": "code",
   "execution_count": 62,
   "id": "3aad6a12",
   "metadata": {
    "id": "3aad6a12",
    "outputId": "27860cb8-f635-4c68-edec-62499ebd7729"
   },
   "outputs": [
    {
     "data": {
      "text/plain": [
       "(10787, 8)"
      ]
     },
     "execution_count": 62,
     "metadata": {},
     "output_type": "execute_result"
    }
   ],
   "source": [
    "# Melihat ukuran baris dan kolom setelah di-winsorize\n",
    "df.shape"
   ]
  },
  {
   "cell_type": "markdown",
   "id": "d7baffad",
   "metadata": {
    "id": "d7baffad"
   },
   "source": [
    "Dapat diketahui bahwa ukuran dataset tidak berubah setelah di-winsorize, hal ini berbeda dari metode trimming yang menghapus data yang termasuk outliers.\n",
    "\n",
    "Kemudian dari visualisasi boxplot, bisa dilihat bahwa sudah tidak ada outliers pada dataset."
   ]
  },
  {
   "cell_type": "markdown",
   "id": "587cd0bd",
   "metadata": {
    "id": "587cd0bd"
   },
   "source": [
    "### 6. Scaling (Penskalaan)\n",
    "---"
   ]
  },
  {
   "cell_type": "markdown",
   "id": "52138fe2",
   "metadata": {
    "id": "52138fe2"
   },
   "source": [
    "Scaling bertujuan untuk mengubah data ke dalam sebuah skala tertentu, seperti 0-100 atau 0-1.\n",
    "\n",
    "Contoh : Data numerik (biasanya) tidak memiliki range. range  “Usia” vs range “Gaji” tidak sama (karakteristik berbeda). Usia memiliki rentang dari 1 sampai 150 (dalam tahun), sedangkan Gaji memiliki rentang dari 10 ribu sampai 100 ribu (dalam dolar). Untuk itu membandingkan perlu scaling.\n",
    "\n",
    "**Jenis Scaling**\n",
    "<center>\n",
    "    <img src=\"https://drive.google.com/uc?export=view&id=1agHfLrSOktOWrALcI-v4v15EVj2fqVs7\"  width=\"500\" />\n",
    "</center>"
   ]
  },
  {
   "cell_type": "markdown",
   "id": "b9bfe618",
   "metadata": {
    "id": "b9bfe618"
   },
   "source": [
    "#### Scaling : Standardisasi\n",
    "---"
   ]
  },
  {
   "cell_type": "code",
   "execution_count": 63,
   "id": "f78dd2f5",
   "metadata": {
    "id": "f78dd2f5"
   },
   "outputs": [],
   "source": [
    "import pandas as pd"
   ]
  },
  {
   "cell_type": "code",
   "execution_count": 64,
   "id": "67dbad55",
   "metadata": {
    "id": "67dbad55"
   },
   "outputs": [],
   "source": [
    "df = pd.read_csv(\"delay_maskapai.csv\")"
   ]
  },
  {
   "cell_type": "code",
   "execution_count": 65,
   "id": "c6b370ba",
   "metadata": {
    "id": "c6b370ba",
    "outputId": "35577f03-e4c0-481f-fd02-3e28085e2b43"
   },
   "outputs": [
    {
     "data": {
      "text/html": [
       "<div>\n",
       "<style scoped>\n",
       "    .dataframe tbody tr th:only-of-type {\n",
       "        vertical-align: middle;\n",
       "    }\n",
       "\n",
       "    .dataframe tbody tr th {\n",
       "        vertical-align: top;\n",
       "    }\n",
       "\n",
       "    .dataframe thead th {\n",
       "        text-align: right;\n",
       "    }\n",
       "</style>\n",
       "<table border=\"1\" class=\"dataframe\">\n",
       "  <thead>\n",
       "    <tr style=\"text-align: right;\">\n",
       "      <th></th>\n",
       "      <th>Flight</th>\n",
       "      <th>Time</th>\n",
       "      <th>Length</th>\n",
       "      <th>Airline</th>\n",
       "      <th>AirportFrom</th>\n",
       "      <th>AirportTo</th>\n",
       "      <th>DayOfWeek</th>\n",
       "      <th>Class</th>\n",
       "    </tr>\n",
       "  </thead>\n",
       "  <tbody>\n",
       "    <tr>\n",
       "      <th>0</th>\n",
       "      <td>320.0</td>\n",
       "      <td>870.0</td>\n",
       "      <td>180.0</td>\n",
       "      <td>CO</td>\n",
       "      <td>IAH</td>\n",
       "      <td>PHX</td>\n",
       "      <td>5</td>\n",
       "      <td>0</td>\n",
       "    </tr>\n",
       "    <tr>\n",
       "      <th>1</th>\n",
       "      <td>3045.0</td>\n",
       "      <td>365.0</td>\n",
       "      <td>66.0</td>\n",
       "      <td>OO</td>\n",
       "      <td>DSM</td>\n",
       "      <td>MKE</td>\n",
       "      <td>2</td>\n",
       "      <td>0</td>\n",
       "    </tr>\n",
       "    <tr>\n",
       "      <th>2</th>\n",
       "      <td>1560.0</td>\n",
       "      <td>740.0</td>\n",
       "      <td>257.0</td>\n",
       "      <td>DL</td>\n",
       "      <td>SEA</td>\n",
       "      <td>CVG</td>\n",
       "      <td>7</td>\n",
       "      <td>0</td>\n",
       "    </tr>\n",
       "    <tr>\n",
       "      <th>3</th>\n",
       "      <td>1156.0</td>\n",
       "      <td>595.0</td>\n",
       "      <td>235.0</td>\n",
       "      <td>WN</td>\n",
       "      <td>SNA</td>\n",
       "      <td>MDW</td>\n",
       "      <td>7</td>\n",
       "      <td>1</td>\n",
       "    </tr>\n",
       "    <tr>\n",
       "      <th>4</th>\n",
       "      <td>1873.0</td>\n",
       "      <td>530.0</td>\n",
       "      <td>133.0</td>\n",
       "      <td>CO</td>\n",
       "      <td>IAH</td>\n",
       "      <td>MCO</td>\n",
       "      <td>6</td>\n",
       "      <td>1</td>\n",
       "    </tr>\n",
       "  </tbody>\n",
       "</table>\n",
       "</div>"
      ],
      "text/plain": [
       "   Flight   Time  Length Airline AirportFrom AirportTo  DayOfWeek  Class\n",
       "0   320.0  870.0   180.0      CO         IAH       PHX          5      0\n",
       "1  3045.0  365.0    66.0      OO         DSM       MKE          2      0\n",
       "2  1560.0  740.0   257.0      DL         SEA       CVG          7      0\n",
       "3  1156.0  595.0   235.0      WN         SNA       MDW          7      1\n",
       "4  1873.0  530.0   133.0      CO         IAH       MCO          6      1"
      ]
     },
     "execution_count": 65,
     "metadata": {},
     "output_type": "execute_result"
    }
   ],
   "source": [
    "df.head()"
   ]
  },
  {
   "cell_type": "markdown",
   "id": "73ada66f-ee5e-4d0a-9c84-7e82e3af58bb",
   "metadata": {
    "id": "73ada66f-ee5e-4d0a-9c84-7e82e3af58bb"
   },
   "source": [
    "#### Melakukan standardisasi secara manual"
   ]
  },
  {
   "cell_type": "code",
   "execution_count": 66,
   "id": "c1832a48",
   "metadata": {
    "id": "c1832a48"
   },
   "outputs": [],
   "source": [
    "# Melakukan standardisasi secara manual untuk kolom numerikal (Time & Length)\n",
    "data = df[['Time','Length']]"
   ]
  },
  {
   "cell_type": "code",
   "execution_count": 67,
   "id": "481246a9",
   "metadata": {
    "id": "481246a9",
    "outputId": "eca3f81c-0452-47ce-b976-a03b840e4f1d"
   },
   "outputs": [
    {
     "data": {
      "text/plain": [
       "Time      803.193566\n",
       "Length    133.346621\n",
       "dtype: float64"
      ]
     },
     "execution_count": 67,
     "metadata": {},
     "output_type": "execute_result"
    }
   ],
   "source": [
    "# Menghitung rata-rata dari setiap kolom\n",
    "means = data.mean(axis=0) # Menghitung rata-rata per kolom.\n",
    "means"
   ]
  },
  {
   "cell_type": "code",
   "execution_count": 68,
   "id": "5f88d12d",
   "metadata": {
    "id": "5f88d12d",
    "outputId": "07fb135f-0565-4193-e044-7b475de01d06"
   },
   "outputs": [
    {
     "data": {
      "text/plain": [
       "Time      276.976027\n",
       "Length     71.598884\n",
       "dtype: float64"
      ]
     },
     "execution_count": 68,
     "metadata": {},
     "output_type": "execute_result"
    }
   ],
   "source": [
    "std = data.std(axis=0) # Menghitung standar deviasi per kolom\n",
    "std"
   ]
  },
  {
   "cell_type": "code",
   "execution_count": 69,
   "id": "a2b086c9",
   "metadata": {
    "id": "a2b086c9"
   },
   "outputs": [],
   "source": [
    "# Melakukan standardisasi\n",
    "standarisation_scaled = (data - means) / std"
   ]
  },
  {
   "cell_type": "code",
   "execution_count": 70,
   "id": "0055249a",
   "metadata": {
    "id": "0055249a"
   },
   "outputs": [],
   "source": [
    "# Mengganti data pada kolom Time & Length dengan data yang telah di-standardisasi\n",
    "df[['Time','Length']] = standarisation_scaled"
   ]
  },
  {
   "cell_type": "code",
   "execution_count": 71,
   "id": "5858c074",
   "metadata": {
    "id": "5858c074",
    "outputId": "1d61276d-da6f-4923-dc30-940d66a8ecb3"
   },
   "outputs": [
    {
     "data": {
      "text/html": [
       "<div>\n",
       "<style scoped>\n",
       "    .dataframe tbody tr th:only-of-type {\n",
       "        vertical-align: middle;\n",
       "    }\n",
       "\n",
       "    .dataframe tbody tr th {\n",
       "        vertical-align: top;\n",
       "    }\n",
       "\n",
       "    .dataframe thead th {\n",
       "        text-align: right;\n",
       "    }\n",
       "</style>\n",
       "<table border=\"1\" class=\"dataframe\">\n",
       "  <thead>\n",
       "    <tr style=\"text-align: right;\">\n",
       "      <th></th>\n",
       "      <th>Flight</th>\n",
       "      <th>Time</th>\n",
       "      <th>Length</th>\n",
       "      <th>Airline</th>\n",
       "      <th>AirportFrom</th>\n",
       "      <th>AirportTo</th>\n",
       "      <th>DayOfWeek</th>\n",
       "      <th>Class</th>\n",
       "    </tr>\n",
       "  </thead>\n",
       "  <tbody>\n",
       "    <tr>\n",
       "      <th>0</th>\n",
       "      <td>320.0</td>\n",
       "      <td>0.241199</td>\n",
       "      <td>0.651594</td>\n",
       "      <td>CO</td>\n",
       "      <td>IAH</td>\n",
       "      <td>PHX</td>\n",
       "      <td>5</td>\n",
       "      <td>0</td>\n",
       "    </tr>\n",
       "    <tr>\n",
       "      <th>1</th>\n",
       "      <td>3045.0</td>\n",
       "      <td>-1.582063</td>\n",
       "      <td>-0.940610</td>\n",
       "      <td>OO</td>\n",
       "      <td>DSM</td>\n",
       "      <td>MKE</td>\n",
       "      <td>2</td>\n",
       "      <td>0</td>\n",
       "    </tr>\n",
       "    <tr>\n",
       "      <th>2</th>\n",
       "      <td>1560.0</td>\n",
       "      <td>-0.228155</td>\n",
       "      <td>1.727029</td>\n",
       "      <td>DL</td>\n",
       "      <td>SEA</td>\n",
       "      <td>CVG</td>\n",
       "      <td>7</td>\n",
       "      <td>0</td>\n",
       "    </tr>\n",
       "    <tr>\n",
       "      <th>3</th>\n",
       "      <td>1156.0</td>\n",
       "      <td>-0.751666</td>\n",
       "      <td>1.419762</td>\n",
       "      <td>WN</td>\n",
       "      <td>SNA</td>\n",
       "      <td>MDW</td>\n",
       "      <td>7</td>\n",
       "      <td>1</td>\n",
       "    </tr>\n",
       "    <tr>\n",
       "      <th>4</th>\n",
       "      <td>1873.0</td>\n",
       "      <td>-0.986344</td>\n",
       "      <td>-0.004841</td>\n",
       "      <td>CO</td>\n",
       "      <td>IAH</td>\n",
       "      <td>MCO</td>\n",
       "      <td>6</td>\n",
       "      <td>1</td>\n",
       "    </tr>\n",
       "  </tbody>\n",
       "</table>\n",
       "</div>"
      ],
      "text/plain": [
       "   Flight      Time    Length Airline AirportFrom AirportTo  DayOfWeek  Class\n",
       "0   320.0  0.241199  0.651594      CO         IAH       PHX          5      0\n",
       "1  3045.0 -1.582063 -0.940610      OO         DSM       MKE          2      0\n",
       "2  1560.0 -0.228155  1.727029      DL         SEA       CVG          7      0\n",
       "3  1156.0 -0.751666  1.419762      WN         SNA       MDW          7      1\n",
       "4  1873.0 -0.986344 -0.004841      CO         IAH       MCO          6      1"
      ]
     },
     "execution_count": 71,
     "metadata": {},
     "output_type": "execute_result"
    }
   ],
   "source": [
    "df.head()"
   ]
  },
  {
   "cell_type": "markdown",
   "id": "6cd625fb-0d56-4f39-b081-2d81e6b6748d",
   "metadata": {
    "id": "6cd625fb-0d56-4f39-b081-2d81e6b6748d"
   },
   "source": [
    "#### Melakukan standardisasi dengan library Sklearn"
   ]
  },
  {
   "cell_type": "code",
   "execution_count": 72,
   "id": "11a7d54b",
   "metadata": {
    "id": "11a7d54b"
   },
   "outputs": [],
   "source": [
    "# Melakukan standardisasi dengan library Sklearn\n",
    "from sklearn.preprocessing import StandardScaler"
   ]
  },
  {
   "cell_type": "code",
   "execution_count": 73,
   "id": "3979dfc1",
   "metadata": {
    "id": "3979dfc1"
   },
   "outputs": [],
   "source": [
    "df = pd.read_csv(\"delay_maskapai.csv\")"
   ]
  },
  {
   "cell_type": "code",
   "execution_count": 74,
   "id": "4e3997d4",
   "metadata": {
    "id": "4e3997d4"
   },
   "outputs": [],
   "source": [
    "# Memanggil objek StandardScaler dari sklearn\n",
    "scaler = StandardScaler()"
   ]
  },
  {
   "cell_type": "code",
   "execution_count": 75,
   "id": "30ae067a",
   "metadata": {
    "id": "30ae067a"
   },
   "outputs": [],
   "source": [
    "# Melakukan standardisasi\n",
    "df[['Time','Length']] = scaler.fit_transform(df[['Time','Length']])"
   ]
  },
  {
   "cell_type": "code",
   "execution_count": 76,
   "id": "0fe8f961",
   "metadata": {
    "id": "0fe8f961",
    "outputId": "1e08222e-dccc-44e6-c8bc-9d793c0b462d"
   },
   "outputs": [
    {
     "data": {
      "text/html": [
       "<div>\n",
       "<style scoped>\n",
       "    .dataframe tbody tr th:only-of-type {\n",
       "        vertical-align: middle;\n",
       "    }\n",
       "\n",
       "    .dataframe tbody tr th {\n",
       "        vertical-align: top;\n",
       "    }\n",
       "\n",
       "    .dataframe thead th {\n",
       "        text-align: right;\n",
       "    }\n",
       "</style>\n",
       "<table border=\"1\" class=\"dataframe\">\n",
       "  <thead>\n",
       "    <tr style=\"text-align: right;\">\n",
       "      <th></th>\n",
       "      <th>Flight</th>\n",
       "      <th>Time</th>\n",
       "      <th>Length</th>\n",
       "      <th>Airline</th>\n",
       "      <th>AirportFrom</th>\n",
       "      <th>AirportTo</th>\n",
       "      <th>DayOfWeek</th>\n",
       "      <th>Class</th>\n",
       "    </tr>\n",
       "  </thead>\n",
       "  <tbody>\n",
       "    <tr>\n",
       "      <th>0</th>\n",
       "      <td>320.0</td>\n",
       "      <td>0.241211</td>\n",
       "      <td>0.651624</td>\n",
       "      <td>CO</td>\n",
       "      <td>IAH</td>\n",
       "      <td>PHX</td>\n",
       "      <td>5</td>\n",
       "      <td>0</td>\n",
       "    </tr>\n",
       "    <tr>\n",
       "      <th>1</th>\n",
       "      <td>3045.0</td>\n",
       "      <td>-1.582136</td>\n",
       "      <td>-0.940654</td>\n",
       "      <td>OO</td>\n",
       "      <td>DSM</td>\n",
       "      <td>MKE</td>\n",
       "      <td>2</td>\n",
       "      <td>0</td>\n",
       "    </tr>\n",
       "    <tr>\n",
       "      <th>2</th>\n",
       "      <td>1560.0</td>\n",
       "      <td>-0.228166</td>\n",
       "      <td>1.727109</td>\n",
       "      <td>DL</td>\n",
       "      <td>SEA</td>\n",
       "      <td>CVG</td>\n",
       "      <td>7</td>\n",
       "      <td>0</td>\n",
       "    </tr>\n",
       "    <tr>\n",
       "      <th>3</th>\n",
       "      <td>1156.0</td>\n",
       "      <td>-0.751701</td>\n",
       "      <td>1.419828</td>\n",
       "      <td>WN</td>\n",
       "      <td>SNA</td>\n",
       "      <td>MDW</td>\n",
       "      <td>7</td>\n",
       "      <td>1</td>\n",
       "    </tr>\n",
       "    <tr>\n",
       "      <th>4</th>\n",
       "      <td>1873.0</td>\n",
       "      <td>-0.986389</td>\n",
       "      <td>-0.004841</td>\n",
       "      <td>CO</td>\n",
       "      <td>IAH</td>\n",
       "      <td>MCO</td>\n",
       "      <td>6</td>\n",
       "      <td>1</td>\n",
       "    </tr>\n",
       "  </tbody>\n",
       "</table>\n",
       "</div>"
      ],
      "text/plain": [
       "   Flight      Time    Length Airline AirportFrom AirportTo  DayOfWeek  Class\n",
       "0   320.0  0.241211  0.651624      CO         IAH       PHX          5      0\n",
       "1  3045.0 -1.582136 -0.940654      OO         DSM       MKE          2      0\n",
       "2  1560.0 -0.228166  1.727109      DL         SEA       CVG          7      0\n",
       "3  1156.0 -0.751701  1.419828      WN         SNA       MDW          7      1\n",
       "4  1873.0 -0.986389 -0.004841      CO         IAH       MCO          6      1"
      ]
     },
     "execution_count": 76,
     "metadata": {},
     "output_type": "execute_result"
    }
   ],
   "source": [
    "df.head()"
   ]
  },
  {
   "cell_type": "markdown",
   "id": "6eb7a11d",
   "metadata": {
    "id": "6eb7a11d"
   },
   "source": [
    "#### Scaling : Normalisasi / MinMax Scaling\n",
    "---"
   ]
  },
  {
   "cell_type": "markdown",
   "id": "49ceb21f-4dee-4d0a-b95a-e89619cbd3d5",
   "metadata": {
    "id": "49ceb21f-4dee-4d0a-b95a-e89619cbd3d5"
   },
   "source": [
    "#### Melakukan normalisasi secara manual"
   ]
  },
  {
   "cell_type": "code",
   "execution_count": 77,
   "id": "0b43bedd",
   "metadata": {
    "id": "0b43bedd"
   },
   "outputs": [],
   "source": [
    "# Melakukan normalisasi secara manual untuk kolom numerikal (Time & Length)\n",
    "data = df[['Time','Length']]"
   ]
  },
  {
   "cell_type": "code",
   "execution_count": 78,
   "id": "b0b50344",
   "metadata": {
    "id": "b0b50344"
   },
   "outputs": [],
   "source": [
    "means = data.mean(axis=0)"
   ]
  },
  {
   "cell_type": "code",
   "execution_count": 79,
   "id": "771b3ee9",
   "metadata": {
    "id": "771b3ee9"
   },
   "outputs": [],
   "source": [
    "max_min = data.max(axis=0) - data.min(axis=0)"
   ]
  },
  {
   "cell_type": "code",
   "execution_count": 80,
   "id": "ff15ca1c",
   "metadata": {
    "id": "ff15ca1c",
    "outputId": "91ff2687-7f6a-4e87-d508-e33f325b03c3"
   },
   "outputs": [
    {
     "data": {
      "text/plain": [
       "Time      5.141478\n",
       "Length    8.743558\n",
       "dtype: float64"
      ]
     },
     "execution_count": 80,
     "metadata": {},
     "output_type": "execute_result"
    }
   ],
   "source": [
    "max_min"
   ]
  },
  {
   "cell_type": "code",
   "execution_count": 81,
   "id": "58948a0a",
   "metadata": {
    "id": "58948a0a"
   },
   "outputs": [],
   "source": [
    "max_min_scaled = (data - data.min(axis=0)) / max_min"
   ]
  },
  {
   "cell_type": "code",
   "execution_count": 82,
   "id": "f13b2b64",
   "metadata": {
    "id": "f13b2b64"
   },
   "outputs": [],
   "source": [
    "df[['Time','Length']] = max_min_scaled"
   ]
  },
  {
   "cell_type": "code",
   "execution_count": 83,
   "id": "73205c52",
   "metadata": {
    "id": "73205c52",
    "outputId": "41d08e4a-24ff-47ff-add8-2d804c737c27"
   },
   "outputs": [
    {
     "data": {
      "text/html": [
       "<div>\n",
       "<style scoped>\n",
       "    .dataframe tbody tr th:only-of-type {\n",
       "        vertical-align: middle;\n",
       "    }\n",
       "\n",
       "    .dataframe tbody tr th {\n",
       "        vertical-align: top;\n",
       "    }\n",
       "\n",
       "    .dataframe thead th {\n",
       "        text-align: right;\n",
       "    }\n",
       "</style>\n",
       "<table border=\"1\" class=\"dataframe\">\n",
       "  <thead>\n",
       "    <tr style=\"text-align: right;\">\n",
       "      <th></th>\n",
       "      <th>Flight</th>\n",
       "      <th>Time</th>\n",
       "      <th>Length</th>\n",
       "      <th>Airline</th>\n",
       "      <th>AirportFrom</th>\n",
       "      <th>AirportTo</th>\n",
       "      <th>DayOfWeek</th>\n",
       "      <th>Class</th>\n",
       "    </tr>\n",
       "  </thead>\n",
       "  <tbody>\n",
       "    <tr>\n",
       "      <th>0</th>\n",
       "      <td>320.0</td>\n",
       "      <td>0.600421</td>\n",
       "      <td>0.241214</td>\n",
       "      <td>CO</td>\n",
       "      <td>IAH</td>\n",
       "      <td>PHX</td>\n",
       "      <td>5</td>\n",
       "      <td>0</td>\n",
       "    </tr>\n",
       "    <tr>\n",
       "      <th>1</th>\n",
       "      <td>3045.0</td>\n",
       "      <td>0.245787</td>\n",
       "      <td>0.059105</td>\n",
       "      <td>OO</td>\n",
       "      <td>DSM</td>\n",
       "      <td>MKE</td>\n",
       "      <td>2</td>\n",
       "      <td>0</td>\n",
       "    </tr>\n",
       "    <tr>\n",
       "      <th>2</th>\n",
       "      <td>1560.0</td>\n",
       "      <td>0.509129</td>\n",
       "      <td>0.364217</td>\n",
       "      <td>DL</td>\n",
       "      <td>SEA</td>\n",
       "      <td>CVG</td>\n",
       "      <td>7</td>\n",
       "      <td>0</td>\n",
       "    </tr>\n",
       "    <tr>\n",
       "      <th>3</th>\n",
       "      <td>1156.0</td>\n",
       "      <td>0.407303</td>\n",
       "      <td>0.329073</td>\n",
       "      <td>WN</td>\n",
       "      <td>SNA</td>\n",
       "      <td>MDW</td>\n",
       "      <td>7</td>\n",
       "      <td>1</td>\n",
       "    </tr>\n",
       "    <tr>\n",
       "      <th>4</th>\n",
       "      <td>1873.0</td>\n",
       "      <td>0.361657</td>\n",
       "      <td>0.166134</td>\n",
       "      <td>CO</td>\n",
       "      <td>IAH</td>\n",
       "      <td>MCO</td>\n",
       "      <td>6</td>\n",
       "      <td>1</td>\n",
       "    </tr>\n",
       "  </tbody>\n",
       "</table>\n",
       "</div>"
      ],
      "text/plain": [
       "   Flight      Time    Length Airline AirportFrom AirportTo  DayOfWeek  Class\n",
       "0   320.0  0.600421  0.241214      CO         IAH       PHX          5      0\n",
       "1  3045.0  0.245787  0.059105      OO         DSM       MKE          2      0\n",
       "2  1560.0  0.509129  0.364217      DL         SEA       CVG          7      0\n",
       "3  1156.0  0.407303  0.329073      WN         SNA       MDW          7      1\n",
       "4  1873.0  0.361657  0.166134      CO         IAH       MCO          6      1"
      ]
     },
     "execution_count": 83,
     "metadata": {},
     "output_type": "execute_result"
    }
   ],
   "source": [
    "df.head()"
   ]
  },
  {
   "cell_type": "markdown",
   "id": "94190508-ff43-4d56-a02c-fe4034a71b7a",
   "metadata": {
    "id": "94190508-ff43-4d56-a02c-fe4034a71b7a"
   },
   "source": [
    "#### Melakukan Normalisasi/MinMax scaling dengan library sci-kit learn"
   ]
  },
  {
   "cell_type": "code",
   "execution_count": 84,
   "id": "d4992a62",
   "metadata": {
    "id": "d4992a62"
   },
   "outputs": [],
   "source": [
    "df = pd.read_csv(\"delay_maskapai.csv\")"
   ]
  },
  {
   "cell_type": "code",
   "execution_count": 85,
   "id": "6b0586b9",
   "metadata": {
    "id": "6b0586b9",
    "outputId": "bebf668b-300a-4334-c7c5-f99245d29cf8"
   },
   "outputs": [
    {
     "data": {
      "text/html": [
       "<div>\n",
       "<style scoped>\n",
       "    .dataframe tbody tr th:only-of-type {\n",
       "        vertical-align: middle;\n",
       "    }\n",
       "\n",
       "    .dataframe tbody tr th {\n",
       "        vertical-align: top;\n",
       "    }\n",
       "\n",
       "    .dataframe thead th {\n",
       "        text-align: right;\n",
       "    }\n",
       "</style>\n",
       "<table border=\"1\" class=\"dataframe\">\n",
       "  <thead>\n",
       "    <tr style=\"text-align: right;\">\n",
       "      <th></th>\n",
       "      <th>Flight</th>\n",
       "      <th>Time</th>\n",
       "      <th>Length</th>\n",
       "      <th>Airline</th>\n",
       "      <th>AirportFrom</th>\n",
       "      <th>AirportTo</th>\n",
       "      <th>DayOfWeek</th>\n",
       "      <th>Class</th>\n",
       "    </tr>\n",
       "  </thead>\n",
       "  <tbody>\n",
       "    <tr>\n",
       "      <th>0</th>\n",
       "      <td>320.0</td>\n",
       "      <td>0.600421</td>\n",
       "      <td>0.241214</td>\n",
       "      <td>CO</td>\n",
       "      <td>IAH</td>\n",
       "      <td>PHX</td>\n",
       "      <td>5</td>\n",
       "      <td>0</td>\n",
       "    </tr>\n",
       "    <tr>\n",
       "      <th>1</th>\n",
       "      <td>3045.0</td>\n",
       "      <td>0.245787</td>\n",
       "      <td>0.059105</td>\n",
       "      <td>OO</td>\n",
       "      <td>DSM</td>\n",
       "      <td>MKE</td>\n",
       "      <td>2</td>\n",
       "      <td>0</td>\n",
       "    </tr>\n",
       "    <tr>\n",
       "      <th>2</th>\n",
       "      <td>1560.0</td>\n",
       "      <td>0.509129</td>\n",
       "      <td>0.364217</td>\n",
       "      <td>DL</td>\n",
       "      <td>SEA</td>\n",
       "      <td>CVG</td>\n",
       "      <td>7</td>\n",
       "      <td>0</td>\n",
       "    </tr>\n",
       "    <tr>\n",
       "      <th>3</th>\n",
       "      <td>1156.0</td>\n",
       "      <td>0.407303</td>\n",
       "      <td>0.329073</td>\n",
       "      <td>WN</td>\n",
       "      <td>SNA</td>\n",
       "      <td>MDW</td>\n",
       "      <td>7</td>\n",
       "      <td>1</td>\n",
       "    </tr>\n",
       "    <tr>\n",
       "      <th>4</th>\n",
       "      <td>1873.0</td>\n",
       "      <td>0.361657</td>\n",
       "      <td>0.166134</td>\n",
       "      <td>CO</td>\n",
       "      <td>IAH</td>\n",
       "      <td>MCO</td>\n",
       "      <td>6</td>\n",
       "      <td>1</td>\n",
       "    </tr>\n",
       "  </tbody>\n",
       "</table>\n",
       "</div>"
      ],
      "text/plain": [
       "   Flight      Time    Length Airline AirportFrom AirportTo  DayOfWeek  Class\n",
       "0   320.0  0.600421  0.241214      CO         IAH       PHX          5      0\n",
       "1  3045.0  0.245787  0.059105      OO         DSM       MKE          2      0\n",
       "2  1560.0  0.509129  0.364217      DL         SEA       CVG          7      0\n",
       "3  1156.0  0.407303  0.329073      WN         SNA       MDW          7      1\n",
       "4  1873.0  0.361657  0.166134      CO         IAH       MCO          6      1"
      ]
     },
     "execution_count": 85,
     "metadata": {},
     "output_type": "execute_result"
    }
   ],
   "source": [
    "# Normalisasi / MinMax scaling dengan library sci-kit learn\n",
    "from sklearn.preprocessing import MinMaxScaler\n",
    "scaler = MinMaxScaler()\n",
    "df[['Time','Length']] = scaler.fit_transform(df[['Time','Length']])\n",
    "df.head()"
   ]
  },
  {
   "cell_type": "markdown",
   "id": "721b446c-eff4-460f-9ddb-10201553994d",
   "metadata": {
    "id": "721b446c-eff4-460f-9ddb-10201553994d"
   },
   "source": [
    "#### Mengevaluasi Hasil Scaling"
   ]
  },
  {
   "cell_type": "code",
   "execution_count": 86,
   "id": "2730737e",
   "metadata": {
    "id": "2730737e"
   },
   "outputs": [],
   "source": [
    "df = pd.read_csv(\"delay_maskapai.csv\")"
   ]
  },
  {
   "cell_type": "code",
   "execution_count": 87,
   "id": "5f349a05",
   "metadata": {
    "id": "5f349a05",
    "outputId": "e7f71d9e-86e5-40ed-f1b1-44ca2c79297c"
   },
   "outputs": [
    {
     "data": {
      "text/plain": [
       "['Time', 'Length']"
      ]
     },
     "execution_count": 87,
     "metadata": {},
     "output_type": "execute_result"
    }
   ],
   "source": [
    "# Mengevaluasi Hasil Scaling\n",
    "from sklearn import preprocessing\n",
    "numerical_col = df.select_dtypes(exclude=['object']).columns.tolist()\n",
    "numerical_col = numerical_col[1:-2]\n",
    "numerical_col"
   ]
  },
  {
   "cell_type": "code",
   "execution_count": 88,
   "id": "fc193d78",
   "metadata": {
    "id": "fc193d78",
    "outputId": "e0133ae8-7da1-48a2-d6e3-1d74fedab9b6"
   },
   "outputs": [
    {
     "data": {
      "text/html": [
       "<div>\n",
       "<style scoped>\n",
       "    .dataframe tbody tr th:only-of-type {\n",
       "        vertical-align: middle;\n",
       "    }\n",
       "\n",
       "    .dataframe tbody tr th {\n",
       "        vertical-align: top;\n",
       "    }\n",
       "\n",
       "    .dataframe thead th {\n",
       "        text-align: right;\n",
       "    }\n",
       "</style>\n",
       "<table border=\"1\" class=\"dataframe\">\n",
       "  <thead>\n",
       "    <tr style=\"text-align: right;\">\n",
       "      <th></th>\n",
       "      <th>Time</th>\n",
       "      <th>Length</th>\n",
       "    </tr>\n",
       "  </thead>\n",
       "  <tbody>\n",
       "    <tr>\n",
       "      <th>0</th>\n",
       "      <td>0.241211</td>\n",
       "      <td>0.651624</td>\n",
       "    </tr>\n",
       "    <tr>\n",
       "      <th>1</th>\n",
       "      <td>-1.582136</td>\n",
       "      <td>-0.940654</td>\n",
       "    </tr>\n",
       "    <tr>\n",
       "      <th>2</th>\n",
       "      <td>-0.228166</td>\n",
       "      <td>1.727109</td>\n",
       "    </tr>\n",
       "    <tr>\n",
       "      <th>3</th>\n",
       "      <td>-0.751701</td>\n",
       "      <td>1.419828</td>\n",
       "    </tr>\n",
       "    <tr>\n",
       "      <th>4</th>\n",
       "      <td>-0.986389</td>\n",
       "      <td>-0.004841</td>\n",
       "    </tr>\n",
       "  </tbody>\n",
       "</table>\n",
       "</div>"
      ],
      "text/plain": [
       "       Time    Length\n",
       "0  0.241211  0.651624\n",
       "1 -1.582136 -0.940654\n",
       "2 -0.228166  1.727109\n",
       "3 -0.751701  1.419828\n",
       "4 -0.986389 -0.004841"
      ]
     },
     "execution_count": 88,
     "metadata": {},
     "output_type": "execute_result"
    }
   ],
   "source": [
    "# StandardScaler\n",
    "scaler = preprocessing.StandardScaler()\n",
    "standard_df = scaler.fit_transform(df[numerical_col])\n",
    "standard_df = pd.DataFrame(standard_df, columns = numerical_col)\n",
    "standard_df.head()"
   ]
  },
  {
   "cell_type": "code",
   "execution_count": 89,
   "id": "57fc0451",
   "metadata": {
    "id": "57fc0451",
    "outputId": "7fba9fd8-6eb9-415b-fbaa-d44793d9e320"
   },
   "outputs": [
    {
     "data": {
      "text/html": [
       "<div>\n",
       "<style scoped>\n",
       "    .dataframe tbody tr th:only-of-type {\n",
       "        vertical-align: middle;\n",
       "    }\n",
       "\n",
       "    .dataframe tbody tr th {\n",
       "        vertical-align: top;\n",
       "    }\n",
       "\n",
       "    .dataframe thead th {\n",
       "        text-align: right;\n",
       "    }\n",
       "</style>\n",
       "<table border=\"1\" class=\"dataframe\">\n",
       "  <thead>\n",
       "    <tr style=\"text-align: right;\">\n",
       "      <th></th>\n",
       "      <th>Time</th>\n",
       "      <th>Length</th>\n",
       "    </tr>\n",
       "  </thead>\n",
       "  <tbody>\n",
       "    <tr>\n",
       "      <th>0</th>\n",
       "      <td>0.600421</td>\n",
       "      <td>0.241214</td>\n",
       "    </tr>\n",
       "    <tr>\n",
       "      <th>1</th>\n",
       "      <td>0.245787</td>\n",
       "      <td>0.059105</td>\n",
       "    </tr>\n",
       "    <tr>\n",
       "      <th>2</th>\n",
       "      <td>0.509129</td>\n",
       "      <td>0.364217</td>\n",
       "    </tr>\n",
       "    <tr>\n",
       "      <th>3</th>\n",
       "      <td>0.407303</td>\n",
       "      <td>0.329073</td>\n",
       "    </tr>\n",
       "    <tr>\n",
       "      <th>4</th>\n",
       "      <td>0.361657</td>\n",
       "      <td>0.166134</td>\n",
       "    </tr>\n",
       "  </tbody>\n",
       "</table>\n",
       "</div>"
      ],
      "text/plain": [
       "       Time    Length\n",
       "0  0.600421  0.241214\n",
       "1  0.245787  0.059105\n",
       "2  0.509129  0.364217\n",
       "3  0.407303  0.329073\n",
       "4  0.361657  0.166134"
      ]
     },
     "execution_count": 89,
     "metadata": {},
     "output_type": "execute_result"
    }
   ],
   "source": [
    "# Normalisasi/MinMax Scaler\n",
    "scaler = preprocessing.MinMaxScaler()\n",
    "minmax_df = scaler.fit_transform(df[numerical_col])\n",
    "minmax_df = pd.DataFrame(minmax_df, columns = numerical_col)\n",
    "minmax_df.head()"
   ]
  },
  {
   "cell_type": "code",
   "execution_count": 90,
   "id": "6404be61",
   "metadata": {
    "id": "6404be61",
    "outputId": "c2dc9701-a573-4d6e-b86f-5d55127fc72e"
   },
   "outputs": [
    {
     "data": {
      "text/html": [
       "<div>\n",
       "<style scoped>\n",
       "    .dataframe tbody tr th:only-of-type {\n",
       "        vertical-align: middle;\n",
       "    }\n",
       "\n",
       "    .dataframe tbody tr th {\n",
       "        vertical-align: top;\n",
       "    }\n",
       "\n",
       "    .dataframe thead th {\n",
       "        text-align: right;\n",
       "    }\n",
       "</style>\n",
       "<table border=\"1\" class=\"dataframe\">\n",
       "  <thead>\n",
       "    <tr style=\"text-align: right;\">\n",
       "      <th></th>\n",
       "      <th>Time</th>\n",
       "      <th>Length</th>\n",
       "    </tr>\n",
       "  </thead>\n",
       "  <tbody>\n",
       "    <tr>\n",
       "      <th>0</th>\n",
       "      <td>0.160256</td>\n",
       "      <td>0.771084</td>\n",
       "    </tr>\n",
       "    <tr>\n",
       "      <th>1</th>\n",
       "      <td>-0.918803</td>\n",
       "      <td>-0.602410</td>\n",
       "    </tr>\n",
       "    <tr>\n",
       "      <th>2</th>\n",
       "      <td>-0.117521</td>\n",
       "      <td>1.698795</td>\n",
       "    </tr>\n",
       "    <tr>\n",
       "      <th>3</th>\n",
       "      <td>-0.427350</td>\n",
       "      <td>1.433735</td>\n",
       "    </tr>\n",
       "    <tr>\n",
       "      <th>4</th>\n",
       "      <td>-0.566239</td>\n",
       "      <td>0.204819</td>\n",
       "    </tr>\n",
       "  </tbody>\n",
       "</table>\n",
       "</div>"
      ],
      "text/plain": [
       "       Time    Length\n",
       "0  0.160256  0.771084\n",
       "1 -0.918803 -0.602410\n",
       "2 -0.117521  1.698795\n",
       "3 -0.427350  1.433735\n",
       "4 -0.566239  0.204819"
      ]
     },
     "execution_count": 90,
     "metadata": {},
     "output_type": "execute_result"
    }
   ],
   "source": [
    "# Robust Scaling\n",
    "scaler = preprocessing.RobustScaler()\n",
    "robust_df = scaler.fit_transform(df[numerical_col])\n",
    "robust_df = pd.DataFrame(robust_df, columns = numerical_col)\n",
    "robust_df.head()"
   ]
  },
  {
   "cell_type": "markdown",
   "id": "0328a9b7",
   "metadata": {
    "id": "0328a9b7"
   },
   "source": [
    "Sebagati tambahan, kita akan menggunakan robust scaling adalah sebuah metode dalam preprocessing data yang bertujuan untuk mengubah skala data dengan mempertahankan ketahanan terhadap nilai-nilai ekstrem atau outlier. Metode ini sangat berguna ketika data memiliki nilai ekstrem yang signifikan dan dapat mempengaruhi analisis atau pemodelan yang dilakukan.\n",
    "\n",
    "Berbeda dengan metode standar seperti Standard Scaling (Z-score normalization) yang menggunakan mean dan standard deviation, Robust Scaling menggunakan median dan interquartile range (IQR) untuk melakukan transformasi data. IQR adalah rentang antara kuartil ke-1 (Q1) dan kuartil ke-3 (Q3) pada data."
   ]
  },
  {
   "cell_type": "code",
   "execution_count": 91,
   "id": "5272d1c5",
   "metadata": {
    "id": "5272d1c5",
    "outputId": "c54ad82f-8194-4a07-aa97-34bc990c75cf"
   },
   "outputs": [
    {
     "data": {
      "image/png": "[encoded data removed]",
      "text/plain": [
       "<Figure size 1000x2000 with 4 Axes>"
      ]
     },
     "metadata": {},
     "output_type": "display_data"
    }
   ],
   "source": [
    "fig, axes = plt.subplots(nrows=4, figsize=(10, 20))\n",
    "\n",
    "axes[0].set_title('Before Scaling')\n",
    "sns.kdeplot(df[numerical_col[0]], ax=axes[0], color='r', label=numerical_col[0])\n",
    "sns.kdeplot(df[numerical_col[1]], ax=axes[0], color='b', label=numerical_col[1])\n",
    "axes[0].legend()\n",
    "\n",
    "axes[1].set_title('After Standard Scaling')\n",
    "sns.kdeplot(standard_df[numerical_col[0]], ax=axes[1], color='black', label=numerical_col[0])\n",
    "sns.kdeplot(standard_df[numerical_col[1]], ax=axes[1], color='g', label=numerical_col[1])\n",
    "axes[1].legend()\n",
    "\n",
    "axes[2].set_title('After Min-Max Scaling')\n",
    "sns.kdeplot(minmax_df[numerical_col[0]], ax=axes[2], color='black', label=numerical_col[0])\n",
    "sns.kdeplot(minmax_df[numerical_col[1]], ax=axes[2], color='b', label=numerical_col[1])\n",
    "axes[2].legend()\n",
    "\n",
    "axes[3].set_title('After Robust Scaling')\n",
    "sns.kdeplot(robust_df[numerical_col[0]], ax=axes[3], color='blue', label=numerical_col[0])\n",
    "sns.kdeplot(robust_df[numerical_col[1]], ax=axes[3], color='green', label=numerical_col[1])\n",
    "axes[3].legend()\n",
    "\n",
    "plt.tight_layout()\n",
    "plt.show()\n"
   ]
  },
  {
   "cell_type": "code",
   "execution_count": 92,
   "id": "33789d4a",
   "metadata": {
    "id": "33789d4a",
    "outputId": "3b7c689d-178c-49f1-85d9-d4ce7df3cf07"
   },
   "outputs": [
    {
     "name": "stdout",
     "output_type": "stream",
     "text": [
      "CV Before Scaling:\n",
      " Time      0.344827\n",
      "Length    0.536913\n",
      "dtype: float64\n",
      "----------------------------------------------------------------------\n",
      "CV After Standard Scaling:\n",
      " Time      0.001245\n",
      "Length    0.007499\n",
      "dtype: float64\n",
      "----------------------------------------------------------------------\n",
      "CV After Min-Max Scaling:\n",
      " Time      0.000242\n",
      "Length    0.000858\n",
      "dtype: float64\n",
      "----------------------------------------------------------------------\n",
      "CV After Robust Scaling:\n",
      " Time      0.000737\n",
      "Length    0.006469\n",
      "dtype: float64\n"
     ]
    },
    {
     "name": "stderr",
     "output_type": "stream",
     "text": [
      "C:\\Users\\Elia\\AppData\\Local\\Programs\\Python\\Python310\\lib\\site-packages\\numpy\\core\\fromnumeric.py:3643: FutureWarning: The behavior of DataFrame.std with axis=None is deprecated, in a future version this will reduce over both axes and return a scalar. To retain the old behavior, pass axis=0 (or do not pass axis)\n",
      "  return std(axis=axis, dtype=dtype, out=out, ddof=ddof, **kwargs)\n",
      "C:\\Users\\Elia\\AppData\\Local\\Programs\\Python\\Python310\\lib\\site-packages\\numpy\\core\\fromnumeric.py:3643: FutureWarning: The behavior of DataFrame.std with axis=None is deprecated, in a future version this will reduce over both axes and return a scalar. To retain the old behavior, pass axis=0 (or do not pass axis)\n",
      "  return std(axis=axis, dtype=dtype, out=out, ddof=ddof, **kwargs)\n",
      "C:\\Users\\Elia\\AppData\\Local\\Programs\\Python\\Python310\\lib\\site-packages\\numpy\\core\\fromnumeric.py:3643: FutureWarning: The behavior of DataFrame.std with axis=None is deprecated, in a future version this will reduce over both axes and return a scalar. To retain the old behavior, pass axis=0 (or do not pass axis)\n",
      "  return std(axis=axis, dtype=dtype, out=out, ddof=ddof, **kwargs)\n",
      "C:\\Users\\Elia\\AppData\\Local\\Programs\\Python\\Python310\\lib\\site-packages\\numpy\\core\\fromnumeric.py:3643: FutureWarning: The behavior of DataFrame.std with axis=None is deprecated, in a future version this will reduce over both axes and return a scalar. To retain the old behavior, pass axis=0 (or do not pass axis)\n",
      "  return std(axis=axis, dtype=dtype, out=out, ddof=ddof, **kwargs)\n"
     ]
    }
   ],
   "source": [
    "import numpy as np\n",
    "\n",
    "# CV before scaling\n",
    "cv_before_scaling = np.std(df[numerical_col]) / df[numerical_col].mean(axis=0)\n",
    "\n",
    "# CV after scaling\n",
    "cv_standard = np.std(standard_df[numerical_col]) / df[numerical_col].mean(axis=0)\n",
    "cv_minmax = np.std(minmax_df[numerical_col]) / df[numerical_col].mean(axis=0)\n",
    "cv_robust = np.std(robust_df[numerical_col]) / df[numerical_col].mean(axis=0)\n",
    "\n",
    "print('CV Before Scaling:\\n', cv_before_scaling)\n",
    "print('-'*70)\n",
    "print('CV After Standard Scaling:\\n', cv_standard)\n",
    "print('-'*70)\n",
    "print('CV After Min-Max Scaling:\\n', cv_minmax)\n",
    "print('-'*70)\n",
    "print('CV After Robust Scaling:\\n', cv_robust)"
   ]
  },
  {
   "cell_type": "markdown",
   "id": "0274c5f1",
   "metadata": {
    "id": "0274c5f1"
   },
   "source": [
    "Nilai CV (Coefficient of Variation) adalah ukuran statistik yang digunakan untuk mengukur tingkat variasi relatif dari sebuah distribusi data. CV menggambarkan seberapa besar variasi data dalam persentase terhadap rata-rata data.\n",
    "\n",
    "CV menghasilkan nilai dalam bentuk persentase. Semakin tinggi nilai CV, semakin besar variasi relatif dalam distribusi data. Nilai CV yang lebih kecil menunjukkan tingkat variasi yang lebih rendah, sedangkan nilai CV yang lebih tinggi menunjukkan tingkat variasi yang lebih tinggi."
   ]
  },
  {
   "cell_type": "markdown",
   "id": "f3ba021e",
   "metadata": {
    "id": "f3ba021e"
   },
   "source": [
    "### 7. Dokumentasi Data/Fitur\n",
    "---"
   ]
  },
  {
   "cell_type": "markdown",
   "id": "ef59b0d3",
   "metadata": {
    "id": "ef59b0d3"
   },
   "source": [
    "<center>\n",
    "    <img src=\"https://drive.google.com/uc?export=view&id=1WnLL7CKZ0955yv2UCcqQ6c2hybBoJV_n\"  width=\"500\" />\n",
    "</center>"
   ]
  },
  {
   "cell_type": "markdown",
   "id": "9c5641a4",
   "metadata": {
    "id": "9c5641a4"
   },
   "source": [
    "Laporan dokumentasi data transformation, setidaknya memiliki parameter berikut:\n",
    "- Fitur awal dan rekayasa fitur yang digunakan\n",
    "- Teknik transformasi data yang diterapkan\n",
    "    - Apakah algoritma pemodelan mengharapkan jenis data tertentu, seperti numerik? Jika demikian, lakukan transformasi yang diperlukan\n",
    "    - Apakah data perlu dinormalisasi sebelum pemodelan?\n",
    "    - Bisakah atribut yang hilang dibangun menggunakan agregasi, rata-rata, atau induksi?\n",
    "- Hasil transformasi\n",
    "- Rekomendasi transformasi\n",
    "\n"
   ]
  },
  {
   "cell_type": "markdown",
   "id": "ec3bd6ca",
   "metadata": {
    "id": "ec3bd6ca"
   },
   "source": [
    "### 8. Pelabelan Data\n",
    "---"
   ]
  },
  {
   "cell_type": "markdown",
   "id": "4aa43a2b",
   "metadata": {
    "id": "4aa43a2b"
   },
   "source": [
    "<center>\n",
    "    <img src=\"https://drive.google.com/uc?export=view&id=1N6vd9WgKcDN_EYo-vqrz1_E2HabzyA9f\"  width=\"500\" />\n",
    "</center>"
   ]
  },
  {
   "cell_type": "markdown",
   "id": "2951d573",
   "metadata": {
    "id": "2951d573"
   },
   "source": [
    "<center>\n",
    "    <img src=\"https://drive.google.com/uc?export=view&id=1cM1XDmvN8zNqN2f0-H-wsGZkJmqxWrzC\"  width=\"700\" />\n",
    "</center>"
   ]
  },
  {
   "cell_type": "markdown",
   "id": "fce0522b",
   "metadata": {
    "id": "fce0522b"
   },
   "source": [
    "- Label encoding menggantikan nilai kategori dengan angka, yaitu mengubah setiap nilai kategori menjadi bilangan bulat. Pendekatan ini bergantung pada urutan nilai dan dapat digunakan untuk variabel kategorikal dengan tingkatan yang terurut.\n",
    "\n",
    "    Pada contoh di atas negara India, Japan, dan US diubah menjadi bilangan 0,1,2 dan masih berada pada kolom di atas\n",
    "\n",
    "    Keuntungan label encoding adalah sederhana dan efisien dalam representasi data yang membutuhkan perhatian pada urutan. Namun, metode ini juga bisa menimbulkan masalah seperti memberikan bobot pada variabel kategorikal yang seharusnya tidak ada urutan yang intrinsik, yang dapat menyebabkan algoritma pembelajaran mesin memberikan arti yang tidak diinginkan pada variabel tersebut."
   ]
  },
  {
   "cell_type": "markdown",
   "id": "533f3f74",
   "metadata": {
    "id": "533f3f74"
   },
   "source": [
    "- One-hot encoding menghasilkan vektor biner dengan panjang yang sama dengan jumlah kategori unik dalam variabel. Setiap vektor biner memiliki nilai 1 untuk kategori yang relevan dan nilai 0 untuk kategori lainnya. Pada contoh di atas, kolom negara dipecah sesuai isian datanya sehingga membentuk kolom masing-masing seperti India -> kolom 0, Japan -> kolom 1, dan US -> kolom 2\n",
    "\n",
    "    Keuntungan one-hot encoding adalah tidak ada penekanan urutan dan tidak ada bobot yang diberikan pada variabel kategorikal. Ini menghindari masalah yang mungkin timbul dengan label encoding. Namun, jika jumlah kategori unik sangat besar, one-hot encoding dapat menyebabkan ledakan dimensi dan meningkatkan kompleksitas pemrosesan."
   ]
  },
  {
   "cell_type": "markdown",
   "id": "baf2118b-407c-41d1-b2b5-2a118a82de0a",
   "metadata": {
    "id": "baf2118b-407c-41d1-b2b5-2a118a82de0a"
   },
   "source": [
    "#### Label Encoding"
   ]
  },
  {
   "cell_type": "code",
   "execution_count": 93,
   "id": "bf97fb84",
   "metadata": {
    "id": "bf97fb84"
   },
   "outputs": [],
   "source": [
    "# Label Encoding\n",
    "import pandas as pd\n",
    "from sklearn import preprocessing"
   ]
  },
  {
   "cell_type": "code",
   "execution_count": 94,
   "id": "b3af2c52",
   "metadata": {
    "id": "b3af2c52"
   },
   "outputs": [],
   "source": [
    "df = pd.read_csv(\"delay_maskapai.csv\")"
   ]
  },
  {
   "cell_type": "code",
   "execution_count": 95,
   "id": "d5dfd8fe",
   "metadata": {
    "id": "d5dfd8fe"
   },
   "outputs": [],
   "source": [
    "# Menyimpan nama kolom yang berjenis kategori ke dalam variabel cat_col\n",
    "cat_col = ['Airline','AirportFrom','AirportTo','DayOfWeek']"
   ]
  },
  {
   "cell_type": "code",
   "execution_count": 96,
   "id": "2bd36cd8",
   "metadata": {
    "id": "2bd36cd8"
   },
   "outputs": [],
   "source": [
    "# Encoding Kolom Kategori\n",
    "le = preprocessing.LabelEncoder()\n",
    "df[cat_col] = df[cat_col].apply(le.fit_transform)"
   ]
  },
  {
   "cell_type": "code",
   "execution_count": 97,
   "id": "df5c25d2",
   "metadata": {
    "id": "df5c25d2",
    "outputId": "d326f0f5-cc68-418c-87cd-b5b14352ee51"
   },
   "outputs": [
    {
     "data": {
      "text/html": [
       "<div>\n",
       "<style scoped>\n",
       "    .dataframe tbody tr th:only-of-type {\n",
       "        vertical-align: middle;\n",
       "    }\n",
       "\n",
       "    .dataframe tbody tr th {\n",
       "        vertical-align: top;\n",
       "    }\n",
       "\n",
       "    .dataframe thead th {\n",
       "        text-align: right;\n",
       "    }\n",
       "</style>\n",
       "<table border=\"1\" class=\"dataframe\">\n",
       "  <thead>\n",
       "    <tr style=\"text-align: right;\">\n",
       "      <th></th>\n",
       "      <th>Flight</th>\n",
       "      <th>Time</th>\n",
       "      <th>Length</th>\n",
       "      <th>Airline</th>\n",
       "      <th>AirportFrom</th>\n",
       "      <th>AirportTo</th>\n",
       "      <th>DayOfWeek</th>\n",
       "      <th>Class</th>\n",
       "    </tr>\n",
       "  </thead>\n",
       "  <tbody>\n",
       "    <tr>\n",
       "      <th>0</th>\n",
       "      <td>320.0</td>\n",
       "      <td>870.0</td>\n",
       "      <td>180.0</td>\n",
       "      <td>4</td>\n",
       "      <td>125</td>\n",
       "      <td>199</td>\n",
       "      <td>4</td>\n",
       "      <td>0</td>\n",
       "    </tr>\n",
       "    <tr>\n",
       "      <th>1</th>\n",
       "      <td>3045.0</td>\n",
       "      <td>365.0</td>\n",
       "      <td>66.0</td>\n",
       "      <td>12</td>\n",
       "      <td>76</td>\n",
       "      <td>170</td>\n",
       "      <td>1</td>\n",
       "      <td>0</td>\n",
       "    </tr>\n",
       "    <tr>\n",
       "      <th>2</th>\n",
       "      <td>1560.0</td>\n",
       "      <td>740.0</td>\n",
       "      <td>257.0</td>\n",
       "      <td>5</td>\n",
       "      <td>235</td>\n",
       "      <td>64</td>\n",
       "      <td>6</td>\n",
       "      <td>0</td>\n",
       "    </tr>\n",
       "    <tr>\n",
       "      <th>3</th>\n",
       "      <td>1156.0</td>\n",
       "      <td>595.0</td>\n",
       "      <td>235.0</td>\n",
       "      <td>15</td>\n",
       "      <td>245</td>\n",
       "      <td>162</td>\n",
       "      <td>6</td>\n",
       "      <td>1</td>\n",
       "    </tr>\n",
       "    <tr>\n",
       "      <th>4</th>\n",
       "      <td>1873.0</td>\n",
       "      <td>530.0</td>\n",
       "      <td>133.0</td>\n",
       "      <td>4</td>\n",
       "      <td>125</td>\n",
       "      <td>160</td>\n",
       "      <td>5</td>\n",
       "      <td>1</td>\n",
       "    </tr>\n",
       "  </tbody>\n",
       "</table>\n",
       "</div>"
      ],
      "text/plain": [
       "   Flight   Time  Length  Airline  AirportFrom  AirportTo  DayOfWeek  Class\n",
       "0   320.0  870.0   180.0        4          125        199          4      0\n",
       "1  3045.0  365.0    66.0       12           76        170          1      0\n",
       "2  1560.0  740.0   257.0        5          235         64          6      0\n",
       "3  1156.0  595.0   235.0       15          245        162          6      1\n",
       "4  1873.0  530.0   133.0        4          125        160          5      1"
      ]
     },
     "execution_count": 97,
     "metadata": {},
     "output_type": "execute_result"
    }
   ],
   "source": [
    "df.head()"
   ]
  },
  {
   "cell_type": "markdown",
   "id": "1b63c1c5-0a0e-4fe2-8830-a5494248f0d2",
   "metadata": {
    "id": "1b63c1c5-0a0e-4fe2-8830-a5494248f0d2"
   },
   "source": [
    "#### One Hot Encoding"
   ]
  },
  {
   "cell_type": "code",
   "execution_count": 98,
   "id": "dbf7df1b",
   "metadata": {
    "id": "dbf7df1b"
   },
   "outputs": [],
   "source": [
    "# One Hot Encoding\n",
    "df = pd.read_csv(\"delay_maskapai.csv\")"
   ]
  },
  {
   "cell_type": "code",
   "execution_count": 99,
   "id": "55509630",
   "metadata": {
    "id": "55509630",
    "outputId": "327d1273-ac3d-4f2f-920e-8498b2c9e034",
    "scrolled": true
   },
   "outputs": [
    {
     "data": {
      "text/html": [
       "<div>\n",
       "<style scoped>\n",
       "    .dataframe tbody tr th:only-of-type {\n",
       "        vertical-align: middle;\n",
       "    }\n",
       "\n",
       "    .dataframe tbody tr th {\n",
       "        vertical-align: top;\n",
       "    }\n",
       "\n",
       "    .dataframe thead th {\n",
       "        text-align: right;\n",
       "    }\n",
       "</style>\n",
       "<table border=\"1\" class=\"dataframe\">\n",
       "  <thead>\n",
       "    <tr style=\"text-align: right;\">\n",
       "      <th></th>\n",
       "      <th>Flight</th>\n",
       "      <th>Time</th>\n",
       "      <th>Length</th>\n",
       "      <th>Class</th>\n",
       "      <th>Airline_AA</th>\n",
       "      <th>Airline_AS</th>\n",
       "      <th>Airline_B6</th>\n",
       "      <th>Airline_CO</th>\n",
       "      <th>Airline_DL</th>\n",
       "      <th>Airline_EV</th>\n",
       "      <th>...</th>\n",
       "      <th>AirportTo_WRG</th>\n",
       "      <th>AirportTo_XNA</th>\n",
       "      <th>AirportTo_YAK</th>\n",
       "      <th>AirportTo_YUM</th>\n",
       "      <th>DayOfWeek_2</th>\n",
       "      <th>DayOfWeek_3</th>\n",
       "      <th>DayOfWeek_4</th>\n",
       "      <th>DayOfWeek_5</th>\n",
       "      <th>DayOfWeek_6</th>\n",
       "      <th>DayOfWeek_7</th>\n",
       "    </tr>\n",
       "  </thead>\n",
       "  <tbody>\n",
       "    <tr>\n",
       "      <th>0</th>\n",
       "      <td>320.0</td>\n",
       "      <td>870.0</td>\n",
       "      <td>180.0</td>\n",
       "      <td>0</td>\n",
       "      <td>False</td>\n",
       "      <td>False</td>\n",
       "      <td>False</td>\n",
       "      <td>True</td>\n",
       "      <td>False</td>\n",
       "      <td>False</td>\n",
       "      <td>...</td>\n",
       "      <td>False</td>\n",
       "      <td>False</td>\n",
       "      <td>False</td>\n",
       "      <td>False</td>\n",
       "      <td>False</td>\n",
       "      <td>False</td>\n",
       "      <td>False</td>\n",
       "      <td>True</td>\n",
       "      <td>False</td>\n",
       "      <td>False</td>\n",
       "    </tr>\n",
       "    <tr>\n",
       "      <th>1</th>\n",
       "      <td>3045.0</td>\n",
       "      <td>365.0</td>\n",
       "      <td>66.0</td>\n",
       "      <td>0</td>\n",
       "      <td>False</td>\n",
       "      <td>False</td>\n",
       "      <td>False</td>\n",
       "      <td>False</td>\n",
       "      <td>False</td>\n",
       "      <td>False</td>\n",
       "      <td>...</td>\n",
       "      <td>False</td>\n",
       "      <td>False</td>\n",
       "      <td>False</td>\n",
       "      <td>False</td>\n",
       "      <td>True</td>\n",
       "      <td>False</td>\n",
       "      <td>False</td>\n",
       "      <td>False</td>\n",
       "      <td>False</td>\n",
       "      <td>False</td>\n",
       "    </tr>\n",
       "    <tr>\n",
       "      <th>2</th>\n",
       "      <td>1560.0</td>\n",
       "      <td>740.0</td>\n",
       "      <td>257.0</td>\n",
       "      <td>0</td>\n",
       "      <td>False</td>\n",
       "      <td>False</td>\n",
       "      <td>False</td>\n",
       "      <td>False</td>\n",
       "      <td>True</td>\n",
       "      <td>False</td>\n",
       "      <td>...</td>\n",
       "      <td>False</td>\n",
       "      <td>False</td>\n",
       "      <td>False</td>\n",
       "      <td>False</td>\n",
       "      <td>False</td>\n",
       "      <td>False</td>\n",
       "      <td>False</td>\n",
       "      <td>False</td>\n",
       "      <td>False</td>\n",
       "      <td>True</td>\n",
       "    </tr>\n",
       "    <tr>\n",
       "      <th>3</th>\n",
       "      <td>1156.0</td>\n",
       "      <td>595.0</td>\n",
       "      <td>235.0</td>\n",
       "      <td>1</td>\n",
       "      <td>False</td>\n",
       "      <td>False</td>\n",
       "      <td>False</td>\n",
       "      <td>False</td>\n",
       "      <td>False</td>\n",
       "      <td>False</td>\n",
       "      <td>...</td>\n",
       "      <td>False</td>\n",
       "      <td>False</td>\n",
       "      <td>False</td>\n",
       "      <td>False</td>\n",
       "      <td>False</td>\n",
       "      <td>False</td>\n",
       "      <td>False</td>\n",
       "      <td>False</td>\n",
       "      <td>False</td>\n",
       "      <td>True</td>\n",
       "    </tr>\n",
       "    <tr>\n",
       "      <th>4</th>\n",
       "      <td>1873.0</td>\n",
       "      <td>530.0</td>\n",
       "      <td>133.0</td>\n",
       "      <td>1</td>\n",
       "      <td>False</td>\n",
       "      <td>False</td>\n",
       "      <td>False</td>\n",
       "      <td>True</td>\n",
       "      <td>False</td>\n",
       "      <td>False</td>\n",
       "      <td>...</td>\n",
       "      <td>False</td>\n",
       "      <td>False</td>\n",
       "      <td>False</td>\n",
       "      <td>False</td>\n",
       "      <td>False</td>\n",
       "      <td>False</td>\n",
       "      <td>False</td>\n",
       "      <td>False</td>\n",
       "      <td>True</td>\n",
       "      <td>False</td>\n",
       "    </tr>\n",
       "  </tbody>\n",
       "</table>\n",
       "<p>5 rows × 560 columns</p>\n",
       "</div>"
      ],
      "text/plain": [
       "   Flight   Time  Length  Class  Airline_AA  Airline_AS  Airline_B6  \\\n",
       "0   320.0  870.0   180.0      0       False       False       False   \n",
       "1  3045.0  365.0    66.0      0       False       False       False   \n",
       "2  1560.0  740.0   257.0      0       False       False       False   \n",
       "3  1156.0  595.0   235.0      1       False       False       False   \n",
       "4  1873.0  530.0   133.0      1       False       False       False   \n",
       "\n",
       "   Airline_CO  Airline_DL  Airline_EV  ...  AirportTo_WRG  AirportTo_XNA  \\\n",
       "0        True       False       False  ...          False          False   \n",
       "1       False       False       False  ...          False          False   \n",
       "2       False        True       False  ...          False          False   \n",
       "3       False       False       False  ...          False          False   \n",
       "4        True       False       False  ...          False          False   \n",
       "\n",
       "   AirportTo_YAK  AirportTo_YUM  DayOfWeek_2  DayOfWeek_3  DayOfWeek_4  \\\n",
       "0          False          False        False        False        False   \n",
       "1          False          False         True        False        False   \n",
       "2          False          False        False        False        False   \n",
       "3          False          False        False        False        False   \n",
       "4          False          False        False        False        False   \n",
       "\n",
       "   DayOfWeek_5  DayOfWeek_6  DayOfWeek_7  \n",
       "0         True        False        False  \n",
       "1        False        False        False  \n",
       "2        False        False         True  \n",
       "3        False        False         True  \n",
       "4        False         True        False  \n",
       "\n",
       "[5 rows x 560 columns]"
      ]
     },
     "execution_count": 99,
     "metadata": {},
     "output_type": "execute_result"
    }
   ],
   "source": [
    "cat_col = ['Airline','AirportFrom','AirportTo','DayOfWeek']\n",
    "df = pd.get_dummies(data=df,columns=cat_col,drop_first=True)\n",
    "df.head()"
   ]
  },
  {
   "cell_type": "markdown",
   "id": "e7f4e39f",
   "metadata": {
    "id": "e7f4e39f"
   },
   "source": [
    "### 8. Menganalisa Akurasi Pelabelan Data\n",
    "---"
   ]
  },
  {
   "cell_type": "markdown",
   "id": "772acfe3",
   "metadata": {
    "id": "772acfe3"
   },
   "source": [
    "- Business Goals suatu AI  yang berbeda memerlukan ukuran kualitas data yang berbeda.\n",
    "\n",
    "- Keseimbangan dan variasi titik data di dalam dataset merupakan indikator seberapa baik algoritma dapat memprediksi suatu titik atau pola selanjutnya.\n",
    "\n",
    "- Misal tugas suatu AI adalah membedakan antara kendaraan yang bergerak dan tidak bergerak. Jika dataset memuat 90% gambar mobil bergerak tetapi hanya 10% yang diparkir, maka dapat dianggap tidak seimbang.\n",
    "\n",
    "- Untuk mengatasi masalah ini dapat digunakan teknik seperti oversampling, downsampling atau weight balancing.\n",
    "\n",
    "- Kualitas data set untuk pelatihan model sering ditentukan oleh seberapa tepat label dan kategori ditempatkan pada setiap titik data.\n",
    "- Namun, bukan hanya tentang keakuratan pelabelan data tetapi juga tentang seberapa konsisten keakuratannya.\n",
    "    - Akurasi dan konsistensi data diukur selama proses penjaminan mutu, langkah-langkah terpisah yang dapat dilakukan secara manual atau otomatis.\n",
    "    - Pendekatan yang berbeda dapat digabungkan untuk cross check dan memastikan kesempurnaan data set.\n",
    "\n",
    "\n"
   ]
  },
  {
   "cell_type": "markdown",
   "id": "febade7f",
   "metadata": {
    "id": "febade7f"
   },
   "source": [
    "<center>\n",
    "    <img src=\"https://drive.google.com/uc?export=view&id=1xwwQEO-nB993e8UB4V37lrzIl04jagxM\"  width=\"500\" />\n",
    "</center>"
   ]
  },
  {
   "cell_type": "markdown",
   "id": "a04093ea",
   "metadata": {
    "id": "a04093ea"
   },
   "source": [
    "#### Apa yang mempengaruhi kualitas data dalam pelabelan?\n"
   ]
  },
  {
   "cell_type": "markdown",
   "id": "6fc6bc00",
   "metadata": {
    "id": "6fc6bc00"
   },
   "source": [
    "- Knowledge and context\n",
    "    - Pengetahuan dasar satu domain dan pemahaman kontekstual sangat penting seperti pemberi label untuk membuat set data terstruktur berkualitas tinggi.\n",
    "- Agility\n",
    "    - Pelabelan data berkembang saat dilakukan pengujian dan validasi model, sehingga harus disiapkan data set baru dan memperkaya data set yang ada untuk meningkatkan hasil algoritma Machine Learning.\n",
    "- Relationship\n",
    "    - Kita memerlukan pemberi label data yang dapat merespons dengan cepat dan mengikuti alur kerja tim, berdasarkan apa yang telah dipelajari dalam fase pengujian dan validasi model.\n",
    "- Communication\n",
    "    - Pendekatan umpan balik (feedback) adalah cara terbaik untuk membangun komunikasi dan kolaborasi yang andal antara tim dan pemberi label data.\n"
   ]
  },
  {
   "cell_type": "markdown",
   "id": "454bdb5c",
   "metadata": {
    "id": "454bdb5c"
   },
   "source": [
    "### 9. Metode QA untuk Mengukur Kualitas Data\n",
    "---"
   ]
  },
  {
   "cell_type": "markdown",
   "id": "7051f717",
   "metadata": {
    "id": "7051f717"
   },
   "source": [
    "- Consensus Algorithm\n",
    "    - Merupakan proses untuk mencapai reliabilitas data melalui kesepakatan pada satu titik data di antara beberapa individu pemberi label data atau suatu organisasi.\n",
    "    - Konsensus dapat dilakukan dengan menetapkan sejumlah reviewer per titik data (umumnya untuk data open source) atau sepenuhnya otomatis.\n",
    "\n",
    "- Benchmarking and Gold Standard\n",
    "    - Benchmarking adalah pendekatan yang lebih kompleks dan andal untuk QA, karena menggunakan standar tertentu.\n",
    "    - Menggunakan otomatisasi, pemberi label mendapatkan benchmark secara acak untuk memastikan bahwa label dan anotasi mematuhi referensi yang telah ditentukan\n",
    "    - Ahli diperlukan hanya untuk membuat referensi dan meninjau kualitas secara keseluruhan dan potensi penyimpangan.\n",
    "\n",
    "- Sample review\n",
    "    - Pilih sampel acak dari hasil pelabelan yang telah diselesaikan.\n",
    "    - Pekerja yang lebih berpengalaman, seperti pemimpin tim atau manajer proyek, dapat meninjau sampel untuk mengukur akurasinya.\n",
    "\n",
    "- Cronbach's Alpha Test\n",
    "    - Digunakan sebagai ukuran korelasi rata-rata atau konsistensi item dalam dataset, yang tergantung pada karakteristik penelitian (misal homogenitas).\n",
    "    - Dapat membantu dengan cepat melihat keandalan label secara keseluruhan.\n",
    "\n"
   ]
  },
  {
   "cell_type": "markdown",
   "id": "d4116d8c",
   "metadata": {
    "id": "d4116d8c"
   },
   "source": [
    "### 10.Keamanan Pelabelan Data\n",
    "---"
   ]
  },
  {
   "cell_type": "markdown",
   "id": "265836cc",
   "metadata": {
    "id": "265836cc"
   },
   "source": [
    "Tiga area yang perlu menjadi perhatian untuk menjaga keamanan dokumen\n",
    "- **Orang dan Tenaga Kerja** : Ini dapat mencakup pemeriksaan latar belakang untuk pekerja dan mungkin mengharuskan pemberi label untuk menandatangani perjanjian kerahasiaan (NDA) atau dokumen serupa yang menguraikan persyaratan keamanan data.\n",
    "- **Teknologi dan Jaringan** : Pekerja mungkin diminta untuk menyerahkan perangkat yang mereka bawa ke tempat kerja, seperti ponsel atau tablet.\n",
    "- **Fasilitas dan Ruang Kerja** : Pekerja dapat duduk di tempat yang menghalangi orang lain untuk melihat pekerjaan mereka.\n"
   ]
  }
 ],
 "metadata": {
  "colab": {
   "provenance": []
  },
  "kernelspec": {
   "display_name": "Python 3 (ipykernel)",
   "language": "python",
   "name": "python3"
  },
  "language_info": {
   "codemirror_mode": {
    "name": "ipython",
    "version": 3
   },
   "file_extension": ".py",
   "mimetype": "text/x-python",
   "name": "python",
   "nbconvert_exporter": "python",
   "pygments_lexer": "ipython3",
   "version": "3.10.10"
  }
 },
 "nbformat": 4,
 "nbformat_minor": 5
}
