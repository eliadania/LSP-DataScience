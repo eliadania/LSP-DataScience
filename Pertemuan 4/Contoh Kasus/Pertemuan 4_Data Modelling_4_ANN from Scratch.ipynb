{
 "cells": [
  {
   "cell_type": "markdown",
   "metadata": {
    "id": "FBnS8ougMid0"
   },
   "source": [
    "<center>\n",
    "    <img src=\"https://drive.google.com/uc?export=view&id=1hDKusF04c0lNZA_qOShvWQrpImayVKz8\"  width=\"1000\" />\n",
    "</center>"
   ]
  },
  {
   "cell_type": "markdown",
   "metadata": {
    "id": "jGKAl-uDMid2"
   },
   "source": [
    "# Hands-On\n",
    "---\n",
    "Hands-On ini digunakan pada kegiatan Kursus Data Science yang merupakan pembekalan bagi mahasiswa Universitas Gunadarma untuk Skema Associate Data Scientist"
   ]
  },
  {
   "cell_type": "markdown",
   "metadata": {
    "id": "8fa-iTFzMid3"
   },
   "source": [
    "### Pertemuan 4 - Semester 7"
   ]
  },
  {
   "cell_type": "markdown",
   "metadata": {
    "id": "wYBDixPOMid3"
   },
   "source": [
    "### Daftar Isi :\n",
    "Membangun Model dan Mengevaluasi Hasil Pemodelan\n",
    "- Supervised Learning\n",
    "    - Klasifikasi\n",
    "    1. Menggunakan machine learning\n",
    "    2. Menggunakan deep learning\n",
    "\n",
    "- Unsupervised Learning"
   ]
  },
  {
   "cell_type": "markdown",
   "metadata": {
    "id": "73RIrBVsMid3"
   },
   "source": [
    "### Supervised Learning dan Unsupervised Learning"
   ]
  },
  {
   "cell_type": "markdown",
   "metadata": {
    "id": "n5K4tUE2Mid3"
   },
   "source": [
    "<center>\n",
    "    <img src=\"https://miro.medium.com/v2/resize:fit:720/format:webp/0*H4D11uM2V6wcgK4k.png\"  width=\"300\" />\n",
    "    <figcaption>Ilustrasi Supervised dan Unsupervised Learning</figcaption>\n",
    "</center>"
   ]
  },
  {
   "cell_type": "markdown",
   "metadata": {
    "id": "X1uaaeEKMid3"
   },
   "source": [
    "### Supervised Learning\n",
    "Supervised learning adalah jenis pembelajaran mesin di mana algoritma diajari menggunakan data yang sudah diberi label. Dalam supervised learning, ada variabel target (variabel dependen) yang ingin diprediksi, dan algoritma dilatih untuk menghubungkan fitur atau atribut yang ada dalam data dengan target yang telah diberikan (variabel independen).\n",
    "\n",
    "Supervised learning biasanya digunakan untuk dua hal utama :\n",
    "- Classification\n",
    "- Regression\n",
    "\n",
    "Beberapa algoritma supervised learning :\n",
    "1. Linear Regression\n",
    "2. Logistic Regression\n",
    "3. K-Nearest Neighbours\n",
    "4. Decision Trees\n",
    "5. SVM\n",
    "6. Naive Bayes\n",
    "7. Neural Networks"
   ]
  },
  {
   "cell_type": "markdown",
   "metadata": {
    "id": "nQlfJcRjMid4"
   },
   "source": [
    "### Unsupervised Learning\n",
    "Unsupervised learning adalah jenis pembelajaran mesin di mana algoritma dilatih dari data yang tidak memiliki label atau target yang jelas. Dalam unsupervised learning, tujuannya adalah menemukan pola, struktur, dan hubungan tersembunyi dalam data tanpa arahan yang eksplisit.\n",
    "\n",
    "Umumnya unsupervised learning digunakan untuk tiga hal utama:\n",
    "- Clustering\n",
    "- Association\n",
    "- Dimensionality reduction\n",
    "\n",
    "Salah satu contoh unsupervised Learning algorithms :\n",
    "1. K-Means"
   ]
  },
  {
   "cell_type": "markdown",
   "metadata": {
    "id": "bGtL2SHcMid4"
   },
   "source": [
    "### 1. Membangun Model Supervised Learning dan Mengevaluasi Hasil Pemodelan\n",
    "\n",
    "---"
   ]
  },
  {
   "cell_type": "markdown",
   "metadata": {
    "id": "LSHqP35aMid4"
   },
   "source": [
    "### 1.2 Supervised Learning dengan Deep Learning"
   ]
  },
  {
   "cell_type": "markdown",
   "metadata": {
    "id": "K2eHAzxbMid4"
   },
   "source": [
    "Deep learning adalah salah satu cabang machine learning yang fokus pada pengembangan dan penerapan jaringan saraf tiruan (artificial neural networks) yang kompleks.\n",
    "\n",
    "Deep learning melibatkan penggunaan jaringan saraf tiruan yang dalam (deep neural networks) dengan banyak lapisan tersembunyi (hidden layers) untuk mempelajari representasi hierarkis dari data.\n",
    "\n",
    "Jaringan saraf tiruan dalam deep learning dapat mempelajari fitur secara otomatis dari data, tanpa perlu adanya ekstraksi fitur manual."
   ]
  },
  {
   "cell_type": "markdown",
   "metadata": {
    "id": "8U_Ej54FMid4"
   },
   "source": [
    "### 1.2.1 ANN from Scratch with Cupy\n",
    "-----"
   ]
  },
  {
   "cell_type": "markdown",
   "metadata": {
    "id": "d-BC2Dp7Mid5"
   },
   "source": [
    "#### Sekilas tentang Cupy"
   ]
  },
  {
   "cell_type": "markdown",
   "metadata": {
    "id": "iN7G5X6uMid5"
   },
   "source": [
    "<center>\n",
    "    <img src=\"https://www.preferred.jp/wp-content/uploads/2020/09/CuPy_640x400.png\"  width=\"300\" />\n",
    "</center>"
   ]
  },
  {
   "cell_type": "markdown",
   "metadata": {
    "id": "p_NevWKSMid5"
   },
   "source": [
    "\n",
    "CuPy adalah library pada Python yang berfungsi sebagai penerjemah sintaksis GPU untuk operasi numerik. Ia menyediakan antarmuka yang serupa dengan NumPy, tetapi dengan kemampuan untuk menjalankan komputasi pada perangkat GPU.\n",
    "\n",
    "CuPy memungkinkan pengguna untuk mengubah kode yang semula ditujukan untuk dijalankan pada CPU menjadi kode yang dapat dijalankan pada GPU tanpa perlu mengubah logika kode secara signifikan. Dengan menggunakan CuPy, Anda dapat memanfaatkan kecepatan dan kemampuan paralel yang dimiliki oleh GPU untuk mempercepat komputasi numerik."
   ]
  },
  {
   "cell_type": "code",
   "execution_count": 1,
   "metadata": {
    "id": "g8w6xyoKbsyo"
   },
   "outputs": [],
   "source": [
    "# Import library Pandas\n",
    "import pandas as pd"
   ]
  },
  {
   "cell_type": "code",
   "execution_count": 2,
   "metadata": {
    "id": "Lw0PZx70b66Z"
   },
   "outputs": [],
   "source": [
    "# Memuat dataset\n",
    "df = pd.read_csv('delay_maskapai.csv')"
   ]
  },
  {
   "cell_type": "code",
   "execution_count": 3,
   "metadata": {
    "colab": {
     "base_uri": "https://localhost:8080/"
    },
    "id": "J4TUhDidb_VJ",
    "outputId": "149592ab-9d0b-45c6-a320-252a1b0721ef"
   },
   "outputs": [
    {
     "name": "stdout",
     "output_type": "stream",
     "text": [
      "<class 'pandas.core.frame.DataFrame'>\n",
      "RangeIndex: 10787 entries, 0 to 10786\n",
      "Data columns (total 8 columns):\n",
      " #   Column       Non-Null Count  Dtype  \n",
      "---  ------       --------------  -----  \n",
      " 0   Flight       10787 non-null  float64\n",
      " 1   Time         10787 non-null  float64\n",
      " 2   Length       10787 non-null  float64\n",
      " 3   Airline      10787 non-null  object \n",
      " 4   AirportFrom  10787 non-null  object \n",
      " 5   AirportTo    10787 non-null  object \n",
      " 6   DayOfWeek    10787 non-null  int64  \n",
      " 7   Class        10787 non-null  int64  \n",
      "dtypes: float64(3), int64(2), object(3)\n",
      "memory usage: 674.3+ KB\n"
     ]
    }
   ],
   "source": [
    "# Melihat info dataset (index, nama kolom, jumlah baris, tipe data)\n",
    "df.info()"
   ]
  },
  {
   "cell_type": "code",
   "execution_count": 4,
   "metadata": {
    "id": "8ep51Vocd312"
   },
   "outputs": [],
   "source": [
    "# Membuang Kolom \"Flight\"\n",
    "df = df.iloc[:,1:]"
   ]
  },
  {
   "cell_type": "code",
   "execution_count": 5,
   "metadata": {
    "colab": {
     "base_uri": "https://localhost:8080/",
     "height": 143
    },
    "id": "mE03MXlsd5Bz",
    "outputId": "039b03f8-5deb-4711-cebf-cc7d34a96813"
   },
   "outputs": [
    {
     "data": {
      "text/html": [
       "<div>\n",
       "<style scoped>\n",
       "    .dataframe tbody tr th:only-of-type {\n",
       "        vertical-align: middle;\n",
       "    }\n",
       "\n",
       "    .dataframe tbody tr th {\n",
       "        vertical-align: top;\n",
       "    }\n",
       "\n",
       "    .dataframe thead th {\n",
       "        text-align: right;\n",
       "    }\n",
       "</style>\n",
       "<table border=\"1\" class=\"dataframe\">\n",
       "  <thead>\n",
       "    <tr style=\"text-align: right;\">\n",
       "      <th></th>\n",
       "      <th>Time</th>\n",
       "      <th>Length</th>\n",
       "      <th>Airline</th>\n",
       "      <th>AirportFrom</th>\n",
       "      <th>AirportTo</th>\n",
       "      <th>DayOfWeek</th>\n",
       "      <th>Class</th>\n",
       "    </tr>\n",
       "  </thead>\n",
       "  <tbody>\n",
       "    <tr>\n",
       "      <th>0</th>\n",
       "      <td>870.0</td>\n",
       "      <td>180.0</td>\n",
       "      <td>CO</td>\n",
       "      <td>IAH</td>\n",
       "      <td>PHX</td>\n",
       "      <td>5</td>\n",
       "      <td>0</td>\n",
       "    </tr>\n",
       "    <tr>\n",
       "      <th>1</th>\n",
       "      <td>365.0</td>\n",
       "      <td>66.0</td>\n",
       "      <td>OO</td>\n",
       "      <td>DSM</td>\n",
       "      <td>MKE</td>\n",
       "      <td>2</td>\n",
       "      <td>0</td>\n",
       "    </tr>\n",
       "    <tr>\n",
       "      <th>2</th>\n",
       "      <td>740.0</td>\n",
       "      <td>257.0</td>\n",
       "      <td>DL</td>\n",
       "      <td>SEA</td>\n",
       "      <td>CVG</td>\n",
       "      <td>7</td>\n",
       "      <td>0</td>\n",
       "    </tr>\n",
       "  </tbody>\n",
       "</table>\n",
       "</div>"
      ],
      "text/plain": [
       "    Time  Length Airline AirportFrom AirportTo  DayOfWeek  Class\n",
       "0  870.0   180.0      CO         IAH       PHX          5      0\n",
       "1  365.0    66.0      OO         DSM       MKE          2      0\n",
       "2  740.0   257.0      DL         SEA       CVG          7      0"
      ]
     },
     "execution_count": 5,
     "metadata": {},
     "output_type": "execute_result"
    }
   ],
   "source": [
    "# Melihat 3 baris pertama pada dataset\n",
    "df.head(3)"
   ]
  },
  {
   "cell_type": "code",
   "execution_count": 6,
   "metadata": {
    "id": "K1Jj-P5wd6Sl"
   },
   "outputs": [],
   "source": [
    "# Melakukan Standard Scaling\n",
    "from sklearn.preprocessing import StandardScaler"
   ]
  },
  {
   "cell_type": "code",
   "execution_count": 7,
   "metadata": {
    "colab": {
     "base_uri": "https://localhost:8080/",
     "height": 206
    },
    "id": "vkOdY4Lxd8DA",
    "outputId": "0aa62fb8-e3ad-447e-e660-0e792b0106b9"
   },
   "outputs": [
    {
     "data": {
      "text/html": [
       "<div>\n",
       "<style scoped>\n",
       "    .dataframe tbody tr th:only-of-type {\n",
       "        vertical-align: middle;\n",
       "    }\n",
       "\n",
       "    .dataframe tbody tr th {\n",
       "        vertical-align: top;\n",
       "    }\n",
       "\n",
       "    .dataframe thead th {\n",
       "        text-align: right;\n",
       "    }\n",
       "</style>\n",
       "<table border=\"1\" class=\"dataframe\">\n",
       "  <thead>\n",
       "    <tr style=\"text-align: right;\">\n",
       "      <th></th>\n",
       "      <th>Time</th>\n",
       "      <th>Length</th>\n",
       "      <th>Airline</th>\n",
       "      <th>AirportFrom</th>\n",
       "      <th>AirportTo</th>\n",
       "      <th>DayOfWeek</th>\n",
       "      <th>Class</th>\n",
       "    </tr>\n",
       "  </thead>\n",
       "  <tbody>\n",
       "    <tr>\n",
       "      <th>0</th>\n",
       "      <td>0.241211</td>\n",
       "      <td>0.651624</td>\n",
       "      <td>CO</td>\n",
       "      <td>IAH</td>\n",
       "      <td>PHX</td>\n",
       "      <td>5</td>\n",
       "      <td>0</td>\n",
       "    </tr>\n",
       "    <tr>\n",
       "      <th>1</th>\n",
       "      <td>-1.582136</td>\n",
       "      <td>-0.940654</td>\n",
       "      <td>OO</td>\n",
       "      <td>DSM</td>\n",
       "      <td>MKE</td>\n",
       "      <td>2</td>\n",
       "      <td>0</td>\n",
       "    </tr>\n",
       "    <tr>\n",
       "      <th>2</th>\n",
       "      <td>-0.228166</td>\n",
       "      <td>1.727109</td>\n",
       "      <td>DL</td>\n",
       "      <td>SEA</td>\n",
       "      <td>CVG</td>\n",
       "      <td>7</td>\n",
       "      <td>0</td>\n",
       "    </tr>\n",
       "    <tr>\n",
       "      <th>3</th>\n",
       "      <td>-0.751701</td>\n",
       "      <td>1.419828</td>\n",
       "      <td>WN</td>\n",
       "      <td>SNA</td>\n",
       "      <td>MDW</td>\n",
       "      <td>7</td>\n",
       "      <td>1</td>\n",
       "    </tr>\n",
       "    <tr>\n",
       "      <th>4</th>\n",
       "      <td>-0.986389</td>\n",
       "      <td>-0.004841</td>\n",
       "      <td>CO</td>\n",
       "      <td>IAH</td>\n",
       "      <td>MCO</td>\n",
       "      <td>6</td>\n",
       "      <td>1</td>\n",
       "    </tr>\n",
       "  </tbody>\n",
       "</table>\n",
       "</div>"
      ],
      "text/plain": [
       "       Time    Length Airline AirportFrom AirportTo  DayOfWeek  Class\n",
       "0  0.241211  0.651624      CO         IAH       PHX          5      0\n",
       "1 -1.582136 -0.940654      OO         DSM       MKE          2      0\n",
       "2 -0.228166  1.727109      DL         SEA       CVG          7      0\n",
       "3 -0.751701  1.419828      WN         SNA       MDW          7      1\n",
       "4 -0.986389 -0.004841      CO         IAH       MCO          6      1"
      ]
     },
     "execution_count": 7,
     "metadata": {},
     "output_type": "execute_result"
    }
   ],
   "source": [
    "scaler = StandardScaler()\n",
    "df[['Time','Length']] = scaler.fit_transform(df[['Time','Length']])\n",
    "df.head()"
   ]
  },
  {
   "cell_type": "code",
   "execution_count": 8,
   "metadata": {
    "id": "B4A4FMYId96p"
   },
   "outputs": [],
   "source": [
    "# Menyimpan nama kolom yang berjenis kategori ke dalam variabel cat_col\n",
    "cat_col = ['Airline','AirportFrom','AirportTo','DayOfWeek']"
   ]
  },
  {
   "cell_type": "code",
   "execution_count": 9,
   "metadata": {
    "id": "pK88zvLQd_IJ"
   },
   "outputs": [],
   "source": [
    "# Label Encoding Kolom Kategori\n",
    "from sklearn import preprocessing\n",
    "le = preprocessing.LabelEncoder()\n",
    "df[cat_col] = df[cat_col].apply(le.fit_transform)"
   ]
  },
  {
   "cell_type": "code",
   "execution_count": 10,
   "metadata": {
    "colab": {
     "base_uri": "https://localhost:8080/",
     "height": 206
    },
    "id": "jQ03_yIceAfY",
    "outputId": "a9b9d9ef-e763-49a5-bb2b-3ef5444de072"
   },
   "outputs": [
    {
     "data": {
      "text/html": [
       "<div>\n",
       "<style scoped>\n",
       "    .dataframe tbody tr th:only-of-type {\n",
       "        vertical-align: middle;\n",
       "    }\n",
       "\n",
       "    .dataframe tbody tr th {\n",
       "        vertical-align: top;\n",
       "    }\n",
       "\n",
       "    .dataframe thead th {\n",
       "        text-align: right;\n",
       "    }\n",
       "</style>\n",
       "<table border=\"1\" class=\"dataframe\">\n",
       "  <thead>\n",
       "    <tr style=\"text-align: right;\">\n",
       "      <th></th>\n",
       "      <th>Time</th>\n",
       "      <th>Length</th>\n",
       "      <th>Airline</th>\n",
       "      <th>AirportFrom</th>\n",
       "      <th>AirportTo</th>\n",
       "      <th>DayOfWeek</th>\n",
       "      <th>Class</th>\n",
       "    </tr>\n",
       "  </thead>\n",
       "  <tbody>\n",
       "    <tr>\n",
       "      <th>0</th>\n",
       "      <td>0.241211</td>\n",
       "      <td>0.651624</td>\n",
       "      <td>4</td>\n",
       "      <td>125</td>\n",
       "      <td>199</td>\n",
       "      <td>4</td>\n",
       "      <td>0</td>\n",
       "    </tr>\n",
       "    <tr>\n",
       "      <th>1</th>\n",
       "      <td>-1.582136</td>\n",
       "      <td>-0.940654</td>\n",
       "      <td>12</td>\n",
       "      <td>76</td>\n",
       "      <td>170</td>\n",
       "      <td>1</td>\n",
       "      <td>0</td>\n",
       "    </tr>\n",
       "    <tr>\n",
       "      <th>2</th>\n",
       "      <td>-0.228166</td>\n",
       "      <td>1.727109</td>\n",
       "      <td>5</td>\n",
       "      <td>235</td>\n",
       "      <td>64</td>\n",
       "      <td>6</td>\n",
       "      <td>0</td>\n",
       "    </tr>\n",
       "    <tr>\n",
       "      <th>3</th>\n",
       "      <td>-0.751701</td>\n",
       "      <td>1.419828</td>\n",
       "      <td>15</td>\n",
       "      <td>245</td>\n",
       "      <td>162</td>\n",
       "      <td>6</td>\n",
       "      <td>1</td>\n",
       "    </tr>\n",
       "    <tr>\n",
       "      <th>4</th>\n",
       "      <td>-0.986389</td>\n",
       "      <td>-0.004841</td>\n",
       "      <td>4</td>\n",
       "      <td>125</td>\n",
       "      <td>160</td>\n",
       "      <td>5</td>\n",
       "      <td>1</td>\n",
       "    </tr>\n",
       "  </tbody>\n",
       "</table>\n",
       "</div>"
      ],
      "text/plain": [
       "       Time    Length  Airline  AirportFrom  AirportTo  DayOfWeek  Class\n",
       "0  0.241211  0.651624        4          125        199          4      0\n",
       "1 -1.582136 -0.940654       12           76        170          1      0\n",
       "2 -0.228166  1.727109        5          235         64          6      0\n",
       "3 -0.751701  1.419828       15          245        162          6      1\n",
       "4 -0.986389 -0.004841        4          125        160          5      1"
      ]
     },
     "execution_count": 10,
     "metadata": {},
     "output_type": "execute_result"
    }
   ],
   "source": [
    "df.head()"
   ]
  },
  {
   "cell_type": "code",
   "execution_count": 11,
   "metadata": {
    "id": "-5V3_aNrMid8",
    "outputId": "ad8e3007-c9bf-4a10-cb12-94b3ebd4a956"
   },
   "outputs": [
    {
     "data": {
      "text/plain": [
       "Class\n",
       "0    5959\n",
       "1    4828\n",
       "Name: count, dtype: int64"
      ]
     },
     "execution_count": 11,
     "metadata": {},
     "output_type": "execute_result"
    }
   ],
   "source": [
    "# Melihat keseimbangan data pada kolom \"Class\"\n",
    "df['Class'].value_counts()"
   ]
  },
  {
   "cell_type": "markdown",
   "metadata": {
    "id": "y8c8x9VnMid8"
   },
   "source": [
    "Perbandingan antara kedua kelas tersebut adalah relatif seimbang"
   ]
  },
  {
   "cell_type": "code",
   "execution_count": 12,
   "metadata": {
    "id": "JpFDnbfBeBVR"
   },
   "outputs": [],
   "source": [
    "# Membuat variabel independen (X) dan variabel dependen (y)\n",
    "X = df.iloc[:,0:-1].values\n",
    "y = df.iloc[:,-1].values"
   ]
  },
  {
   "cell_type": "code",
   "execution_count": 13,
   "metadata": {
    "id": "KMqt85d_eCyP"
   },
   "outputs": [],
   "source": [
    "# Membagi dataset ke data latih dan data uji\n",
    "from sklearn.model_selection import train_test_split\n",
    "X_train, X_test, y_train, y_test = train_test_split(X,y,test_size=0.3, random_state=0)"
   ]
  },
  {
   "cell_type": "code",
   "execution_count": 14,
   "metadata": {
    "id": "iIHvOtjPMid9"
   },
   "outputs": [],
   "source": [
    "# !pip install cupy-cuda11x --pre -f https://pip.cupy.dev/pre"
   ]
  },
  {
   "cell_type": "code",
   "execution_count": 15,
   "metadata": {
    "id": "k5fzmZ26anFV"
   },
   "outputs": [
    {
     "name": "stderr",
     "output_type": "stream",
     "text": [
      "C:\\Users\\Elia\\AppData\\Local\\Programs\\Python\\Python310\\lib\\site-packages\\cupy\\_environment.py:216: UserWarning: CUDA path could not be detected. Set CUDA_PATH environment variable if CuPy fails to load.\n",
      "  warnings.warn(\n"
     ]
    },
    {
     "ename": "ImportError",
     "evalue": "\n================================================================\nFailed to import CuPy.\n\nIf you installed CuPy via wheels (cupy-cudaXXX or cupy-rocm-X-X), make sure that the package matches with the version of CUDA or ROCm installed.\n\nOn Linux, you may need to set LD_LIBRARY_PATH environment variable depending on how you installed CUDA/ROCm.\nOn Windows, try setting CUDA_PATH environment variable.\n\nCheck the Installation Guide for details:\n  https://docs.cupy.dev/en/latest/install.html\n\nCUDA Path: None\nDLL dependencies:\n  KERNEL32.dll -> C:\\Windows\\System32\\KERNEL32.DLL\n  MSVCP140.dll -> C:\\Users\\Elia\\AppData\\Local\\Programs\\Python\\Python310\\lib\\site-packages\\pyzmq.libs\\MSVCP140.dll\n  VCRUNTIME140.dll -> C:\\Users\\Elia\\AppData\\Local\\Programs\\Python\\Python310\\VCRUNTIME140.dll\n  api-ms-win-crt-convert-l1-1-0.dll -> C:\\Windows\\System32\\ucrtbase.dll\n  api-ms-win-crt-environment-l1-1-0.dll -> C:\\Windows\\System32\\ucrtbase.dll\n  api-ms-win-crt-filesystem-l1-1-0.dll -> C:\\Windows\\System32\\ucrtbase.dll\n  api-ms-win-crt-heap-l1-1-0.dll -> C:\\Windows\\System32\\ucrtbase.dll\n  api-ms-win-crt-runtime-l1-1-0.dll -> C:\\Windows\\System32\\ucrtbase.dll\n  api-ms-win-crt-stdio-l1-1-0.dll -> C:\\Windows\\System32\\ucrtbase.dll\n  cuTENSOR.dll -> not found\n  cublas64_11.dll -> not found\n  cudart64_110.dll -> not found\n  cudnn64_8.dll -> not found\n  cufft64_10.dll -> not found\n  curand64_10.dll -> not found\n  cusolver64_10.dll -> not found\n  cusparse64_11.dll -> not found\n  nvcuda.dll -> not found\n  nvrtc64_110_0.dll -> not found\n  python310.dll -> C:\\Users\\Elia\\AppData\\Local\\Programs\\Python\\Python310\\python310.dll\n\nOriginal error:\n  ImportError: DLL load failed while importing runtime: The specified module could not be found.\n================================================================\n",
     "output_type": "error",
     "traceback": [
      "\u001b[1;31m---------------------------------------------------------------------------\u001b[0m",
      "\u001b[1;31mImportError\u001b[0m                               Traceback (most recent call last)",
      "File \u001b[1;32m~\\AppData\\Local\\Programs\\Python\\Python310\\lib\\site-packages\\cupy\\__init__.py:17\u001b[0m\n\u001b[0;32m     16\u001b[0m \u001b[38;5;28;01mtry\u001b[39;00m:\n\u001b[1;32m---> 17\u001b[0m     \u001b[38;5;28;01mfrom\u001b[39;00m \u001b[38;5;21;01mcupy\u001b[39;00m \u001b[38;5;28;01mimport\u001b[39;00m _core  \u001b[38;5;66;03m# NOQA\u001b[39;00m\n\u001b[0;32m     18\u001b[0m \u001b[38;5;28;01mexcept\u001b[39;00m \u001b[38;5;167;01mImportError\u001b[39;00m \u001b[38;5;28;01mas\u001b[39;00m exc:\n",
      "File \u001b[1;32m~\\AppData\\Local\\Programs\\Python\\Python310\\lib\\site-packages\\cupy\\_core\\__init__.py:3\u001b[0m\n\u001b[0;32m      1\u001b[0m \u001b[38;5;66;03m# mypy: ignore-errors\u001b[39;00m\n\u001b[1;32m----> 3\u001b[0m \u001b[38;5;28;01mfrom\u001b[39;00m \u001b[38;5;21;01mcupy\u001b[39;00m\u001b[38;5;21;01m.\u001b[39;00m\u001b[38;5;21;01m_core\u001b[39;00m \u001b[38;5;28;01mimport\u001b[39;00m core  \u001b[38;5;66;03m# NOQA\u001b[39;00m\n\u001b[0;32m      4\u001b[0m \u001b[38;5;28;01mfrom\u001b[39;00m \u001b[38;5;21;01mcupy\u001b[39;00m\u001b[38;5;21;01m.\u001b[39;00m\u001b[38;5;21;01m_core\u001b[39;00m \u001b[38;5;28;01mimport\u001b[39;00m fusion  \u001b[38;5;66;03m# NOQA\u001b[39;00m\n",
      "File \u001b[1;32mcupy\\_core\\core.pyx:1\u001b[0m, in \u001b[0;36minit cupy._core.core\u001b[1;34m()\u001b[0m\n",
      "File \u001b[1;32m~\\AppData\\Local\\Programs\\Python\\Python310\\lib\\site-packages\\cupy\\cuda\\__init__.py:8\u001b[0m\n\u001b[0;32m      7\u001b[0m \u001b[38;5;28;01mfrom\u001b[39;00m \u001b[38;5;21;01mcupy\u001b[39;00m\u001b[38;5;21;01m.\u001b[39;00m\u001b[38;5;21;01m_environment\u001b[39;00m \u001b[38;5;28;01mimport\u001b[39;00m get_hipcc_path  \u001b[38;5;66;03m# NOQA\u001b[39;00m\n\u001b[1;32m----> 8\u001b[0m \u001b[38;5;28;01mfrom\u001b[39;00m \u001b[38;5;21;01mcupy\u001b[39;00m\u001b[38;5;21;01m.\u001b[39;00m\u001b[38;5;21;01mcuda\u001b[39;00m \u001b[38;5;28;01mimport\u001b[39;00m compiler  \u001b[38;5;66;03m# NOQA\u001b[39;00m\n\u001b[0;32m      9\u001b[0m \u001b[38;5;28;01mfrom\u001b[39;00m \u001b[38;5;21;01mcupy\u001b[39;00m\u001b[38;5;21;01m.\u001b[39;00m\u001b[38;5;21;01mcuda\u001b[39;00m \u001b[38;5;28;01mimport\u001b[39;00m device  \u001b[38;5;66;03m# NOQA\u001b[39;00m\n",
      "File \u001b[1;32m~\\AppData\\Local\\Programs\\Python\\Python310\\lib\\site-packages\\cupy\\cuda\\compiler.py:13\u001b[0m\n\u001b[0;32m     11\u001b[0m \u001b[38;5;28;01mimport\u001b[39;00m \u001b[38;5;21;01mwarnings\u001b[39;00m\n\u001b[1;32m---> 13\u001b[0m \u001b[38;5;28;01mfrom\u001b[39;00m \u001b[38;5;21;01mcupy\u001b[39;00m\u001b[38;5;21;01m.\u001b[39;00m\u001b[38;5;21;01mcuda\u001b[39;00m \u001b[38;5;28;01mimport\u001b[39;00m device\n\u001b[0;32m     14\u001b[0m \u001b[38;5;28;01mfrom\u001b[39;00m \u001b[38;5;21;01mcupy\u001b[39;00m\u001b[38;5;21;01m.\u001b[39;00m\u001b[38;5;21;01mcuda\u001b[39;00m \u001b[38;5;28;01mimport\u001b[39;00m function\n",
      "File \u001b[1;32mcupy\\cuda\\device.pyx:1\u001b[0m, in \u001b[0;36minit cupy.cuda.device\u001b[1;34m()\u001b[0m\n",
      "\u001b[1;31mImportError\u001b[0m: DLL load failed while importing runtime: The specified module could not be found.",
      "\nThe above exception was the direct cause of the following exception:\n",
      "\u001b[1;31mImportError\u001b[0m                               Traceback (most recent call last)",
      "Cell \u001b[1;32mIn[15], line 2\u001b[0m\n\u001b[0;32m      1\u001b[0m \u001b[38;5;66;03m# Import library Cupy\u001b[39;00m\n\u001b[1;32m----> 2\u001b[0m \u001b[38;5;28;01mimport\u001b[39;00m \u001b[38;5;21;01mcupy\u001b[39;00m \u001b[38;5;28;01mas\u001b[39;00m \u001b[38;5;21;01mcp\u001b[39;00m\n",
      "File \u001b[1;32m~\\AppData\\Local\\Programs\\Python\\Python310\\lib\\site-packages\\cupy\\__init__.py:19\u001b[0m\n\u001b[0;32m     17\u001b[0m     \u001b[38;5;28;01mfrom\u001b[39;00m \u001b[38;5;21;01mcupy\u001b[39;00m \u001b[38;5;28;01mimport\u001b[39;00m _core  \u001b[38;5;66;03m# NOQA\u001b[39;00m\n\u001b[0;32m     18\u001b[0m \u001b[38;5;28;01mexcept\u001b[39;00m \u001b[38;5;167;01mImportError\u001b[39;00m \u001b[38;5;28;01mas\u001b[39;00m exc:\n\u001b[1;32m---> 19\u001b[0m     \u001b[38;5;28;01mraise\u001b[39;00m \u001b[38;5;167;01mImportError\u001b[39;00m(\u001b[38;5;124mf\u001b[39m\u001b[38;5;124m'''\u001b[39m\n\u001b[0;32m     20\u001b[0m \u001b[38;5;124m================================================================\u001b[39m\n\u001b[0;32m     21\u001b[0m \u001b[38;5;132;01m{\u001b[39;00m_environment\u001b[38;5;241m.\u001b[39m_diagnose_import_error()\u001b[38;5;132;01m}\u001b[39;00m\n\u001b[0;32m     22\u001b[0m \n\u001b[0;32m     23\u001b[0m \u001b[38;5;124mOriginal error:\u001b[39m\n\u001b[0;32m     24\u001b[0m \u001b[38;5;124m  \u001b[39m\u001b[38;5;132;01m{\u001b[39;00m\u001b[38;5;28mtype\u001b[39m(exc)\u001b[38;5;241m.\u001b[39m\u001b[38;5;18m__name__\u001b[39m\u001b[38;5;132;01m}\u001b[39;00m\u001b[38;5;124m: \u001b[39m\u001b[38;5;132;01m{\u001b[39;00mexc\u001b[38;5;132;01m}\u001b[39;00m\n\u001b[0;32m     25\u001b[0m \u001b[38;5;124m================================================================\u001b[39m\n\u001b[0;32m     26\u001b[0m \u001b[38;5;124m'''\u001b[39m) \u001b[38;5;28;01mfrom\u001b[39;00m \u001b[38;5;21;01mexc\u001b[39;00m\n\u001b[0;32m     29\u001b[0m \u001b[38;5;28;01mfrom\u001b[39;00m \u001b[38;5;21;01mcupy\u001b[39;00m \u001b[38;5;28;01mimport\u001b[39;00m cuda  \u001b[38;5;66;03m# NOQA\u001b[39;00m\n\u001b[0;32m     30\u001b[0m \u001b[38;5;66;03m# Do not make `cupy.cupyx` available because it is confusing.\u001b[39;00m\n",
      "\u001b[1;31mImportError\u001b[0m: \n================================================================\nFailed to import CuPy.\n\nIf you installed CuPy via wheels (cupy-cudaXXX or cupy-rocm-X-X), make sure that the package matches with the version of CUDA or ROCm installed.\n\nOn Linux, you may need to set LD_LIBRARY_PATH environment variable depending on how you installed CUDA/ROCm.\nOn Windows, try setting CUDA_PATH environment variable.\n\nCheck the Installation Guide for details:\n  https://docs.cupy.dev/en/latest/install.html\n\nCUDA Path: None\nDLL dependencies:\n  KERNEL32.dll -> C:\\Windows\\System32\\KERNEL32.DLL\n  MSVCP140.dll -> C:\\Users\\Elia\\AppData\\Local\\Programs\\Python\\Python310\\lib\\site-packages\\pyzmq.libs\\MSVCP140.dll\n  VCRUNTIME140.dll -> C:\\Users\\Elia\\AppData\\Local\\Programs\\Python\\Python310\\VCRUNTIME140.dll\n  api-ms-win-crt-convert-l1-1-0.dll -> C:\\Windows\\System32\\ucrtbase.dll\n  api-ms-win-crt-environment-l1-1-0.dll -> C:\\Windows\\System32\\ucrtbase.dll\n  api-ms-win-crt-filesystem-l1-1-0.dll -> C:\\Windows\\System32\\ucrtbase.dll\n  api-ms-win-crt-heap-l1-1-0.dll -> C:\\Windows\\System32\\ucrtbase.dll\n  api-ms-win-crt-runtime-l1-1-0.dll -> C:\\Windows\\System32\\ucrtbase.dll\n  api-ms-win-crt-stdio-l1-1-0.dll -> C:\\Windows\\System32\\ucrtbase.dll\n  cuTENSOR.dll -> not found\n  cublas64_11.dll -> not found\n  cudart64_110.dll -> not found\n  cudnn64_8.dll -> not found\n  cufft64_10.dll -> not found\n  curand64_10.dll -> not found\n  cusolver64_10.dll -> not found\n  cusparse64_11.dll -> not found\n  nvcuda.dll -> not found\n  nvrtc64_110_0.dll -> not found\n  python310.dll -> C:\\Users\\Elia\\AppData\\Local\\Programs\\Python\\Python310\\python310.dll\n\nOriginal error:\n  ImportError: DLL load failed while importing runtime: The specified module could not be found.\n================================================================\n"
     ]
    }
   ],
   "source": [
    "# Import library Cupy\n",
    "import cupy as cp"
   ]
  },
  {
   "cell_type": "code",
   "execution_count": null,
   "metadata": {
    "colab": {
     "base_uri": "https://localhost:8080/"
    },
    "id": "sZK-Psmvbpyw",
    "outputId": "fcba093d-41c6-4a02-ef38-dc1b52da6c8d"
   },
   "outputs": [],
   "source": [
    "cp.cuda.is_available()"
   ]
  },
  {
   "cell_type": "markdown",
   "metadata": {
    "id": "B7AvQ__gMid9"
   },
   "source": [
    "Fungsi cp.cuda.is_available() digunakan untuk memeriksa apakah CUDA, platform komputasi paralel yang digunakan oleh GPU NVIDIA, tersedia dan dapat diakses di sistem saat ini."
   ]
  },
  {
   "cell_type": "code",
   "execution_count": null,
   "metadata": {
    "id": "llPiRVyNMid9",
    "tags": []
   },
   "outputs": [],
   "source": [
    "# Membuat ANN\n",
    "class NeuralNetwork:\n",
    "    def __init__(self, input_size, hidden_sizes, output_size):\n",
    "        self.input_size = input_size\n",
    "        self.hidden_sizes = hidden_sizes\n",
    "        self.output_size = output_size\n",
    "        self.num_hidden_layers = len(hidden_sizes)\n",
    "\n",
    "        # Inisialisasi bobot secara acak dengan mean 0\n",
    "        self.weights = []\n",
    "        input_dim = input_size\n",
    "        for hidden_size in hidden_sizes:\n",
    "            self.weights.append(cp.random.randn(input_dim, hidden_size))\n",
    "            input_dim = hidden_size\n",
    "        self.weights.append(cp.random.randn(input_dim, output_size))\n",
    "\n",
    "    def sigmoid(self, x):\n",
    "        return 1 / (1 + cp.exp(-x))\n",
    "\n",
    "    def forward(self, X):\n",
    "        self.z_values = []\n",
    "        input_data = X\n",
    "\n",
    "        for weight in self.weights:\n",
    "            z = cp.dot(input_data, weight)\n",
    "            input_data = self.sigmoid(z)\n",
    "            self.z_values.append(z)\n",
    "\n",
    "        return input_data\n",
    "\n",
    "    def sigmoid_derivative(self, x):\n",
    "        return x * (1 - x)\n",
    "\n",
    "    def backward(self, X, y, y_hat, learning_rate):\n",
    "        deltas = [None] * (self.num_hidden_layers + 1)\n",
    "        error = y - y_hat\n",
    "        delta_output = error * self.sigmoid_derivative(y_hat)\n",
    "        deltas[self.num_hidden_layers] = delta_output\n",
    "\n",
    "        for i in range(self.num_hidden_layers, 0, -1):\n",
    "            error_hidden = cp.dot(deltas[i], self.weights[i].T)\n",
    "            delta_hidden = error_hidden * self.sigmoid_derivative(self.z_values[i-1])\n",
    "            deltas[i-1] = delta_hidden\n",
    "\n",
    "        for i in range(self.num_hidden_layers, -1, -1):\n",
    "            if i == self.num_hidden_layers:\n",
    "                self.weights[i] += cp.dot(self.z_values[i-1].T, deltas[i]) * learning_rate\n",
    "            elif i == 0:\n",
    "                self.weights[i] += cp.dot(X.T, deltas[i]) * learning_rate\n",
    "            else:\n",
    "                self.weights[i] += cp.dot(self.z_values[i-1].T, deltas[i]) * learning_rate\n",
    "\n",
    "    def train(self, X, y, epochs, learning_rate):\n",
    "        X = cp.array(X)\n",
    "        y = cp.array(y)\n",
    "\n",
    "        for i in range(epochs):\n",
    "            y_hat = self.forward(X)\n",
    "            self.backward(X, y, y_hat, learning_rate)\n",
    "            loss = cp.mean(cp.square(y - y_hat))\n",
    "            if i % 100 == 0:\n",
    "                print(f\"Epoch {i}: loss = {loss}\")\n",
    "\n",
    "    def predict(self, X):\n",
    "        X = cp.array(X)\n",
    "        y_hat = self.forward(X)\n",
    "        return y_hat.get()\n"
   ]
  },
  {
   "cell_type": "markdown",
   "metadata": {
    "id": "OOO4v490Mid-"
   },
   "source": [
    "1. Inisialisasi:\n",
    "- Pada metode __init__(), parameter yang diberikan adalah input_size (ukuran input), hidden_sizes (daftar ukuran hidden layer), dan output_size (ukuran output).\n",
    "- Dalam inisialisasi, atribut-atribut seperti input_size, hidden_sizes, dan output_size disimpan untuk digunakan kemudian.\n",
    "- Bobot jaringan diinisialisasi secara acak dengan menggunakan nilai acak dari distribusi normal menggunakan cp.random.randn(). Bobot diinisialisasi antara layer input dan layer pertama hidden layer, serta antara setiap pasangan hidden layer.\n",
    "- Bobot tersebut disimpan dalam daftar self.weights, yang akan digunakan dalam proses propagasi maju dan mundur.\n",
    "\n",
    "2. Propagasi Maju (Forward Propagation):\n",
    "\n",
    "- Metode forward() digunakan untuk melakukan propagasi maju (forward propagation).\n",
    "- Input data X diteruskan melalui setiap layer dan aktivasi sigmoid diterapkan pada setiap layer menggunakan bobot yang sesuai.\n",
    "- Setiap hasil perkalian matriks antara input data dan bobot disimpan dalam daftar self.z_values untuk digunakan dalam propagasi mundur.\n",
    "\n",
    "3. Propagasi Mundur (Backward Propagation):\n",
    "- Metode backward() digunakan untuk melakukan propagasi mundur (backward propagation).\n",
    "- Delta (gradien) dihitung untuk setiap layer, dimulai dari output layer.\n",
    "- Delta output layer dihitung berdasarkan perbedaan antara target y dan output prediksi y_hat, dikalikan dengan turunan sigmoid dari output prediksi.\n",
    "- Delta untuk setiap hidden layer dihitung berdasarkan perkalian dot antara delta di layer selanjutnya dengan bobot yang terkait, dikalikan dengan turunan sigmoid dari nilai z di layer terkait.\n",
    "- Bobot diperbarui dengan mengalikan dot antara aktivasi (output) dari layer sebelumnya dengan delta saat ini, dikalikan dengan laju pembelajaran (learning_rate).\n",
    "\n",
    "4. Pelatihan (Training):\n",
    "- Metode train() digunakan untuk melatih jaringan menggunakan data pelatihan.\n",
    "- Pada setiap iterasi epoch, dilakukan propagasi maju untuk mendapatkan output prediksi y_hat.\n",
    "- Dilakukan propagasi mundur untuk menghitung delta dan memperbarui bobot jaringan.\n",
    "- Loss dihitung berdasarkan perbedaan antara target y dan output prediksi y_hat.\n",
    "- Setiap 100 epoch, nilai loss dicetak untuk melihat perkembangan pelatihan.\n",
    "\n",
    "5. Prediksi:\n",
    "- Metode predict() digunakan untuk melakukan prediksi pada data input X.\n",
    "- Propagasi maju dilakukan untuk mendapatkan output prediksi y_hat berdasarkan bobot yang telah dilatih.\n",
    "- Output prediksi dikembalikan sebagai hasil prediksi.\n",
    "\n",
    "\n",
    "**Catatan* :\n",
    "\n",
    "\n",
    "Fungsi: <b>Forward propagation</b> adalah tahap pertama dalam proses di mana input data diteruskan melalui jaringan neural untuk menghasilkan output. Ini adalah tahap penghitungan dan penyebaran informasi ke depan melalui berbagai lapisan (layer) dalam jaringan.\n",
    "\n",
    "Fungsi: <b>Backward propagation</b> adalah tahap kedua dalam proses di mana kesalahan (error) antara output yang dihasilkan oleh jaringan dan target yang sebenarnya digunakan untuk mengkoreksi bobot dan bias dalam jaringan."
   ]
  },
  {
   "cell_type": "code",
   "execution_count": null,
   "metadata": {
    "id": "zGe0pYOAebzG"
   },
   "outputs": [],
   "source": [
    "input_size = X_train.shape[1]\n",
    "hidden_size = [5,5] # 2 Hidden layer dengan masing-masing 5 neuron / unit\n",
    "output_size = len(cp.unique(y_train))\n",
    "epochs = 3000\n",
    "learning_rate = 0.5\n",
    "\n",
    "# Membangun dan melatih jaringan saraf tiruan\n",
    "model = NeuralNetwork(input_size, hidden_size, output_size)"
   ]
  },
  {
   "cell_type": "markdown",
   "metadata": {
    "id": "eCaNPaWAMid-"
   },
   "source": [
    "- input_size = X_train.shape[1]: Variabel input_size diinisialisasi dengan jumlah fitur (kolom) dalam data pelatihan X_train. Hal ini dilakukan untuk menentukan ukuran input layer pada jaringan saraf tiruan.\n",
    "\n",
    "X_train.shape[1] mengambil jumlah kolom pada dataset yang dijadikan sebagai input sejumlah 6 kolom\n"
   ]
  },
  {
   "cell_type": "code",
   "execution_count": null,
   "metadata": {
    "id": "C6ewrAlNMid-",
    "outputId": "27f37e18-3d0b-4612-8bfd-cb36af055539"
   },
   "outputs": [],
   "source": [
    "X_train.shape[1]"
   ]
  },
  {
   "cell_type": "markdown",
   "metadata": {
    "id": "7Tt8nCWKMid-"
   },
   "source": [
    "- hidden_size = [5,5]: Variabel hidden_size diinisialisasi dengan nilai dari sebuah list yaitu [5,5]. Ini menentukan jumlah neuron di dalam hidden layer pada jaringan saraf tiruan dan menentukan banyaknya jumlah hidden layer dari banyaknya jumlah nilai dalam sebuah list\n",
    "\n",
    "[5,5] berarti hidden layer diatur sejumlah 2 dengan 5 neuron / unit di dalamnya"
   ]
  },
  {
   "cell_type": "markdown",
   "metadata": {
    "id": "6Yj9dUjlMieJ"
   },
   "source": [
    "- output_size = len(cp.unique(y_train)): Variabel output_size diinisialisasi dengan jumlah unik kelas dalam data pelatihan y_train. Hal ini dilakukan untuk menentukan ukuran output layer pada jaringan saraf tiruan.\n",
    "\n",
    "Dalam kasus ini, kode tersebut akan memberikan nilai 2, dikarenakan output yang diharapkan dari pelatihan model adalah untuk klasifikasi nilai 1 dan 0"
   ]
  },
  {
   "cell_type": "code",
   "execution_count": null,
   "metadata": {
    "id": "Ofz1hjffMieK",
    "outputId": "3627bec3-db88-4d40-e3f6-5572f7edf8b2"
   },
   "outputs": [],
   "source": [
    "len(cp.unique(y_train))"
   ]
  },
  {
   "cell_type": "markdown",
   "metadata": {
    "id": "BOwbkxZEMieK"
   },
   "source": [
    "\n",
    "- epochs = 3000: Variabel epochs diinisialisasi dengan nilai 3000. Ini menentukan jumlah iterasi (epoch) yang akan dilakukan saat melatih jaringan saraf tiruan.\n",
    "\n",
    "- learning_rate = 0.5: Variabel learning_rate diinisialisasi dengan nilai 0.5. Ini menentukan seberapa besar perubahan bobot akan dilakukan pada setiap iterasi saat melatih jaringan.\n",
    "\n",
    "- model = NeuralNetwork(input_size, hidden_size, output_size): Objek NeuralNetwork dibuat dengan menginisialisasi dengan input_size, hidden_size, dan output_size yang telah ditentukan sebelumnya. Ini akan membuat instance jaringan saraf tiruan dengan konfigurasi yang sesuai."
   ]
  },
  {
   "cell_type": "code",
   "execution_count": null,
   "metadata": {
    "id": "G8UsnX_MMieK"
   },
   "outputs": [],
   "source": [
    "# Library untuk menghitung waktu eksekusi / waktu yang dibutuhkan program ketika berjalan sampai selesai\n",
    "import time"
   ]
  },
  {
   "cell_type": "code",
   "execution_count": null,
   "metadata": {
    "colab": {
     "base_uri": "https://localhost:8080/"
    },
    "id": "ZmjHE0tDfVPX",
    "outputId": "31fa0ef8-881f-4dec-c54b-5151010536e9"
   },
   "outputs": [],
   "source": [
    "# Melatih model\n",
    "start_time = time.time()\n",
    "model.train(X_train, y_train.reshape(-1, 1), epochs, learning_rate)\n",
    "end_time = time.time()\n",
    "\n",
    "execution_time = end_time - start_time\n",
    "print(\"Waktu eksekusi kode :\", round(execution_time,2), \"detik\")"
   ]
  },
  {
   "cell_type": "code",
   "execution_count": null,
   "metadata": {
    "id": "ScXqZ0ZOg0m-"
   },
   "outputs": [],
   "source": [
    "# Melakukan prediksi pada data uji\n",
    "y_pred = model.predict(X_test)"
   ]
  },
  {
   "cell_type": "code",
   "execution_count": null,
   "metadata": {
    "colab": {
     "base_uri": "https://localhost:8080/"
    },
    "id": "uVQF9wC4g2EJ",
    "outputId": "d2dc0d33-fda4-42b8-b7e6-fa606ec5c2b9"
   },
   "outputs": [],
   "source": [
    "# Melihat tipe data pada variabel y_pred\n",
    "y_pred.dtype"
   ]
  },
  {
   "cell_type": "code",
   "execution_count": null,
   "metadata": {
    "id": "IEHpljo_MieL",
    "outputId": "284fcb4b-06d0-4075-c6f9-610456e7c7c0"
   },
   "outputs": [],
   "source": [
    "# Menggunakan np.unique() dan np.bincount() untuk menghitung value counts\n",
    "unique_values, value_counts = cp.unique(y_pred, return_counts=True)\n",
    "\n",
    "# Cetak value counts / jumlah nilai pada variabel y_pred\n",
    "for value, count in zip(unique_values, value_counts):\n",
    "    print(f\"Nilai: {value}, Jumlah: {count}\")"
   ]
  },
  {
   "cell_type": "markdown",
   "metadata": {
    "id": "H6gXSfqVMieM"
   },
   "source": [
    "Dapat dilihat bahwa terdapat nilai-nilai hasil klasifikasi yang masih bersifat kontinu, mari menerapkan threshold sehingga nilainya menjadi diskrit (1 dan 0) di bawah ini"
   ]
  },
  {
   "cell_type": "code",
   "execution_count": null,
   "metadata": {
    "id": "Wx72i3LLMieM"
   },
   "outputs": [],
   "source": [
    "y_pred_label = (y_pred >= 0.5).astype(int)"
   ]
  },
  {
   "cell_type": "code",
   "execution_count": null,
   "metadata": {
    "id": "48dP5DFNMieM",
    "outputId": "aa967dc7-a255-4d47-d6ea-5d3557e594cc"
   },
   "outputs": [],
   "source": [
    "# Menggunakan np.unique() dan np.bincount() untuk menghitung value counts\n",
    "unique_values, value_counts = cp.unique(y_pred_label, return_counts=True)\n",
    "\n",
    "# Cetak value counts\n",
    "for value, count in zip(unique_values, value_counts):\n",
    "    print(f\"Nilai: {value}, Jumlah: {count}\")"
   ]
  },
  {
   "cell_type": "code",
   "execution_count": null,
   "metadata": {
    "id": "m3ZjdvhxMieM"
   },
   "outputs": [],
   "source": [
    "from sklearn.metrics import accuracy_score"
   ]
  },
  {
   "cell_type": "code",
   "execution_count": null,
   "metadata": {
    "id": "rgNQoP-AMieM",
    "outputId": "05c72d5a-90e0-456a-af52-cbac2227e1ee"
   },
   "outputs": [],
   "source": [
    "# Menghitung akurasi model dalam klasifikasi masing-masing kelas 0 dan 1\n",
    "y_pred_label_0 = (y_pred[:, 1] < 0.5).astype(int)\n",
    "y_pred_label_1 = (y_pred[:, 1] >= 0.5).astype(int)\n",
    "\n",
    "accuracy_label_0 = accuracy_score(y_test, y_pred_label_0)\n",
    "accuracy_label_1 = accuracy_score(y_test, y_pred_label_1)\n",
    "\n",
    "print(\"Akurasi model untuk label 0: \", accuracy_label_0)\n",
    "print(\"Akurasi model untuk label 1: \", accuracy_label_1)"
   ]
  },
  {
   "cell_type": "code",
   "execution_count": null,
   "metadata": {
    "id": "FSvHsY59MieN"
   },
   "outputs": [],
   "source": [
    "# Melihat akurasi model dalam melakukan klasifikasi kelas 0 dan 1 secara gabungan / bersamaan\n",
    "y_test_label_0 = y_test\n",
    "y_test_label_1 = y_test"
   ]
  },
  {
   "cell_type": "code",
   "execution_count": null,
   "metadata": {
    "id": "Y54nMzF7MieN"
   },
   "outputs": [],
   "source": [
    "y_pred_combined = cp.hstack((y_pred_label[:, 0], y_pred_label[:, 1]))\n",
    "y_test_combined = cp.hstack((y_test_label_0, y_test_label_1))"
   ]
  },
  {
   "cell_type": "code",
   "execution_count": null,
   "metadata": {
    "id": "WIlK2PZhMieN",
    "outputId": "7d5d8b38-3220-46d1-a330-2d6af1a8d345"
   },
   "outputs": [],
   "source": [
    "accuracy_combined = accuracy_score(y_test_combined.get(), y_pred_combined.get())\n",
    "print(accuracy_combined)"
   ]
  },
  {
   "cell_type": "code",
   "execution_count": null,
   "metadata": {
    "id": "2CR-dcxOMieN",
    "outputId": "1105fb5e-71cd-46a5-de77-d998baee5f12"
   },
   "outputs": [],
   "source": [
    "from sklearn.metrics import precision_score, recall_score, f1_score\n",
    "\n",
    "# Menghitung precision\n",
    "precision = precision_score(y_test_combined.get(), y_pred_combined.get(), average=None)\n",
    "print(\"Precision untuk kelas 0:\", precision[0])\n",
    "print(\"Precision untuk kelas 1:\", precision[1])\n",
    "\n",
    "# Menghitung recall\n",
    "recall = recall_score(y_test_combined.get(), y_pred_combined.get(), average=None)\n",
    "print(\"Recall untuk kelas 0:\", recall[0])\n",
    "print(\"Recall untuk kelas 1:\", recall[1])\n",
    "\n",
    "# Menghitung F1-score\n",
    "f1 = f1_score(y_test_combined.get(), y_pred_combined.get(), average=None)\n",
    "print(\"F1-score untuk kelas 0:\", f1[0])\n",
    "print(\"F1-score untuk kelas 1:\", f1[1])\n"
   ]
  }
 ],
 "metadata": {
  "accelerator": "GPU",
  "colab": {
   "gpuType": "T4",
   "provenance": []
  },
  "kernelspec": {
   "display_name": "Python 3 (ipykernel)",
   "language": "python",
   "name": "python3"
  },
  "language_info": {
   "codemirror_mode": {
    "name": "ipython",
    "version": 3
   },
   "file_extension": ".py",
   "mimetype": "text/x-python",
   "name": "python",
   "nbconvert_exporter": "python",
   "pygments_lexer": "ipython3",
   "version": "3.10.10"
  }
 },
 "nbformat": 4,
 "nbformat_minor": 4
}
