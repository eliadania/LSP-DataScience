{
 "cells": [
  {
   "cell_type": "markdown",
   "id": "30fce050",
   "metadata": {
    "id": "30fce050"
   },
   "source": [
    "<center>\n",
    "    <img src=\"https://drive.google.com/uc?export=view&id=1hDKusF04c0lNZA_qOShvWQrpImayVKz8\"  width=\"1000\" />\n",
    "</center>"
   ]
  },
  {
   "cell_type": "markdown",
   "id": "78957aef",
   "metadata": {
    "id": "78957aef"
   },
   "source": [
    "# Hands-On\n",
    "---\n",
    "Hands-On ini digunakan pada kegiatan Kursus Data Science yang merupakan pembekalan bagi mahasiswa Universitas Gunadarma untuk Skema Associate Data Scientist"
   ]
  },
  {
   "cell_type": "markdown",
   "id": "e1d3e6a4",
   "metadata": {
    "id": "e1d3e6a4"
   },
   "source": [
    "### Pertemuan 4 - Semester 7"
   ]
  },
  {
   "cell_type": "markdown",
   "id": "d4269619",
   "metadata": {
    "id": "d4269619"
   },
   "source": [
    "### Daftar Isi :\n",
    "Membangun Model dan Mengevaluasi Hasil Pemodelan\n",
    "- Supervised Learning\n",
    "    - Klasifikasi\n",
    "    1. Menggunakan machine learning\n",
    "    2. Menggunakan deep learning\n",
    "\n",
    "- Unsupervised Learning"
   ]
  },
  {
   "cell_type": "markdown",
   "id": "1157e033",
   "metadata": {
    "id": "1157e033"
   },
   "source": [
    "### Supervised Learning dan Unsupervised Learning"
   ]
  },
  {
   "cell_type": "markdown",
   "id": "77699057",
   "metadata": {
    "id": "77699057"
   },
   "source": [
    "<center>\n",
    "    <img src=\"https://miro.medium.com/v2/resize:fit:720/format:webp/0*H4D11uM2V6wcgK4k.png\"  width=\"300\" />\n",
    "    <figcaption>Ilustrasi Supervised dan Unsupervised Learning</figcaption>\n",
    "</center>"
   ]
  },
  {
   "cell_type": "markdown",
   "id": "1c5d9ad2",
   "metadata": {
    "id": "1c5d9ad2"
   },
   "source": [
    "### Supervised Learning\n",
    "Supervised learning adalah jenis pembelajaran mesin di mana algoritma diajari menggunakan data yang sudah diberi label. Dalam supervised learning, ada variabel target (variabel dependen) yang ingin diprediksi, dan algoritma dilatih untuk menghubungkan fitur atau atribut yang ada dalam data dengan target yang telah diberikan (variabel independen).\n",
    "\n",
    "Supervised learning biasanya digunakan untuk dua hal utama :\n",
    "- Classification\n",
    "- Regression\n",
    "\n",
    "Beberapa algoritma supervised learning :\n",
    "1. Linear Regression\n",
    "2. Logistic Regression\n",
    "3. K-Nearest Neighbours\n",
    "4. Decision Trees\n",
    "5. SVM\n",
    "6. Naive Bayes\n",
    "7. Neural Networks"
   ]
  },
  {
   "cell_type": "markdown",
   "id": "032330ca",
   "metadata": {
    "id": "032330ca"
   },
   "source": [
    "### Unsupervised Learning\n",
    "Unsupervised learning adalah jenis pembelajaran mesin di mana algoritma dilatih dari data yang tidak memiliki label atau target yang jelas. Dalam unsupervised learning, tujuannya adalah menemukan pola, struktur, dan hubungan tersembunyi dalam data tanpa arahan yang eksplisit.\n",
    "\n",
    "Umumnya unsupervised learning digunakan untuk tiga hal utama:\n",
    "- Clustering\n",
    "- Association\n",
    "- Dimensionality reduction\n",
    "\n",
    "Salah satu contoh unsupervised Learning algorithms :\n",
    "1. K-Means"
   ]
  },
  {
   "cell_type": "markdown",
   "id": "459b3805",
   "metadata": {
    "id": "459b3805"
   },
   "source": [
    "### 1. Membangun Model Supervised Learning dan Mengevaluasi Hasil Pemodelan\n",
    "\n",
    "---"
   ]
  },
  {
   "cell_type": "markdown",
   "id": "7204be47",
   "metadata": {
    "id": "7204be47"
   },
   "source": [
    "### 1.1 Supervised Learning dengan Linear Regression, Logistic Regression, dan K-NN"
   ]
  },
  {
   "cell_type": "markdown",
   "id": "322cf534",
   "metadata": {
    "id": "322cf534"
   },
   "source": [
    "### 1.1.1 Linear Regression\n",
    "-----"
   ]
  },
  {
   "cell_type": "markdown",
   "id": "dd7eb56e",
   "metadata": {
    "id": "dd7eb56e"
   },
   "source": [
    "Linear regression digunakan untuk mengestimasi hubungan antara satu variabel independen (x) dan satu variabel dependen (y). Dalam kasus ini, kita berasumsi bahwa kolom \"Time\" sebagai variabel independen memiliki  korelasi dengan kolom \"Class\" yang memiliki data 0 & 1 atau \"Not Delayed\" & \"Delayed\" sebagai variabel dependen (y)"
   ]
  },
  {
   "cell_type": "code",
   "execution_count": 1,
   "id": "4e79565a",
   "metadata": {
    "id": "4e79565a"
   },
   "outputs": [],
   "source": [
    "# Import Library\n",
    "import pandas as pd"
   ]
  },
  {
   "cell_type": "code",
   "execution_count": 2,
   "id": "73a101e6",
   "metadata": {
    "id": "73a101e6"
   },
   "outputs": [],
   "source": [
    "df = pd.read_csv('delay_maskapai.csv')"
   ]
  },
  {
   "cell_type": "code",
   "execution_count": 3,
   "id": "905cdf91",
   "metadata": {
    "id": "905cdf91"
   },
   "outputs": [],
   "source": [
    "# Membuang Kolom \"Flight\"\n",
    "df = df.iloc[:,1:]"
   ]
  },
  {
   "cell_type": "code",
   "execution_count": 4,
   "id": "716b7524",
   "metadata": {
    "id": "716b7524",
    "outputId": "4788e0fc-3674-403d-eaa7-867fea73ab97",
    "scrolled": true
   },
   "outputs": [
    {
     "data": {
      "text/html": [
       "<div>\n",
       "<style scoped>\n",
       "    .dataframe tbody tr th:only-of-type {\n",
       "        vertical-align: middle;\n",
       "    }\n",
       "\n",
       "    .dataframe tbody tr th {\n",
       "        vertical-align: top;\n",
       "    }\n",
       "\n",
       "    .dataframe thead th {\n",
       "        text-align: right;\n",
       "    }\n",
       "</style>\n",
       "<table border=\"1\" class=\"dataframe\">\n",
       "  <thead>\n",
       "    <tr style=\"text-align: right;\">\n",
       "      <th></th>\n",
       "      <th>Time</th>\n",
       "      <th>Length</th>\n",
       "      <th>Airline</th>\n",
       "      <th>AirportFrom</th>\n",
       "      <th>AirportTo</th>\n",
       "      <th>DayOfWeek</th>\n",
       "      <th>Class</th>\n",
       "    </tr>\n",
       "  </thead>\n",
       "  <tbody>\n",
       "    <tr>\n",
       "      <th>0</th>\n",
       "      <td>870.0</td>\n",
       "      <td>180.0</td>\n",
       "      <td>CO</td>\n",
       "      <td>IAH</td>\n",
       "      <td>PHX</td>\n",
       "      <td>5</td>\n",
       "      <td>0</td>\n",
       "    </tr>\n",
       "    <tr>\n",
       "      <th>1</th>\n",
       "      <td>365.0</td>\n",
       "      <td>66.0</td>\n",
       "      <td>OO</td>\n",
       "      <td>DSM</td>\n",
       "      <td>MKE</td>\n",
       "      <td>2</td>\n",
       "      <td>0</td>\n",
       "    </tr>\n",
       "    <tr>\n",
       "      <th>2</th>\n",
       "      <td>740.0</td>\n",
       "      <td>257.0</td>\n",
       "      <td>DL</td>\n",
       "      <td>SEA</td>\n",
       "      <td>CVG</td>\n",
       "      <td>7</td>\n",
       "      <td>0</td>\n",
       "    </tr>\n",
       "  </tbody>\n",
       "</table>\n",
       "</div>"
      ],
      "text/plain": [
       "    Time  Length Airline AirportFrom AirportTo  DayOfWeek  Class\n",
       "0  870.0   180.0      CO         IAH       PHX          5      0\n",
       "1  365.0    66.0      OO         DSM       MKE          2      0\n",
       "2  740.0   257.0      DL         SEA       CVG          7      0"
      ]
     },
     "execution_count": 4,
     "metadata": {},
     "output_type": "execute_result"
    }
   ],
   "source": [
    "df.head(3)"
   ]
  },
  {
   "cell_type": "code",
   "execution_count": 5,
   "id": "605f5510",
   "metadata": {
    "id": "605f5510"
   },
   "outputs": [],
   "source": [
    "# Scaling\n",
    "from sklearn.preprocessing import RobustScaler"
   ]
  },
  {
   "cell_type": "code",
   "execution_count": 6,
   "id": "86e01ad0",
   "metadata": {
    "id": "86e01ad0",
    "outputId": "46307e5c-7380-4511-93d1-a7ce27625fd5"
   },
   "outputs": [
    {
     "data": {
      "text/html": [
       "<div>\n",
       "<style scoped>\n",
       "    .dataframe tbody tr th:only-of-type {\n",
       "        vertical-align: middle;\n",
       "    }\n",
       "\n",
       "    .dataframe tbody tr th {\n",
       "        vertical-align: top;\n",
       "    }\n",
       "\n",
       "    .dataframe thead th {\n",
       "        text-align: right;\n",
       "    }\n",
       "</style>\n",
       "<table border=\"1\" class=\"dataframe\">\n",
       "  <thead>\n",
       "    <tr style=\"text-align: right;\">\n",
       "      <th></th>\n",
       "      <th>Time</th>\n",
       "      <th>Length</th>\n",
       "      <th>Airline</th>\n",
       "      <th>AirportFrom</th>\n",
       "      <th>AirportTo</th>\n",
       "      <th>DayOfWeek</th>\n",
       "      <th>Class</th>\n",
       "    </tr>\n",
       "  </thead>\n",
       "  <tbody>\n",
       "    <tr>\n",
       "      <th>0</th>\n",
       "      <td>0.160256</td>\n",
       "      <td>0.771084</td>\n",
       "      <td>CO</td>\n",
       "      <td>IAH</td>\n",
       "      <td>PHX</td>\n",
       "      <td>5</td>\n",
       "      <td>0</td>\n",
       "    </tr>\n",
       "    <tr>\n",
       "      <th>1</th>\n",
       "      <td>-0.918803</td>\n",
       "      <td>-0.602410</td>\n",
       "      <td>OO</td>\n",
       "      <td>DSM</td>\n",
       "      <td>MKE</td>\n",
       "      <td>2</td>\n",
       "      <td>0</td>\n",
       "    </tr>\n",
       "    <tr>\n",
       "      <th>2</th>\n",
       "      <td>-0.117521</td>\n",
       "      <td>1.698795</td>\n",
       "      <td>DL</td>\n",
       "      <td>SEA</td>\n",
       "      <td>CVG</td>\n",
       "      <td>7</td>\n",
       "      <td>0</td>\n",
       "    </tr>\n",
       "    <tr>\n",
       "      <th>3</th>\n",
       "      <td>-0.427350</td>\n",
       "      <td>1.433735</td>\n",
       "      <td>WN</td>\n",
       "      <td>SNA</td>\n",
       "      <td>MDW</td>\n",
       "      <td>7</td>\n",
       "      <td>1</td>\n",
       "    </tr>\n",
       "    <tr>\n",
       "      <th>4</th>\n",
       "      <td>-0.566239</td>\n",
       "      <td>0.204819</td>\n",
       "      <td>CO</td>\n",
       "      <td>IAH</td>\n",
       "      <td>MCO</td>\n",
       "      <td>6</td>\n",
       "      <td>1</td>\n",
       "    </tr>\n",
       "  </tbody>\n",
       "</table>\n",
       "</div>"
      ],
      "text/plain": [
       "       Time    Length Airline AirportFrom AirportTo  DayOfWeek  Class\n",
       "0  0.160256  0.771084      CO         IAH       PHX          5      0\n",
       "1 -0.918803 -0.602410      OO         DSM       MKE          2      0\n",
       "2 -0.117521  1.698795      DL         SEA       CVG          7      0\n",
       "3 -0.427350  1.433735      WN         SNA       MDW          7      1\n",
       "4 -0.566239  0.204819      CO         IAH       MCO          6      1"
      ]
     },
     "execution_count": 6,
     "metadata": {},
     "output_type": "execute_result"
    }
   ],
   "source": [
    "scaler = RobustScaler()\n",
    "df[['Time','Length']] = scaler.fit_transform(df[['Time','Length']])\n",
    "df.head()"
   ]
  },
  {
   "cell_type": "code",
   "execution_count": 7,
   "id": "dabacfea",
   "metadata": {
    "id": "dabacfea"
   },
   "outputs": [],
   "source": [
    "# Membuat variabel independen (X) dan variabel dependen (y)\n",
    "X = df[['Time']]\n",
    "y = df['Class']"
   ]
  },
  {
   "cell_type": "markdown",
   "id": "6d6155b0",
   "metadata": {
    "id": "6d6155b0"
   },
   "source": [
    "Pada tahap selanjutnya, data dibagi menjadi 2 bagian:\n",
    "- Data Latih (Training Data): untuk mengembangkan model : 70%\n",
    "- Data Uji (Testing Data): untuk Mengukur performansi model 30%\n"
   ]
  },
  {
   "cell_type": "code",
   "execution_count": 8,
   "id": "eedf5bb2",
   "metadata": {
    "id": "eedf5bb2"
   },
   "outputs": [],
   "source": [
    "# Membagi dataset ke data latih dan data uji\n",
    "\n",
    "# Import fungsi train_test_split untuk membagi data dari libray sklearn dan modul model_selection\n",
    "from sklearn.model_selection import train_test_split\n",
    "\n",
    "X_train, X_test, y_train, y_test = train_test_split(X,y,test_size=0.3, random_state=0)"
   ]
  },
  {
   "cell_type": "markdown",
   "id": "1adad073",
   "metadata": {
    "id": "1adad073"
   },
   "source": [
    "Baris di atas adalah pemanggilan fungsi train_test_split untuk membagi dataset menjadi subset pelatihan dan pengujian.\n",
    "\n",
    "Parameter yang digunakan adalah:\n",
    "- X: Variabel independen (fitur) dari dataset.\n",
    "- y: Variabel dependen (target) yang ingin diprediksi dari dataset.\n",
    "- test_size: Ukuran subset pengujian, dinyatakan sebagai proporsi (misalnya 0.3 untuk 30% pengujian).\n",
    "- random_state: Nilai ini digunakan untuk mengontrol random state atau seed yang digunakan oleh fungsi dalam membagi dataset. Dalam kasus ini, menggunakan random_state=0 memastikan bahwa pemisahan dataset yang dihasilkan konsisten setiap kali kode dijalankan.\n",
    "\n",
    "\n",
    "Setelah memanggil fungsi, hasilnya akan ditugaskan ke empat variabel: X_train, X_test, y_train, dan y_test. Variabel X_train akan berisi subset pelatihan dari variabel independen, X_test akan berisi subset pengujian dari variabel independen, y_train akan berisi subset pelatihan dari variabel dependen, dan y_test akan berisi subset pengujian dari variabel dependen."
   ]
  },
  {
   "cell_type": "code",
   "execution_count": 9,
   "id": "f3da3b1d",
   "metadata": {
    "id": "f3da3b1d"
   },
   "outputs": [],
   "source": [
    "# Memanggil fungsi LinearRegression\n",
    "from sklearn.linear_model import LinearRegression"
   ]
  },
  {
   "cell_type": "code",
   "execution_count": 10,
   "id": "d387c4cc",
   "metadata": {
    "id": "d387c4cc",
    "outputId": "0fdaf707-61d9-41de-e2cd-9c6a4f42d3d4"
   },
   "outputs": [
    {
     "data": {
      "text/html": [
       "<style>#sk-container-id-1 {color: black;}#sk-container-id-1 pre{padding: 0;}#sk-container-id-1 div.sk-toggleable {background-color: white;}#sk-container-id-1 label.sk-toggleable__label {cursor: pointer;display: block;width: 100%;margin-bottom: 0;padding: 0.3em;box-sizing: border-box;text-align: center;}#sk-container-id-1 label.sk-toggleable__label-arrow:before {content: \"▸\";float: left;margin-right: 0.25em;color: #696969;}#sk-container-id-1 label.sk-toggleable__label-arrow:hover:before {color: black;}#sk-container-id-1 div.sk-estimator:hover label.sk-toggleable__label-arrow:before {color: black;}#sk-container-id-1 div.sk-toggleable__content {max-height: 0;max-width: 0;overflow: hidden;text-align: left;background-color: #f0f8ff;}#sk-container-id-1 div.sk-toggleable__content pre {margin: 0.2em;color: black;border-radius: 0.25em;background-color: #f0f8ff;}#sk-container-id-1 input.sk-toggleable__control:checked~div.sk-toggleable__content {max-height: 200px;max-width: 100%;overflow: auto;}#sk-container-id-1 input.sk-toggleable__control:checked~label.sk-toggleable__label-arrow:before {content: \"▾\";}#sk-container-id-1 div.sk-estimator input.sk-toggleable__control:checked~label.sk-toggleable__label {background-color: #d4ebff;}#sk-container-id-1 div.sk-label input.sk-toggleable__control:checked~label.sk-toggleable__label {background-color: #d4ebff;}#sk-container-id-1 input.sk-hidden--visually {border: 0;clip: rect(1px 1px 1px 1px);clip: rect(1px, 1px, 1px, 1px);height: 1px;margin: -1px;overflow: hidden;padding: 0;position: absolute;width: 1px;}#sk-container-id-1 div.sk-estimator {font-family: monospace;background-color: #f0f8ff;border: 1px dotted black;border-radius: 0.25em;box-sizing: border-box;margin-bottom: 0.5em;}#sk-container-id-1 div.sk-estimator:hover {background-color: #d4ebff;}#sk-container-id-1 div.sk-parallel-item::after {content: \"\";width: 100%;border-bottom: 1px solid gray;flex-grow: 1;}#sk-container-id-1 div.sk-label:hover label.sk-toggleable__label {background-color: #d4ebff;}#sk-container-id-1 div.sk-serial::before {content: \"\";position: absolute;border-left: 1px solid gray;box-sizing: border-box;top: 0;bottom: 0;left: 50%;z-index: 0;}#sk-container-id-1 div.sk-serial {display: flex;flex-direction: column;align-items: center;background-color: white;padding-right: 0.2em;padding-left: 0.2em;position: relative;}#sk-container-id-1 div.sk-item {position: relative;z-index: 1;}#sk-container-id-1 div.sk-parallel {display: flex;align-items: stretch;justify-content: center;background-color: white;position: relative;}#sk-container-id-1 div.sk-item::before, #sk-container-id-1 div.sk-parallel-item::before {content: \"\";position: absolute;border-left: 1px solid gray;box-sizing: border-box;top: 0;bottom: 0;left: 50%;z-index: -1;}#sk-container-id-1 div.sk-parallel-item {display: flex;flex-direction: column;z-index: 1;position: relative;background-color: white;}#sk-container-id-1 div.sk-parallel-item:first-child::after {align-self: flex-end;width: 50%;}#sk-container-id-1 div.sk-parallel-item:last-child::after {align-self: flex-start;width: 50%;}#sk-container-id-1 div.sk-parallel-item:only-child::after {width: 0;}#sk-container-id-1 div.sk-dashed-wrapped {border: 1px dashed gray;margin: 0 0.4em 0.5em 0.4em;box-sizing: border-box;padding-bottom: 0.4em;background-color: white;}#sk-container-id-1 div.sk-label label {font-family: monospace;font-weight: bold;display: inline-block;line-height: 1.2em;}#sk-container-id-1 div.sk-label-container {text-align: center;}#sk-container-id-1 div.sk-container {/* jupyter's `normalize.less` sets `[hidden] { display: none; }` but bootstrap.min.css set `[hidden] { display: none !important; }` so we also need the `!important` here to be able to override the default hidden behavior on the sphinx rendered scikit-learn.org. See: https://github.com/scikit-learn/scikit-learn/issues/21755 */display: inline-block !important;position: relative;}#sk-container-id-1 div.sk-text-repr-fallback {display: none;}</style><div id=\"sk-container-id-1\" class=\"sk-top-container\"><div class=\"sk-text-repr-fallback\"><pre>LinearRegression()</pre><b>In a Jupyter environment, please rerun this cell to show the HTML representation or trust the notebook. <br />On GitHub, the HTML representation is unable to render, please try loading this page with nbviewer.org.</b></div><div class=\"sk-container\" hidden><div class=\"sk-item\"><div class=\"sk-estimator sk-toggleable\"><input class=\"sk-toggleable__control sk-hidden--visually\" id=\"sk-estimator-id-1\" type=\"checkbox\" checked><label for=\"sk-estimator-id-1\" class=\"sk-toggleable__label sk-toggleable__label-arrow\">LinearRegression</label><div class=\"sk-toggleable__content\"><pre>LinearRegression()</pre></div></div></div></div></div>"
      ],
      "text/plain": [
       "LinearRegression()"
      ]
     },
     "execution_count": 10,
     "metadata": {},
     "output_type": "execute_result"
    }
   ],
   "source": [
    "# Memanggil objek LinearRegression ke dalam variabel mlr\n",
    "lr = LinearRegression()\n",
    "\n",
    "# Melatih model\n",
    "lr.fit(X_train, y_train)"
   ]
  },
  {
   "cell_type": "code",
   "execution_count": 11,
   "id": "cfe7e0bc",
   "metadata": {
    "id": "cfe7e0bc",
    "outputId": "8c91899c-c7ee-4a5c-e9bb-66c2db4db6c3"
   },
   "outputs": [
    {
     "name": "stdout",
     "output_type": "stream",
     "text": [
      "Prediction for test set: [0.35703248 0.44699077 0.53455018 ... 0.4743381  0.3973338  0.48897131]\n"
     ]
    }
   ],
   "source": [
    "# Memprediksi model\n",
    "y_pred_lr = lr.predict(X_test)\n",
    "# Nilai prediksi\n",
    "print(\"Prediction for test set: {}\".format(y_pred_lr))"
   ]
  },
  {
   "cell_type": "code",
   "execution_count": 12,
   "id": "3b2b81ca",
   "metadata": {
    "id": "3b2b81ca",
    "outputId": "49520c5e-b45c-48b2-c9b2-118729e50c87",
    "scrolled": true
   },
   "outputs": [
    {
     "data": {
      "text/html": [
       "<div>\n",
       "<style scoped>\n",
       "    .dataframe tbody tr th:only-of-type {\n",
       "        vertical-align: middle;\n",
       "    }\n",
       "\n",
       "    .dataframe tbody tr th {\n",
       "        vertical-align: top;\n",
       "    }\n",
       "\n",
       "    .dataframe thead th {\n",
       "        text-align: right;\n",
       "    }\n",
       "</style>\n",
       "<table border=\"1\" class=\"dataframe\">\n",
       "  <thead>\n",
       "    <tr style=\"text-align: right;\">\n",
       "      <th></th>\n",
       "      <th>Actual value</th>\n",
       "      <th>Predicted value</th>\n",
       "    </tr>\n",
       "  </thead>\n",
       "  <tbody>\n",
       "    <tr>\n",
       "      <th>7823</th>\n",
       "      <td>1</td>\n",
       "      <td>0.357032</td>\n",
       "    </tr>\n",
       "    <tr>\n",
       "      <th>6132</th>\n",
       "      <td>0</td>\n",
       "      <td>0.446991</td>\n",
       "    </tr>\n",
       "    <tr>\n",
       "      <th>9949</th>\n",
       "      <td>0</td>\n",
       "      <td>0.534550</td>\n",
       "    </tr>\n",
       "    <tr>\n",
       "      <th>10440</th>\n",
       "      <td>0</td>\n",
       "      <td>0.517518</td>\n",
       "    </tr>\n",
       "    <tr>\n",
       "      <th>9097</th>\n",
       "      <td>1</td>\n",
       "      <td>0.448190</td>\n",
       "    </tr>\n",
       "  </tbody>\n",
       "</table>\n",
       "</div>"
      ],
      "text/plain": [
       "       Actual value  Predicted value\n",
       "7823              1         0.357032\n",
       "6132              0         0.446991\n",
       "9949              0         0.534550\n",
       "10440             0         0.517518\n",
       "9097              1         0.448190"
      ]
     },
     "execution_count": 12,
     "metadata": {},
     "output_type": "execute_result"
    }
   ],
   "source": [
    "# Membandingkan nilai sebenarnya dengan nilai prediksi menggunakan linear regression\n",
    "lr_diff = pd.DataFrame({'Actual value': y_test, 'Predicted value': y_pred_lr})\n",
    "lr_diff.head()"
   ]
  },
  {
   "cell_type": "markdown",
   "id": "c3f55e63",
   "metadata": {
    "id": "c3f55e63"
   },
   "source": [
    "Dapat dilihat di atas bahwa algoritma linear regression bukan pilihan yang tepat untuk dipakai ketika target yang ingin diprediksi bersifat diskrit, karena linear regression menghasilkan output kontinu dari jarak 0-1, sementara output yang kita ingin prediksi bersifat diskrit yaitu 0 dan 1 atau \"Tidak delay\" dan \"Delay\".\n",
    "\n",
    "Dalam hal ini dapat diterapkan threshold untuk mendapatkan hasil yang bersifat diskrit, seperti :\n",
    "- Jika lebih dari 0.5 -> 1\n",
    "- Jika kurang dari 0.5 -> 0"
   ]
  },
  {
   "cell_type": "code",
   "execution_count": 13,
   "id": "57c81f95",
   "metadata": {
    "id": "57c81f95"
   },
   "outputs": [],
   "source": [
    "# Menerapkan threshold pada variabel y_pred_lr ke dalam variabel y_predict_class\n",
    "y_predict_class = [1 if prob > 0.5 else 0 for prob in y_pred_lr]"
   ]
  },
  {
   "cell_type": "code",
   "execution_count": 14,
   "id": "502bfea9",
   "metadata": {
    "id": "502bfea9",
    "outputId": "48cf59b8-be73-40dc-9a3e-a099c5590848"
   },
   "outputs": [
    {
     "name": "stdout",
     "output_type": "stream",
     "text": [
      "Accuracy: 0.562\n"
     ]
    }
   ],
   "source": [
    "# Import Library\n",
    "from sklearn.metrics import accuracy_score\n",
    "\n",
    "# Menghitung Akurasi\n",
    "print(\"Accuracy:\"\n",
    "      , round(accuracy_score(y_test, y_predict_class), 3)) # Membulatkan nilai akurasi menjadi tiga angka di belakang koma"
   ]
  }
 ],
 "metadata": {
  "colab": {
   "provenance": []
  },
  "kernelspec": {
   "display_name": "Python 3 (ipykernel)",
   "language": "python",
   "name": "python3"
  },
  "language_info": {
   "codemirror_mode": {
    "name": "ipython",
    "version": 3
   },
   "file_extension": ".py",
   "mimetype": "text/x-python",
   "name": "python",
   "nbconvert_exporter": "python",
   "pygments_lexer": "ipython3",
   "version": "3.10.10"
  }
 },
 "nbformat": 4,
 "nbformat_minor": 5
}
